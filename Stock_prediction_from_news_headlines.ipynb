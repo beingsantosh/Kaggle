{
  "nbformat": 4,
  "nbformat_minor": 0,
  "metadata": {
    "anaconda-cloud": {},
    "kernelspec": {
      "display_name": "Python 3",
      "language": "python",
      "name": "python3"
    },
    "language_info": {
      "codemirror_mode": {
        "name": "ipython",
        "version": 3
      },
      "file_extension": ".py",
      "mimetype": "text/x-python",
      "name": "python",
      "nbconvert_exporter": "python",
      "pygments_lexer": "ipython3",
      "version": "3.8.5"
    },
    "colab": {
      "name": "Predict_Dow_with_News.ipynb",
      "provenance": [],
      "collapsed_sections": [
        "nClyXSOxZ5wb"
      ],
      "include_colab_link": true
    },
    "accelerator": "GPU"
  },
  "cells": [
    {
      "cell_type": "markdown",
      "metadata": {
        "id": "view-in-github",
        "colab_type": "text"
      },
      "source": [
        "<a href=\"https://colab.research.google.com/github/santoshkumarbvp/Kaggle/blob/main/Stock_prediction_from_news_headlines.ipynb\" target=\"_parent\"><img src=\"https://colab.research.google.com/assets/colab-badge.svg\" alt=\"Open In Colab\"/></a>"
      ]
    },
    {
      "cell_type": "markdown",
      "metadata": {
        "id": "QIQPRWKnZ5wM"
      },
      "source": [
        "# Predicting the Dow Jones with News"
      ]
    },
    {
      "cell_type": "markdown",
      "metadata": {
        "id": "mUOHNzKmZ5wO"
      },
      "source": [
        "The goal of this project is to use the top, daily news headlines from Reddit to predict the movement of the Dow Jones Industrial Average. The data for this project spans from 2008-08-08 to 2016-07-01, and is from this [Kaggle dataset](https://www.kaggle.com/aaron7sun/stocknews). \n",
        "\n",
        "The news from a given day will be used to predict the difference in opening price between that day, and the following day. This method is chosen because it should allow all of the day's news to be incorporated into the price compared to closing price, which could only incorporate the day's morning and afternoon news.\n",
        "\n",
        "For this project, we will use GloVe to create our word embeddings and CNNs followed by LSTMs to build our model. This model is based off the work done in this paper https://www.aclweb.org/anthology/C/C16/C16-1229.pdf."
      ]
    },
    {
      "cell_type": "code",
      "metadata": {
        "id": "t337evERZ5wO"
      },
      "source": [
        "import pandas as pd\n",
        "import numpy as np\n",
        "import tensorflow as tf\n",
        "import re\n",
        "from nltk.corpus import stopwords\n",
        "from sklearn.model_selection import train_test_split\n",
        "from sklearn.metrics import median_absolute_error as mae\n",
        "from sklearn.metrics import mean_squared_error as mse\n",
        "from sklearn.metrics import accuracy_score as acc\n",
        "import matplotlib.pyplot as plt\n",
        "\n",
        "from tensorflow.keras.models import Sequential\n",
        "from tensorflow.keras import initializers\n",
        "from tensorflow.keras.layers import Dropout, Activation, Embedding, Convolution1D, MaxPooling1D, Input, Dense, \\\n",
        "                         BatchNormalization, Flatten, Reshape, Concatenate\n",
        "from tensorflow.keras.layers import LSTM, GRU\n",
        "from tensorflow.keras.callbacks import Callback, ModelCheckpoint, EarlyStopping, ReduceLROnPlateau\n",
        "from tensorflow.keras.models import Model\n",
        "from tensorflow.keras.optimizers import Adam, SGD, RMSprop\n",
        "from tensorflow.keras import regularizers"
      ],
      "execution_count": 2,
      "outputs": []
    },
    {
      "cell_type": "code",
      "metadata": {
        "id": "YD3n8OWmZ5wP"
      },
      "source": [
        "dj = pd.read_csv(\"/content/drive/MyDrive/DowJones.csv\")\n",
        "news = pd.read_csv(\"/content/drive/MyDrive/News.csv\", sep=\",\")"
      ],
      "execution_count": 10,
      "outputs": []
    },
    {
      "cell_type": "markdown",
      "metadata": {
        "id": "0SPIlj2bZ5wP"
      },
      "source": [
        "## Inspect the data"
      ]
    },
    {
      "cell_type": "code",
      "metadata": {
        "id": "q6eKa2jqZ5wP",
        "colab": {
          "base_uri": "https://localhost:8080/",
          "height": 195
        },
        "outputId": "d991319b-5632-42e7-9802-4234daaa4c70"
      },
      "source": [
        "dj.head()"
      ],
      "execution_count": 11,
      "outputs": [
        {
          "output_type": "execute_result",
          "data": {
            "text/html": [
              "<div>\n",
              "<style scoped>\n",
              "    .dataframe tbody tr th:only-of-type {\n",
              "        vertical-align: middle;\n",
              "    }\n",
              "\n",
              "    .dataframe tbody tr th {\n",
              "        vertical-align: top;\n",
              "    }\n",
              "\n",
              "    .dataframe thead th {\n",
              "        text-align: right;\n",
              "    }\n",
              "</style>\n",
              "<table border=\"1\" class=\"dataframe\">\n",
              "  <thead>\n",
              "    <tr style=\"text-align: right;\">\n",
              "      <th></th>\n",
              "      <th>Date</th>\n",
              "      <th>Open</th>\n",
              "      <th>High</th>\n",
              "      <th>Low</th>\n",
              "      <th>Close</th>\n",
              "      <th>Volume</th>\n",
              "      <th>Adj Close</th>\n",
              "    </tr>\n",
              "  </thead>\n",
              "  <tbody>\n",
              "    <tr>\n",
              "      <th>0</th>\n",
              "      <td>2016-07-01</td>\n",
              "      <td>17924.240234</td>\n",
              "      <td>18002.380859</td>\n",
              "      <td>17916.910156</td>\n",
              "      <td>17949.369141</td>\n",
              "      <td>82160000</td>\n",
              "      <td>17949.369141</td>\n",
              "    </tr>\n",
              "    <tr>\n",
              "      <th>1</th>\n",
              "      <td>2016-06-30</td>\n",
              "      <td>17712.759766</td>\n",
              "      <td>17930.609375</td>\n",
              "      <td>17711.800781</td>\n",
              "      <td>17929.990234</td>\n",
              "      <td>133030000</td>\n",
              "      <td>17929.990234</td>\n",
              "    </tr>\n",
              "    <tr>\n",
              "      <th>2</th>\n",
              "      <td>2016-06-29</td>\n",
              "      <td>17456.019531</td>\n",
              "      <td>17704.509766</td>\n",
              "      <td>17456.019531</td>\n",
              "      <td>17694.679688</td>\n",
              "      <td>106380000</td>\n",
              "      <td>17694.679688</td>\n",
              "    </tr>\n",
              "    <tr>\n",
              "      <th>3</th>\n",
              "      <td>2016-06-28</td>\n",
              "      <td>17190.509766</td>\n",
              "      <td>17409.720703</td>\n",
              "      <td>17190.509766</td>\n",
              "      <td>17409.720703</td>\n",
              "      <td>112190000</td>\n",
              "      <td>17409.720703</td>\n",
              "    </tr>\n",
              "    <tr>\n",
              "      <th>4</th>\n",
              "      <td>2016-06-27</td>\n",
              "      <td>17355.210938</td>\n",
              "      <td>17355.210938</td>\n",
              "      <td>17063.080078</td>\n",
              "      <td>17140.240234</td>\n",
              "      <td>138740000</td>\n",
              "      <td>17140.240234</td>\n",
              "    </tr>\n",
              "  </tbody>\n",
              "</table>\n",
              "</div>"
            ],
            "text/plain": [
              "         Date          Open  ...     Volume     Adj Close\n",
              "0  2016-07-01  17924.240234  ...   82160000  17949.369141\n",
              "1  2016-06-30  17712.759766  ...  133030000  17929.990234\n",
              "2  2016-06-29  17456.019531  ...  106380000  17694.679688\n",
              "3  2016-06-28  17190.509766  ...  112190000  17409.720703\n",
              "4  2016-06-27  17355.210938  ...  138740000  17140.240234\n",
              "\n",
              "[5 rows x 7 columns]"
            ]
          },
          "metadata": {
            "tags": []
          },
          "execution_count": 11
        }
      ]
    },
    {
      "cell_type": "code",
      "metadata": {
        "id": "mDFqVMYtZ5wQ",
        "colab": {
          "base_uri": "https://localhost:8080/"
        },
        "outputId": "52f59112-2999-44d4-bff5-107427f4d522"
      },
      "source": [
        "dj.isnull().sum()"
      ],
      "execution_count": 12,
      "outputs": [
        {
          "output_type": "execute_result",
          "data": {
            "text/plain": [
              "Date         0\n",
              "Open         0\n",
              "High         0\n",
              "Low          0\n",
              "Close        0\n",
              "Volume       0\n",
              "Adj Close    0\n",
              "dtype: int64"
            ]
          },
          "metadata": {
            "tags": []
          },
          "execution_count": 12
        }
      ]
    },
    {
      "cell_type": "code",
      "metadata": {
        "id": "y7AWAh5kZ5wQ",
        "colab": {
          "base_uri": "https://localhost:8080/"
        },
        "outputId": "df9acbd8-39f6-49c1-ceec-1bfce6623340"
      },
      "source": [
        "news.isnull().sum()"
      ],
      "execution_count": 13,
      "outputs": [
        {
          "output_type": "execute_result",
          "data": {
            "text/plain": [
              "Date    0\n",
              "News    0\n",
              "dtype: int64"
            ]
          },
          "metadata": {
            "tags": []
          },
          "execution_count": 13
        }
      ]
    },
    {
      "cell_type": "code",
      "metadata": {
        "id": "lylbIbUWZ5wQ",
        "colab": {
          "base_uri": "https://localhost:8080/",
          "height": 195
        },
        "outputId": "04b86525-6793-4f69-ea3a-d9036acccbcd"
      },
      "source": [
        "news.head()"
      ],
      "execution_count": 14,
      "outputs": [
        {
          "output_type": "execute_result",
          "data": {
            "text/html": [
              "<div>\n",
              "<style scoped>\n",
              "    .dataframe tbody tr th:only-of-type {\n",
              "        vertical-align: middle;\n",
              "    }\n",
              "\n",
              "    .dataframe tbody tr th {\n",
              "        vertical-align: top;\n",
              "    }\n",
              "\n",
              "    .dataframe thead th {\n",
              "        text-align: right;\n",
              "    }\n",
              "</style>\n",
              "<table border=\"1\" class=\"dataframe\">\n",
              "  <thead>\n",
              "    <tr style=\"text-align: right;\">\n",
              "      <th></th>\n",
              "      <th>Date</th>\n",
              "      <th>News</th>\n",
              "    </tr>\n",
              "  </thead>\n",
              "  <tbody>\n",
              "    <tr>\n",
              "      <th>0</th>\n",
              "      <td>2016-07-01</td>\n",
              "      <td>A 117-year-old woman in Mexico City finally re...</td>\n",
              "    </tr>\n",
              "    <tr>\n",
              "      <th>1</th>\n",
              "      <td>2016-07-01</td>\n",
              "      <td>IMF chief backs Athens as permanent Olympic host</td>\n",
              "    </tr>\n",
              "    <tr>\n",
              "      <th>2</th>\n",
              "      <td>2016-07-01</td>\n",
              "      <td>The president of France says if Brexit won, so...</td>\n",
              "    </tr>\n",
              "    <tr>\n",
              "      <th>3</th>\n",
              "      <td>2016-07-01</td>\n",
              "      <td>British Man Who Must Give Police 24 Hours' Not...</td>\n",
              "    </tr>\n",
              "    <tr>\n",
              "      <th>4</th>\n",
              "      <td>2016-07-01</td>\n",
              "      <td>100+ Nobel laureates urge Greenpeace to stop o...</td>\n",
              "    </tr>\n",
              "  </tbody>\n",
              "</table>\n",
              "</div>"
            ],
            "text/plain": [
              "         Date                                               News\n",
              "0  2016-07-01  A 117-year-old woman in Mexico City finally re...\n",
              "1  2016-07-01   IMF chief backs Athens as permanent Olympic host\n",
              "2  2016-07-01  The president of France says if Brexit won, so...\n",
              "3  2016-07-01  British Man Who Must Give Police 24 Hours' Not...\n",
              "4  2016-07-01  100+ Nobel laureates urge Greenpeace to stop o..."
            ]
          },
          "metadata": {
            "tags": []
          },
          "execution_count": 14
        }
      ]
    },
    {
      "cell_type": "code",
      "metadata": {
        "id": "9wVd4SliZ5wQ",
        "colab": {
          "base_uri": "https://localhost:8080/"
        },
        "outputId": "8b3de39c-ce00-401f-a612-d472d7676c49"
      },
      "source": [
        "print(dj.shape)\n",
        "print(news.shape)"
      ],
      "execution_count": 15,
      "outputs": [
        {
          "output_type": "stream",
          "text": [
            "(1989, 7)\n",
            "(73608, 2)\n"
          ],
          "name": "stdout"
        }
      ]
    },
    {
      "cell_type": "code",
      "metadata": {
        "id": "DREObdM4Z5wR",
        "colab": {
          "base_uri": "https://localhost:8080/"
        },
        "outputId": "8e530169-b4d9-4cdb-ffbf-ed5f990cf028"
      },
      "source": [
        "# Compare the number of unique dates. We want matching values.\n",
        "print(len(set(dj.Date)))\n",
        "print(len(set(news.Date)))"
      ],
      "execution_count": 16,
      "outputs": [
        {
          "output_type": "stream",
          "text": [
            "1989\n",
            "2943\n"
          ],
          "name": "stdout"
        }
      ]
    },
    {
      "cell_type": "code",
      "metadata": {
        "id": "CKjRmepMZ5wR"
      },
      "source": [
        "# Remove the extra dates that are in news\n",
        "news = news[news.Date.isin(dj.Date)]"
      ],
      "execution_count": 17,
      "outputs": []
    },
    {
      "cell_type": "code",
      "metadata": {
        "id": "ugmvybSCZ5wR",
        "colab": {
          "base_uri": "https://localhost:8080/"
        },
        "outputId": "dd664e20-c6f5-462b-a34e-00be98fedca8"
      },
      "source": [
        "print(len(set(dj.Date)))\n",
        "print(len(set(news.Date)))"
      ],
      "execution_count": 18,
      "outputs": [
        {
          "output_type": "stream",
          "text": [
            "1989\n",
            "1989\n"
          ],
          "name": "stdout"
        }
      ]
    },
    {
      "cell_type": "code",
      "metadata": {
        "id": "RyAF1ESEZ5wR",
        "colab": {
          "base_uri": "https://localhost:8080/",
          "height": 195
        },
        "outputId": "b8e54646-c8b4-425b-a33e-0324dc63d73d"
      },
      "source": [
        "dj.head()"
      ],
      "execution_count": 19,
      "outputs": [
        {
          "output_type": "execute_result",
          "data": {
            "text/html": [
              "<div>\n",
              "<style scoped>\n",
              "    .dataframe tbody tr th:only-of-type {\n",
              "        vertical-align: middle;\n",
              "    }\n",
              "\n",
              "    .dataframe tbody tr th {\n",
              "        vertical-align: top;\n",
              "    }\n",
              "\n",
              "    .dataframe thead th {\n",
              "        text-align: right;\n",
              "    }\n",
              "</style>\n",
              "<table border=\"1\" class=\"dataframe\">\n",
              "  <thead>\n",
              "    <tr style=\"text-align: right;\">\n",
              "      <th></th>\n",
              "      <th>Date</th>\n",
              "      <th>Open</th>\n",
              "      <th>High</th>\n",
              "      <th>Low</th>\n",
              "      <th>Close</th>\n",
              "      <th>Volume</th>\n",
              "      <th>Adj Close</th>\n",
              "    </tr>\n",
              "  </thead>\n",
              "  <tbody>\n",
              "    <tr>\n",
              "      <th>0</th>\n",
              "      <td>2016-07-01</td>\n",
              "      <td>17924.240234</td>\n",
              "      <td>18002.380859</td>\n",
              "      <td>17916.910156</td>\n",
              "      <td>17949.369141</td>\n",
              "      <td>82160000</td>\n",
              "      <td>17949.369141</td>\n",
              "    </tr>\n",
              "    <tr>\n",
              "      <th>1</th>\n",
              "      <td>2016-06-30</td>\n",
              "      <td>17712.759766</td>\n",
              "      <td>17930.609375</td>\n",
              "      <td>17711.800781</td>\n",
              "      <td>17929.990234</td>\n",
              "      <td>133030000</td>\n",
              "      <td>17929.990234</td>\n",
              "    </tr>\n",
              "    <tr>\n",
              "      <th>2</th>\n",
              "      <td>2016-06-29</td>\n",
              "      <td>17456.019531</td>\n",
              "      <td>17704.509766</td>\n",
              "      <td>17456.019531</td>\n",
              "      <td>17694.679688</td>\n",
              "      <td>106380000</td>\n",
              "      <td>17694.679688</td>\n",
              "    </tr>\n",
              "    <tr>\n",
              "      <th>3</th>\n",
              "      <td>2016-06-28</td>\n",
              "      <td>17190.509766</td>\n",
              "      <td>17409.720703</td>\n",
              "      <td>17190.509766</td>\n",
              "      <td>17409.720703</td>\n",
              "      <td>112190000</td>\n",
              "      <td>17409.720703</td>\n",
              "    </tr>\n",
              "    <tr>\n",
              "      <th>4</th>\n",
              "      <td>2016-06-27</td>\n",
              "      <td>17355.210938</td>\n",
              "      <td>17355.210938</td>\n",
              "      <td>17063.080078</td>\n",
              "      <td>17140.240234</td>\n",
              "      <td>138740000</td>\n",
              "      <td>17140.240234</td>\n",
              "    </tr>\n",
              "  </tbody>\n",
              "</table>\n",
              "</div>"
            ],
            "text/plain": [
              "         Date          Open  ...     Volume     Adj Close\n",
              "0  2016-07-01  17924.240234  ...   82160000  17949.369141\n",
              "1  2016-06-30  17712.759766  ...  133030000  17929.990234\n",
              "2  2016-06-29  17456.019531  ...  106380000  17694.679688\n",
              "3  2016-06-28  17190.509766  ...  112190000  17409.720703\n",
              "4  2016-06-27  17355.210938  ...  138740000  17140.240234\n",
              "\n",
              "[5 rows x 7 columns]"
            ]
          },
          "metadata": {
            "tags": []
          },
          "execution_count": 19
        }
      ]
    },
    {
      "cell_type": "code",
      "metadata": {
        "id": "dCBF0jueZ5wS"
      },
      "source": [
        "# Calculate the difference in opening prices between the following and current day.\n",
        "# The model will try to predict how much the Open value will change beased on the news.\n",
        "dj = dj.set_index('Date').diff(periods=1)\n",
        "dj['Date'] = dj.index\n",
        "dj = dj.reset_index(drop=True)\n",
        "# Remove unneeded features\n",
        "dj = dj.drop(['High','Low','Close','Volume','Adj Close'], 1)"
      ],
      "execution_count": 20,
      "outputs": []
    },
    {
      "cell_type": "code",
      "metadata": {
        "id": "l1QwHBouZ5wS",
        "colab": {
          "base_uri": "https://localhost:8080/"
        },
        "outputId": "0ca08c88-e6a4-49ed-9560-d744f556550f"
      },
      "source": [
        "dj.head(), dj.shape"
      ],
      "execution_count": 21,
      "outputs": [
        {
          "output_type": "execute_result",
          "data": {
            "text/plain": [
              "(         Open        Date\n",
              " 0         NaN  2016-07-01\n",
              " 1 -211.480468  2016-06-30\n",
              " 2 -256.740235  2016-06-29\n",
              " 3 -265.509765  2016-06-28\n",
              " 4  164.701172  2016-06-27, (1989, 2))"
            ]
          },
          "metadata": {
            "tags": []
          },
          "execution_count": 21
        }
      ]
    },
    {
      "cell_type": "code",
      "metadata": {
        "id": "fmnHFdgjZ5wS"
      },
      "source": [
        "# Remove top row since it has a null value.\n",
        "dj = dj[dj.Open.notnull()]"
      ],
      "execution_count": 22,
      "outputs": []
    },
    {
      "cell_type": "code",
      "metadata": {
        "id": "u4svrfNZZ5wS",
        "colab": {
          "base_uri": "https://localhost:8080/"
        },
        "outputId": "3c1472c4-48e4-4086-8dd9-5361b836ffbc"
      },
      "source": [
        "dj.shape"
      ],
      "execution_count": 23,
      "outputs": [
        {
          "output_type": "execute_result",
          "data": {
            "text/plain": [
              "(1988, 2)"
            ]
          },
          "metadata": {
            "tags": []
          },
          "execution_count": 23
        }
      ]
    },
    {
      "cell_type": "code",
      "metadata": {
        "id": "7hzQLLclZ5wS",
        "colab": {
          "base_uri": "https://localhost:8080/"
        },
        "outputId": "f661d1f3-a239-484b-81bd-f3b397e832a4"
      },
      "source": [
        "# Check if there are any more null values.\n",
        "dj.isnull().sum()"
      ],
      "execution_count": 24,
      "outputs": [
        {
          "output_type": "execute_result",
          "data": {
            "text/plain": [
              "Open    0\n",
              "Date    0\n",
              "dtype: int64"
            ]
          },
          "metadata": {
            "tags": []
          },
          "execution_count": 24
        }
      ]
    },
    {
      "cell_type": "code",
      "metadata": {
        "colab": {
          "base_uri": "https://localhost:8080/"
        },
        "id": "Nt328SsQmBPy",
        "outputId": "2a7cd489-c9df-4e7b-8ceb-cdbbfd73703f"
      },
      "source": [
        "news.shape, dj.shape"
      ],
      "execution_count": 25,
      "outputs": [
        {
          "output_type": "execute_result",
          "data": {
            "text/plain": [
              "((49718, 2), (1988, 2))"
            ]
          },
          "metadata": {
            "tags": []
          },
          "execution_count": 25
        }
      ]
    },
    {
      "cell_type": "code",
      "metadata": {
        "id": "tvMKysdhZ5wT",
        "colab": {
          "base_uri": "https://localhost:8080/"
        },
        "outputId": "8baa322d-3930-483f-8b22-0aec0d6d34c0"
      },
      "source": [
        "# Create a list of the opening prices and their corresponding daily headlines from the news\n",
        "price = []\n",
        "headlines = []\n",
        "\n",
        "for row in dj.iterrows():\n",
        "    daily_headlines = []\n",
        "    date = row[1]['Date']\n",
        "    price.append(row[1]['Open'])\n",
        "    for row_ in news[news.Date==date].iterrows():\n",
        "        daily_headlines.append(row_[1]['News'])\n",
        "    \n",
        "    # Track progress\n",
        "    headlines.append(daily_headlines)\n",
        "    if len(price) % 500 == 0:\n",
        "        print(len(price))"
      ],
      "execution_count": 26,
      "outputs": [
        {
          "output_type": "stream",
          "text": [
            "500\n",
            "1000\n",
            "1500\n"
          ],
          "name": "stdout"
        }
      ]
    },
    {
      "cell_type": "code",
      "metadata": {
        "id": "SJYQ7qKUZ5wT",
        "colab": {
          "base_uri": "https://localhost:8080/"
        },
        "outputId": "7ae2b1e0-9b47-42ee-e18d-de61d8d00a4c"
      },
      "source": [
        "# Compare lengths to ensure they are the same\n",
        "print(len(price))\n",
        "print(len(headlines))"
      ],
      "execution_count": 27,
      "outputs": [
        {
          "output_type": "stream",
          "text": [
            "1988\n",
            "1988\n"
          ],
          "name": "stdout"
        }
      ]
    },
    {
      "cell_type": "code",
      "metadata": {
        "id": "swjMHx_OZ5wT",
        "colab": {
          "base_uri": "https://localhost:8080/"
        },
        "outputId": "25c1b884-cba4-488e-89bb-c4eb29391872"
      },
      "source": [
        "# Compare the number of headlines for each day\n",
        "print(max(len(i) for i in headlines))\n",
        "print(min(len(i) for i in headlines))\n",
        "print(np.mean([len(i) for i in headlines]))"
      ],
      "execution_count": 28,
      "outputs": [
        {
          "output_type": "stream",
          "text": [
            "25\n",
            "22\n",
            "24.996478873239436\n"
          ],
          "name": "stdout"
        }
      ]
    },
    {
      "cell_type": "code",
      "metadata": {
        "id": "fRm5pHWxZ5wT"
      },
      "source": [
        "# A list of contractions from http://stackoverflow.com/questions/19790188/expanding-english-language-contractions-in-python\n",
        "contractions = { \n",
        "\"ain't\": \"am not\",\n",
        "\"aren't\": \"are not\",\n",
        "\"can't\": \"cannot\",\n",
        "\"can't've\": \"cannot have\",\n",
        "\"'cause\": \"because\",\n",
        "\"could've\": \"could have\",\n",
        "\"couldn't\": \"could not\",\n",
        "\"couldn't've\": \"could not have\",\n",
        "\"didn't\": \"did not\",\n",
        "\"doesn't\": \"does not\",\n",
        "\"don't\": \"do not\",\n",
        "\"hadn't\": \"had not\",\n",
        "\"hadn't've\": \"had not have\",\n",
        "\"hasn't\": \"has not\",\n",
        "\"haven't\": \"have not\",\n",
        "\"he'd\": \"he would\",\n",
        "\"he'd've\": \"he would have\",\n",
        "\"he'll\": \"he will\",\n",
        "\"he's\": \"he is\",\n",
        "\"how'd\": \"how did\",\n",
        "\"how'll\": \"how will\",\n",
        "\"how's\": \"how is\",\n",
        "\"i'd\": \"i would\",\n",
        "\"i'll\": \"i will\",\n",
        "\"i'm\": \"i am\",\n",
        "\"i've\": \"i have\",\n",
        "\"isn't\": \"is not\",\n",
        "\"it'd\": \"it would\",\n",
        "\"it'll\": \"it will\",\n",
        "\"it's\": \"it is\",\n",
        "\"let's\": \"let us\",\n",
        "\"ma'am\": \"madam\",\n",
        "\"mayn't\": \"may not\",\n",
        "\"might've\": \"might have\",\n",
        "\"mightn't\": \"might not\",\n",
        "\"must've\": \"must have\",\n",
        "\"mustn't\": \"must not\",\n",
        "\"needn't\": \"need not\",\n",
        "\"oughtn't\": \"ought not\",\n",
        "\"shan't\": \"shall not\",\n",
        "\"sha'n't\": \"shall not\",\n",
        "\"she'd\": \"she would\",\n",
        "\"she'll\": \"she will\",\n",
        "\"she's\": \"she is\",\n",
        "\"should've\": \"should have\",\n",
        "\"shouldn't\": \"should not\",\n",
        "\"that'd\": \"that would\",\n",
        "\"that's\": \"that is\",\n",
        "\"there'd\": \"there had\",\n",
        "\"there's\": \"there is\",\n",
        "\"they'd\": \"they would\",\n",
        "\"they'll\": \"they will\",\n",
        "\"they're\": \"they are\",\n",
        "\"they've\": \"they have\",\n",
        "\"wasn't\": \"was not\",\n",
        "\"we'd\": \"we would\",\n",
        "\"we'll\": \"we will\",\n",
        "\"we're\": \"we are\",\n",
        "\"we've\": \"we have\",\n",
        "\"weren't\": \"were not\",\n",
        "\"what'll\": \"what will\",\n",
        "\"what're\": \"what are\",\n",
        "\"what's\": \"what is\",\n",
        "\"what've\": \"what have\",\n",
        "\"where'd\": \"where did\",\n",
        "\"where's\": \"where is\",\n",
        "\"who'll\": \"who will\",\n",
        "\"who's\": \"who is\",\n",
        "\"won't\": \"will not\",\n",
        "\"wouldn't\": \"would not\",\n",
        "\"you'd\": \"you would\",\n",
        "\"you'll\": \"you will\",\n",
        "\"you're\": \"you are\"\n",
        "}"
      ],
      "execution_count": 29,
      "outputs": []
    },
    {
      "cell_type": "code",
      "metadata": {
        "id": "apYlEO1OZ5wU"
      },
      "source": [
        "def clean_text(text, remove_stopwords = True):\n",
        "    '''Remove unwanted characters and format the text to create fewer nulls word embeddings'''\n",
        "    \n",
        "    # Convert words to lower case\n",
        "    text = text.lower()\n",
        "    \n",
        "    # Replace contractions with their longer forms \n",
        "    if True:\n",
        "        text = text.split()\n",
        "        new_text = []\n",
        "        for word in text:\n",
        "            if word in contractions:\n",
        "                new_text.append(contractions[word])\n",
        "            else:\n",
        "                new_text.append(word)\n",
        "        text = \" \".join(new_text)\n",
        "    \n",
        "    # Format words and remove unwanted characters\n",
        "    text = re.sub(r'&amp;', '', text) \n",
        "    text = re.sub(r'0,0', '00', text) \n",
        "    text = re.sub(r'[_\"\\-;%()|.,+&=*%.,!?:#@\\[\\]]', ' ', text)\n",
        "    text = re.sub(r'\\'', ' ', text)\n",
        "    text = re.sub(r'\\$', ' $ ', text)\n",
        "    text = re.sub(r'u s ', ' united states ', text)\n",
        "    text = re.sub(r'u n ', ' united nations ', text)\n",
        "    text = re.sub(r'u k ', ' united kingdom ', text)\n",
        "    text = re.sub(r'j k ', ' jk ', text)\n",
        "    text = re.sub(r' s ', ' ', text)\n",
        "    text = re.sub(r' yr ', ' year ', text)\n",
        "    text = re.sub(r' l g b t ', ' lgbt ', text)\n",
        "    text = re.sub(r'0km ', '0 km ', text)\n",
        "    \n",
        "    # Optionally, remove stop words\n",
        "    if remove_stopwords:\n",
        "        text = text.split()\n",
        "        stops = set(stopwords.words(\"english\"))\n",
        "        text = [w for w in text if not w in stops]\n",
        "        text = \" \".join(text)\n",
        "\n",
        "    return text"
      ],
      "execution_count": 30,
      "outputs": []
    },
    {
      "cell_type": "code",
      "metadata": {
        "colab": {
          "base_uri": "https://localhost:8080/"
        },
        "id": "BLuX5L1FG58A",
        "outputId": "3a9a804f-930e-4c50-885e-f0ee810990f0"
      },
      "source": [
        "import nltk\r\n",
        "nltk.download('stopwords')"
      ],
      "execution_count": 32,
      "outputs": [
        {
          "output_type": "stream",
          "text": [
            "[nltk_data] Downloading package stopwords to /root/nltk_data...\n",
            "[nltk_data]   Unzipping corpora/stopwords.zip.\n"
          ],
          "name": "stdout"
        },
        {
          "output_type": "execute_result",
          "data": {
            "text/plain": [
              "True"
            ]
          },
          "metadata": {
            "tags": []
          },
          "execution_count": 32
        }
      ]
    },
    {
      "cell_type": "code",
      "metadata": {
        "id": "_LA3frofZ5wU"
      },
      "source": [
        "# Clean the headlines\n",
        "clean_headlines = []\n",
        "\n",
        "for daily_headlines in headlines:\n",
        "    clean_daily_headlines = []\n",
        "    for headline in daily_headlines:\n",
        "        clean_daily_headlines.append(clean_text(headline))\n",
        "    clean_headlines.append(clean_daily_headlines)"
      ],
      "execution_count": 33,
      "outputs": []
    },
    {
      "cell_type": "code",
      "metadata": {
        "id": "KnLjg8b9Z5wU",
        "colab": {
          "base_uri": "https://localhost:8080/"
        },
        "outputId": "b7c7f9ce-5c9b-4c54-ebbd-54254f0d07cc"
      },
      "source": [
        "# Take a look at some headlines to ensure everything was cleaned well\n",
        "len(clean_headlines)"
      ],
      "execution_count": 34,
      "outputs": [
        {
          "output_type": "execute_result",
          "data": {
            "text/plain": [
              "1988"
            ]
          },
          "metadata": {
            "tags": []
          },
          "execution_count": 34
        }
      ]
    },
    {
      "cell_type": "code",
      "metadata": {
        "id": "pvJnjxPLZ5wU",
        "colab": {
          "base_uri": "https://localhost:8080/"
        },
        "outputId": "88902cd1-d971-4fa0-87bb-c630de27d912"
      },
      "source": [
        "# Find the number of times each word was used and the size of the vocabulary\n",
        "word_counts = {}\n",
        "\n",
        "for date in clean_headlines:\n",
        "    for headline in date:\n",
        "        for word in headline.split():\n",
        "            if word not in word_counts:\n",
        "                word_counts[word] = 1\n",
        "            else:\n",
        "                word_counts[word] += 1\n",
        "            \n",
        "print(\"Size of Vocabulary:\", len(word_counts))"
      ],
      "execution_count": 35,
      "outputs": [
        {
          "output_type": "stream",
          "text": [
            "Size of Vocabulary: 35190\n"
          ],
          "name": "stdout"
        }
      ]
    },
    {
      "cell_type": "code",
      "metadata": {
        "id": "kRl36VusgLEe"
      },
      "source": [
        ""
      ],
      "execution_count": null,
      "outputs": []
    },
    {
      "cell_type": "code",
      "metadata": {
        "id": "CD0gmdOxg0A4"
      },
      "source": [
        "from google.colab import drive\n",
        "drive.mount('/content/drive')\n"
      ],
      "execution_count": null,
      "outputs": []
    },
    {
      "cell_type": "code",
      "metadata": {
        "id": "_tN4XW-RDYyp"
      },
      "source": [
        "#drive.flush_and_unmount()"
      ],
      "execution_count": null,
      "outputs": []
    },
    {
      "cell_type": "code",
      "metadata": {
        "id": "pqb7SWDOZ5wV",
        "colab": {
          "base_uri": "https://localhost:8080/"
        },
        "outputId": "166b676a-d8e4-4c28-ea98-9ea091380fb8"
      },
      "source": [
        "# Load GloVe's embeddings\n",
        "embeddings_index = {}\n",
        "with open('/content/drive/MyDrive/glove.6B.100d.txt', encoding='utf-8') as f:\n",
        "    for line in f:\n",
        "        values = line.split(' ')\n",
        "        word = values[0]\n",
        "        embedding = np.asarray(values[1:], dtype='float32')\n",
        "        embeddings_index[word] = embedding\n",
        "\n",
        "print('Word embeddings:', len(embeddings_index))"
      ],
      "execution_count": 36,
      "outputs": [
        {
          "output_type": "stream",
          "text": [
            "Word embeddings: 400000\n"
          ],
          "name": "stdout"
        }
      ]
    },
    {
      "cell_type": "code",
      "metadata": {
        "colab": {
          "base_uri": "https://localhost:8080/"
        },
        "id": "AuIvWePyim35",
        "outputId": "e2a8dec7-8c38-4f78-dfdc-2b5904610efb"
      },
      "source": [
        "embeddings_index['fish']"
      ],
      "execution_count": 37,
      "outputs": [
        {
          "output_type": "execute_result",
          "data": {
            "text/plain": [
              "array([-0.65654 ,  0.56149 ,  0.43801 , -0.70816 , -0.02848 , -0.541   ,\n",
              "        0.32885 ,  0.19502 ,  0.064846, -1.3596  , -0.58534 ,  0.4832  ,\n",
              "        0.33913 ,  0.35244 ,  0.014004,  0.20392 ,  0.26975 , -0.052985,\n",
              "       -0.35107 ,  0.78838 ,  0.28599 ,  0.41146 ,  0.71163 , -0.33233 ,\n",
              "        0.76987 ,  1.2209  , -0.43528 , -0.79026 , -0.30152 ,  0.54479 ,\n",
              "       -0.6672  ,  0.29536 , -0.12011 , -0.048952,  0.45108 ,  0.14186 ,\n",
              "       -0.63951 ,  0.14591 ,  0.4785  , -0.8323  , -0.17478 , -1.5759  ,\n",
              "       -0.8885  , -0.43423 ,  1.0733  ,  0.45304 , -0.51571 , -0.20244 ,\n",
              "       -0.74595 , -0.36699 ,  0.22531 , -0.16772 , -0.12776 ,  0.7057  ,\n",
              "       -0.61219 , -0.93637 , -0.10686 , -0.63908 ,  1.1557  ,  0.66294 ,\n",
              "       -0.42806 ,  0.60697 ,  0.74073 ,  0.28582 ,  1.14    ,  0.18724 ,\n",
              "       -0.051093, -0.33439 ,  0.72001 , -0.44025 , -0.036515,  0.060187,\n",
              "        1.0262  ,  0.69332 , -0.26809 ,  0.21283 , -1.3187  , -0.30737 ,\n",
              "        0.21162 ,  1.0292  ,  0.68704 , -0.25537 , -1.0149  ,  0.3325  ,\n",
              "       -0.43809 , -0.72006 ,  0.28441 , -0.26171 , -0.014646,  0.33437 ,\n",
              "        0.23288 , -0.51822 ,  0.36758 , -0.52179 , -0.74965 , -0.32304 ,\n",
              "       -1.3306  , -0.61827 ,  1.0156  , -0.1102  ], dtype=float32)"
            ]
          },
          "metadata": {
            "tags": []
          },
          "execution_count": 37
        }
      ]
    },
    {
      "cell_type": "code",
      "metadata": {
        "id": "HYLNwWNcZ5wV",
        "colab": {
          "base_uri": "https://localhost:8080/"
        },
        "outputId": "180de512-f651-4aec-a442-5e038ded4cd5"
      },
      "source": [
        "# Find the number of words that are missing from GloVe, and are used more than our threshold.\n",
        "missing_words = 0\n",
        "threshold = 10\n",
        "\n",
        "for word, count in word_counts.items():\n",
        "    if count > threshold:\n",
        "        if word not in embeddings_index:\n",
        "            missing_words += 1\n",
        "            \n",
        "missing_ratio = round(missing_words/len(word_counts),4)*100\n",
        "            \n",
        "print(\"Number of words missing from GloVe:\", missing_words)\n",
        "print(\"Percent of words that are missing from vocabulary: {}%\".format(missing_ratio))"
      ],
      "execution_count": 38,
      "outputs": [
        {
          "output_type": "stream",
          "text": [
            "Number of words missing from GloVe: 41\n",
            "Percent of words that are missing from vocabulary: 0.12%\n"
          ],
          "name": "stdout"
        }
      ]
    },
    {
      "cell_type": "code",
      "metadata": {
        "id": "YRARuarYZ5wV",
        "colab": {
          "base_uri": "https://localhost:8080/"
        },
        "outputId": "ef716ad4-8dbd-4196-fb06-1d67f6793ed3"
      },
      "source": [
        "# Limit the vocab that we will use to words that appear ≥ threshold or are in GloVe\n",
        "\n",
        "#dictionary to convert words to integers\n",
        "vocab_to_int = {} \n",
        "\n",
        "value = 0\n",
        "for word, count in word_counts.items():\n",
        "    if count >= threshold or word in embeddings_index:\n",
        "        vocab_to_int[word] = value\n",
        "        value += 1\n",
        "\n",
        "# Special tokens that will be added to our vocab\n",
        "codes = [\"<UNK>\",\"<PAD>\"]   \n",
        "\n",
        "# Add codes to vocab\n",
        "for code in codes:\n",
        "    vocab_to_int[code] = len(vocab_to_int)\n",
        "\n",
        "# Dictionary to convert integers to words\n",
        "int_to_vocab = {}\n",
        "for word, value in vocab_to_int.items():\n",
        "    int_to_vocab[value] = word\n",
        "\n",
        "usage_ratio = round(len(vocab_to_int) / len(word_counts),4)*100\n",
        "\n",
        "print(\"Total Number of Unique Words:\", len(word_counts))\n",
        "print(\"Number of Words we will use:\", len(vocab_to_int))\n",
        "print(\"Percent of Words we will use: {}%\".format(usage_ratio))"
      ],
      "execution_count": 40,
      "outputs": [
        {
          "output_type": "stream",
          "text": [
            "Total Number of Unique Words: 35190\n",
            "Number of Words we will use: 31808\n",
            "Percent of Words we will use: 90.39%\n"
          ],
          "name": "stdout"
        }
      ]
    },
    {
      "cell_type": "code",
      "metadata": {
        "id": "yZgF061mZ5wW",
        "colab": {
          "base_uri": "https://localhost:8080/"
        },
        "outputId": "0ac43b00-8ea3-427d-a2bd-70705abc0a52"
      },
      "source": [
        "# Need to use 300 for embedding dimensions to match GloVe's vectors.\n",
        "embedding_dim = 100\n",
        "\n",
        "nb_words = len(vocab_to_int)\n",
        "# Create matrix with default values of zero\n",
        "word_embedding_matrix = np.zeros((nb_words, embedding_dim))\n",
        "for word, i in vocab_to_int.items():\n",
        "    if word in embeddings_index:\n",
        "        word_embedding_matrix[i] = embeddings_index[word]\n",
        "    else:\n",
        "        # If word not in GloVe, create a random embedding for it\n",
        "        new_embedding = np.array(np.random.uniform(-1.0, 1.0, embedding_dim))\n",
        "        embeddings_index[word] = new_embedding\n",
        "        word_embedding_matrix[i] = new_embedding\n",
        "\n",
        "# Check if value matches len(vocab_to_int)\n",
        "print(len(word_embedding_matrix))"
      ],
      "execution_count": 41,
      "outputs": [
        {
          "output_type": "stream",
          "text": [
            "31808\n"
          ],
          "name": "stdout"
        }
      ]
    },
    {
      "cell_type": "code",
      "metadata": {
        "colab": {
          "base_uri": "https://localhost:8080/"
        },
        "id": "7c1yBsc7IlLL",
        "outputId": "ed01ff46-0f34-40b6-bc6c-698f0973afe1"
      },
      "source": [
        "len(embeddings_index) # 51 new embedding is added."
      ],
      "execution_count": 42,
      "outputs": [
        {
          "output_type": "execute_result",
          "data": {
            "text/plain": [
              "400051"
            ]
          },
          "metadata": {
            "tags": []
          },
          "execution_count": 42
        }
      ]
    },
    {
      "cell_type": "code",
      "metadata": {
        "colab": {
          "base_uri": "https://localhost:8080/"
        },
        "id": "2KgM_PU5Bj_6",
        "outputId": "0eefb896-d5ce-4f1a-dd67-1d7dd401cf3b"
      },
      "source": [
        "vocab_to_int['king']"
      ],
      "execution_count": null,
      "outputs": [
        {
          "output_type": "execute_result",
          "data": {
            "text/plain": [
              "602"
            ]
          },
          "metadata": {
            "tags": []
          },
          "execution_count": 141
        }
      ]
    },
    {
      "cell_type": "code",
      "metadata": {
        "colab": {
          "base_uri": "https://localhost:8080/"
        },
        "id": "j_eejVOKDNi3",
        "outputId": "a5254e37-eb66-437b-a9b7-9c095547cdc5"
      },
      "source": [
        "word_embedding_matrix.shape"
      ],
      "execution_count": 43,
      "outputs": [
        {
          "output_type": "execute_result",
          "data": {
            "text/plain": [
              "(31808, 100)"
            ]
          },
          "metadata": {
            "tags": []
          },
          "execution_count": 43
        }
      ]
    },
    {
      "cell_type": "code",
      "metadata": {
        "colab": {
          "base_uri": "https://localhost:8080/"
        },
        "id": "3xYlaLCHz-mk",
        "outputId": "05f51cf8-37c1-49cc-c3ab-a52f54208d67"
      },
      "source": [
        "word_embedding_matrix[vocab_to_int['king']]"
      ],
      "execution_count": 44,
      "outputs": [
        {
          "output_type": "execute_result",
          "data": {
            "text/plain": [
              "array([-0.32306999, -0.87616003,  0.21977   ,  0.25268   ,  0.22976001,\n",
              "        0.73879999, -0.37954   , -0.35306999, -0.84368998, -1.11129999,\n",
              "       -0.30265999,  0.33177999, -0.25113001,  0.30447999, -0.077491  ,\n",
              "       -0.89815003,  0.092496  , -1.14069998, -0.58323997,  0.66869003,\n",
              "       -0.23122001, -0.95854998,  0.28262001, -0.078848  ,  0.75314999,\n",
              "        0.26583999,  0.34220001, -0.33949   ,  0.95608002,  0.065641  ,\n",
              "        0.45747   ,  0.39835   ,  0.57964998,  0.39267001, -0.21851   ,\n",
              "        0.58794999, -0.55998999,  0.63367999, -0.043983  , -0.68730998,\n",
              "       -0.37841001,  0.38025999,  0.61641002, -0.88269001, -0.12346   ,\n",
              "       -0.37928   , -0.38317999,  0.23868001,  0.66850001, -0.43320999,\n",
              "       -0.11065   ,  0.081723  ,  1.15690005,  0.78957999, -0.21223   ,\n",
              "       -2.3211    , -0.67806   ,  0.44560999,  0.65706998,  0.1045    ,\n",
              "        0.46217   ,  0.19912   ,  0.25802001,  0.057194  ,  0.53443003,\n",
              "       -0.43133   , -0.34311   ,  0.59789002, -0.58416998,  0.068995  ,\n",
              "        0.23943999, -0.85180998,  0.30379   , -0.34176999, -0.25746   ,\n",
              "       -0.031101  , -0.16285001,  0.45168999, -0.91627002,  0.64521003,\n",
              "        0.73281002, -0.22752   ,  0.30226001,  0.044801  , -0.83740997,\n",
              "        0.55005997, -0.52506   , -1.73570001,  0.47510001, -0.70486999,\n",
              "        0.056939  , -0.71319997,  0.089623  ,  0.41394001, -1.33630002,\n",
              "       -0.61914998, -0.33089   , -0.52881002,  0.16483   , -0.98878002])"
            ]
          },
          "metadata": {
            "tags": []
          },
          "execution_count": 44
        }
      ]
    },
    {
      "cell_type": "markdown",
      "metadata": {
        "id": "iqCIeUz8Z5wW"
      },
      "source": [
        "Note: The embeddings will be updated as the model trains, so our new 'random' embeddings will be more accurate by the end of training. This is also why we want to only use words that appear at least 10 times. By having the model see the word numerous timesm it will be better able to understand what it means. "
      ]
    },
    {
      "cell_type": "code",
      "metadata": {
        "id": "AvoqPLujlhe_"
      },
      "source": [
        "# [len(j) for i in clean_headlines for j in i ] # list of list"
      ],
      "execution_count": null,
      "outputs": []
    },
    {
      "cell_type": "code",
      "metadata": {
        "colab": {
          "base_uri": "https://localhost:8080/"
        },
        "id": "dWD4H95lDld_",
        "outputId": "44c39d60-2534-4259-fef0-bd5253798072"
      },
      "source": [
        "len(clean_headlines)"
      ],
      "execution_count": 45,
      "outputs": [
        {
          "output_type": "execute_result",
          "data": {
            "text/plain": [
              "1988"
            ]
          },
          "metadata": {
            "tags": []
          },
          "execution_count": 45
        }
      ]
    },
    {
      "cell_type": "code",
      "metadata": {
        "id": "A0BPX_Y4Z5wW",
        "colab": {
          "base_uri": "https://localhost:8080/"
        },
        "outputId": "4b7749fe-851b-47f9-e658-870b73cd169e"
      },
      "source": [
        "# Change the text from words to integers\n",
        "# If word is not in vocab, replace it with <UNK> (unknown)\n",
        "word_count = 0\n",
        "unk_count = 0\n",
        "\n",
        "int_headlines = []\n",
        "\n",
        "for date in clean_headlines:\n",
        "    int_daily_headlines = []\n",
        "    for headline in date:\n",
        "        int_headline = []\n",
        "        for word in headline.split():\n",
        "            word_count += 1\n",
        "            if word in vocab_to_int:\n",
        "                int_headline.append(vocab_to_int[word])\n",
        "            else:\n",
        "                int_headline.append(vocab_to_int[\"<UNK>\"])\n",
        "                unk_count += 1\n",
        "        int_daily_headlines.append(int_headline)\n",
        "    int_headlines.append(int_daily_headlines)\n",
        "\n",
        "unk_percent = round(unk_count/word_count,4)*100\n",
        "\n",
        "print(\"Total number of words in headlines:\", word_count)\n",
        "print(\"Total number of UNKs in headlines:\", unk_count)\n",
        "print(\"Percent of words that are UNK: {}%\".format(unk_percent))"
      ],
      "execution_count": 49,
      "outputs": [
        {
          "output_type": "stream",
          "text": [
            "Total number of words in headlines: 615989\n",
            "Total number of UNKs in headlines: 4285\n",
            "Percent of words that are UNK: 0.7000000000000001%\n"
          ],
          "name": "stdout"
        }
      ]
    },
    {
      "cell_type": "code",
      "metadata": {
        "colab": {
          "base_uri": "https://localhost:8080/"
        },
        "id": "fle2NtjDwVhu",
        "outputId": "4d63d6ce-a7a1-4c3e-8f66-7ca5c35eb12d"
      },
      "source": [
        "[int_to_vocab[i] for i in int_headlines[1987][0]]"
      ],
      "execution_count": 50,
      "outputs": [
        {
          "output_type": "execute_result",
          "data": {
            "text/plain": [
              "['b',\n",
              " 'georgia',\n",
              " 'downs',\n",
              " 'two',\n",
              " 'russian',\n",
              " 'warplanes',\n",
              " 'countries',\n",
              " 'move',\n",
              " 'brink',\n",
              " 'war']"
            ]
          },
          "metadata": {
            "tags": []
          },
          "execution_count": 50
        }
      ]
    },
    {
      "cell_type": "code",
      "metadata": {
        "colab": {
          "base_uri": "https://localhost:8080/"
        },
        "id": "Z789Vww5G9dN",
        "outputId": "3d1e0789-d303-459f-e271-d315ecc65b86"
      },
      "source": [
        "len(int_headlines[1987][10])"
      ],
      "execution_count": null,
      "outputs": [
        {
          "output_type": "execute_result",
          "data": {
            "text/plain": [
              "15"
            ]
          },
          "metadata": {
            "tags": []
          },
          "execution_count": 171
        }
      ]
    },
    {
      "cell_type": "code",
      "metadata": {
        "colab": {
          "base_uri": "https://localhost:8080/",
          "height": 35
        },
        "id": "DZcxxEjGwDKH",
        "outputId": "31b81b7c-7d22-4f05-fd38-ac3bd744a0f7"
      },
      "source": [
        "clean_headlines[1987][0]"
      ],
      "execution_count": null,
      "outputs": [
        {
          "output_type": "execute_result",
          "data": {
            "application/vnd.google.colaboratory.intrinsic+json": {
              "type": "string"
            },
            "text/plain": [
              "'b georgia downs two russian warplanes countries move brink war'"
            ]
          },
          "metadata": {
            "tags": []
          },
          "execution_count": 165
        }
      ]
    },
    {
      "cell_type": "code",
      "metadata": {
        "colab": {
          "base_uri": "https://localhost:8080/"
        },
        "id": "E0xs3qQBnrfl",
        "outputId": "90324ec8-c2f3-4394-bd92-9359f7132817"
      },
      "source": [
        "int_headlines[0][0]"
      ],
      "execution_count": null,
      "outputs": [
        {
          "output_type": "execute_result",
          "data": {
            "text/plain": [
              "[0, 1, 2, 3, 4, 5, 6, 7, 8, 9, 10, 11, 12, 13, 14, 15, 16, 17, 18, 19]"
            ]
          },
          "metadata": {
            "tags": []
          },
          "execution_count": 122
        }
      ]
    },
    {
      "cell_type": "code",
      "metadata": {
        "id": "8NgLOmv6Z5wW"
      },
      "source": [
        "# Find the length of headlines\n",
        "lengths = []\n",
        "for date in int_headlines:\n",
        "    for headline in date:\n",
        "        lengths.append(len(headline))\n",
        "\n",
        "# Create a dataframe so that the values can be inspected\n",
        "lengths = pd.DataFrame(lengths, columns=['counts'])"
      ],
      "execution_count": 51,
      "outputs": []
    },
    {
      "cell_type": "code",
      "metadata": {
        "id": "Dv6unnmQZ5wX",
        "colab": {
          "base_uri": "https://localhost:8080/"
        },
        "outputId": "40c0c538-2ee8-4947-d740-7b517864f026"
      },
      "source": [
        "lengths.shape"
      ],
      "execution_count": null,
      "outputs": [
        {
          "output_type": "execute_result",
          "data": {
            "text/plain": [
              "(49693, 1)"
            ]
          },
          "metadata": {
            "tags": []
          },
          "execution_count": 167
        }
      ]
    },
    {
      "cell_type": "code",
      "metadata": {
        "id": "F7NU_uOoZ5wX"
      },
      "source": [
        "# Limit the length of a day's news to 200 words, and the length of any headline to 16 words.\n",
        "# These values are chosen to not have an excessively long training time and \n",
        "# balance the number of headlines used and the number of words from each headline.\n",
        "max_headline_length = 16\n",
        "max_daily_length = 200\n",
        "pad_headlines = []\n",
        "\n",
        "for date in int_headlines:\n",
        "    pad_daily_headlines = []\n",
        "    for headline in date:\n",
        "        # Add headline if it is less than max length\n",
        "        if len(headline) <= max_headline_length:\n",
        "            for word in headline:\n",
        "                pad_daily_headlines.append(word)\n",
        "        # Limit headline if it is more than max length  \n",
        "        else:\n",
        "            headline = headline[:max_headline_length]\n",
        "            for word in headline:\n",
        "                pad_daily_headlines.append(word)\n",
        "    \n",
        "    # Pad daily_headlines if they are less than max length\n",
        "    if len(pad_daily_headlines) < max_daily_length:\n",
        "        for i in range(max_daily_length-len(pad_daily_headlines)):\n",
        "            pad = vocab_to_int[\"<PAD>\"]\n",
        "            pad_daily_headlines.append(pad)\n",
        "    # Limit daily_headlines if they are more than max length\n",
        "    else:\n",
        "        pad_daily_headlines = pad_daily_headlines[:max_daily_length]\n",
        "    pad_headlines.append(pad_daily_headlines)"
      ],
      "execution_count": 91,
      "outputs": []
    },
    {
      "cell_type": "code",
      "metadata": {
        "colab": {
          "base_uri": "https://localhost:8080/"
        },
        "id": "IIrAVVl3rkXg",
        "outputId": "a7922321-608b-4d10-b56a-69126660a600"
      },
      "source": [
        "len(pad_headlines)"
      ],
      "execution_count": 92,
      "outputs": [
        {
          "output_type": "execute_result",
          "data": {
            "text/plain": [
              "1988"
            ]
          },
          "metadata": {
            "tags": []
          },
          "execution_count": 92
        }
      ]
    },
    {
      "cell_type": "code",
      "metadata": {
        "id": "0JdCA44nr3dh"
      },
      "source": [
        "# pad_headlines[0]#\r\n",
        "# int_headlines"
      ],
      "execution_count": 93,
      "outputs": []
    },
    {
      "cell_type": "code",
      "metadata": {
        "colab": {
          "base_uri": "https://localhost:8080/"
        },
        "id": "6ifzXDJqQuVX",
        "outputId": "a3947d1b-0838-47b6-987a-d9913e35f4b9"
      },
      "source": [
        "len(price)"
      ],
      "execution_count": 97,
      "outputs": [
        {
          "output_type": "execute_result",
          "data": {
            "text/plain": [
              "1988"
            ]
          },
          "metadata": {
            "tags": []
          },
          "execution_count": 97
        }
      ]
    },
    {
      "cell_type": "code",
      "metadata": {
        "colab": {
          "base_uri": "https://localhost:8080/"
        },
        "id": "eMDW740QtMQq",
        "outputId": "47f43298-1f38-45ae-b943-cf5f453952c2"
      },
      "source": [
        "len(price)"
      ],
      "execution_count": 94,
      "outputs": [
        {
          "output_type": "execute_result",
          "data": {
            "text/plain": [
              "1988"
            ]
          },
          "metadata": {
            "tags": []
          },
          "execution_count": 94
        }
      ]
    },
    {
      "cell_type": "code",
      "metadata": {
        "id": "02WXOAHXZ5wX"
      },
      "source": [
        "# Normalize opening prices (target values)\n",
        "max_price = max(price)\n",
        "min_price = min(price)\n",
        "mean_price = np.mean(price)\n",
        "def normalize(price):\n",
        "    return ((price-min_price)/(max_price-min_price))"
      ],
      "execution_count": 95,
      "outputs": []
    },
    {
      "cell_type": "code",
      "metadata": {
        "id": "SCWr44kYZ5wX"
      },
      "source": [
        "norm_price = []\n",
        "for p in price:\n",
        "    norm_price.append(normalize(p))"
      ],
      "execution_count": 57,
      "outputs": []
    },
    {
      "cell_type": "code",
      "metadata": {
        "colab": {
          "base_uri": "https://localhost:8080/"
        },
        "id": "SctvKEFYrU1k",
        "outputId": "44d965ea-7db8-48a7-90ef-09e95c74fadc"
      },
      "source": [
        "len(price), len(norm_price)"
      ],
      "execution_count": 101,
      "outputs": [
        {
          "output_type": "execute_result",
          "data": {
            "text/plain": [
              "(1988, 1988)"
            ]
          },
          "metadata": {
            "tags": []
          },
          "execution_count": 101
        }
      ]
    },
    {
      "cell_type": "code",
      "metadata": {
        "id": "nySlScxAZ5wX",
        "colab": {
          "base_uri": "https://localhost:8080/"
        },
        "outputId": "7d6db1b7-52b8-421a-c0ff-d4ab1b9c6e79"
      },
      "source": [
        "# Check that normalization worked well\n",
        "print(min(norm_price))\n",
        "print(max(norm_price))\n",
        "print(np.mean(norm_price))"
      ],
      "execution_count": 102,
      "outputs": [
        {
          "output_type": "stream",
          "text": [
            "0.0\n",
            "1.0\n",
            "0.5448422454901358\n"
          ],
          "name": "stdout"
        }
      ]
    },
    {
      "cell_type": "code",
      "metadata": {
        "colab": {
          "base_uri": "https://localhost:8080/"
        },
        "id": "K-ylZRBSvlv_",
        "outputId": "d6b7bfe1-e5c1-4107-ec9c-7d659f04339f"
      },
      "source": [
        "len(pad_headlines)"
      ],
      "execution_count": 103,
      "outputs": [
        {
          "output_type": "execute_result",
          "data": {
            "text/plain": [
              "1988"
            ]
          },
          "metadata": {
            "tags": []
          },
          "execution_count": 103
        }
      ]
    },
    {
      "cell_type": "code",
      "metadata": {
        "colab": {
          "base_uri": "https://localhost:8080/"
        },
        "id": "fuf6njZGMJ4D",
        "outputId": "c711ceff-1b2f-4cf8-9b02-f6d6b34924c1"
      },
      "source": [
        "([int_to_vocab[i] for i in int_headlines[1987][0]])"
      ],
      "execution_count": 104,
      "outputs": [
        {
          "output_type": "execute_result",
          "data": {
            "text/plain": [
              "['b',\n",
              " 'georgia',\n",
              " 'downs',\n",
              " 'two',\n",
              " 'russian',\n",
              " 'warplanes',\n",
              " 'countries',\n",
              " 'move',\n",
              " 'brink',\n",
              " 'war']"
            ]
          },
          "metadata": {
            "tags": []
          },
          "execution_count": 104
        }
      ]
    },
    {
      "cell_type": "code",
      "metadata": {
        "colab": {
          "base_uri": "https://localhost:8080/"
        },
        "id": "goljTSggM4xq",
        "outputId": "1de64f93-b136-4cfa-f25c-4cc50ee3ba40"
      },
      "source": [
        "([int_to_vocab[i] for i in pad_headlines[1987]])"
      ],
      "execution_count": 105,
      "outputs": [
        {
          "output_type": "execute_result",
          "data": {
            "text/plain": [
              "['b',\n",
              " 'georgia',\n",
              " 'downs',\n",
              " 'two',\n",
              " 'russian',\n",
              " 'warplanes',\n",
              " 'countries',\n",
              " 'move',\n",
              " 'brink',\n",
              " 'war',\n",
              " 'b',\n",
              " 'breaking',\n",
              " 'musharraf',\n",
              " 'impeached',\n",
              " 'b',\n",
              " 'russia',\n",
              " 'today',\n",
              " 'columns',\n",
              " 'troops',\n",
              " 'roll',\n",
              " 'south',\n",
              " 'ossetia',\n",
              " 'footage',\n",
              " 'fighting',\n",
              " 'youtube',\n",
              " 'b',\n",
              " 'russian',\n",
              " 'tanks',\n",
              " 'moving',\n",
              " 'towards',\n",
              " 'capital',\n",
              " 'south',\n",
              " 'ossetia',\n",
              " 'reportedly',\n",
              " 'completely',\n",
              " 'destroyed',\n",
              " 'georgian',\n",
              " 'artillery',\n",
              " 'fire',\n",
              " 'b',\n",
              " 'afghan',\n",
              " 'children',\n",
              " 'raped',\n",
              " 'impunity',\n",
              " 'united',\n",
              " 'nations',\n",
              " 'official',\n",
              " 'says',\n",
              " 'sick',\n",
              " 'three',\n",
              " 'year',\n",
              " 'old',\n",
              " 'raped',\n",
              " 'nothing',\n",
              " 'b',\n",
              " '150',\n",
              " 'russian',\n",
              " 'tanks',\n",
              " 'entered',\n",
              " 'south',\n",
              " 'ossetia',\n",
              " 'whilst',\n",
              " 'georgia',\n",
              " 'shoots',\n",
              " 'two',\n",
              " 'russian',\n",
              " 'jets',\n",
              " 'b',\n",
              " 'breaking',\n",
              " 'georgia',\n",
              " 'invades',\n",
              " 'south',\n",
              " 'ossetia',\n",
              " 'russia',\n",
              " 'warned',\n",
              " 'would',\n",
              " 'intervene',\n",
              " 'side',\n",
              " 'b',\n",
              " 'enemy',\n",
              " '<UNK>',\n",
              " 'trials',\n",
              " 'nothing',\n",
              " 'sham',\n",
              " 'salim',\n",
              " 'haman',\n",
              " 'sentenced',\n",
              " '5',\n",
              " '1/2',\n",
              " 'years',\n",
              " 'kept',\n",
              " 'longer',\n",
              " 'anyway',\n",
              " 'feel',\n",
              " 'b',\n",
              " 'georgian',\n",
              " 'troops',\n",
              " 'retreat',\n",
              " '<UNK>',\n",
              " 'capital',\n",
              " 'presumably',\n",
              " 'leaving',\n",
              " 'several',\n",
              " 'hundred',\n",
              " 'people',\n",
              " 'killed',\n",
              " 'video',\n",
              " 'b',\n",
              " 'united',\n",
              " 'states',\n",
              " 'prep',\n",
              " 'georgia',\n",
              " 'war',\n",
              " 'russia',\n",
              " 'b',\n",
              " 'rice',\n",
              " 'gives',\n",
              " 'green',\n",
              " 'light',\n",
              " 'israel',\n",
              " 'attack',\n",
              " 'iran',\n",
              " 'says',\n",
              " 'united',\n",
              " 'states',\n",
              " 'veto',\n",
              " 'israeli',\n",
              " 'military',\n",
              " 'ops',\n",
              " 'b',\n",
              " 'announcing',\n",
              " 'class',\n",
              " 'action',\n",
              " 'lawsuit',\n",
              " 'behalf',\n",
              " 'american',\n",
              " 'public',\n",
              " 'fbi',\n",
              " 'b',\n",
              " 'russia',\n",
              " 'georgia',\n",
              " 'war',\n",
              " 'nyt',\n",
              " 'top',\n",
              " 'story',\n",
              " 'opening',\n",
              " 'ceremonies',\n",
              " 'olympics',\n",
              " 'fucking',\n",
              " 'disgrace',\n",
              " 'yet',\n",
              " 'proof',\n",
              " 'decline',\n",
              " 'journalism',\n",
              " 'b',\n",
              " 'china',\n",
              " 'tells',\n",
              " 'bush',\n",
              " 'stay',\n",
              " 'countries',\n",
              " 'affairs',\n",
              " 'b',\n",
              " 'world',\n",
              " 'war',\n",
              " 'iii',\n",
              " 'start',\n",
              " 'today',\n",
              " 'b',\n",
              " 'georgia',\n",
              " 'invades',\n",
              " 'south',\n",
              " 'ossetia',\n",
              " 'russia',\n",
              " 'gets',\n",
              " 'involved',\n",
              " 'nato',\n",
              " 'absorb',\n",
              " 'georgia',\n",
              " 'unleash',\n",
              " 'full',\n",
              " 'scale',\n",
              " 'war',\n",
              " 'b',\n",
              " 'al',\n",
              " 'qaeda',\n",
              " 'faces',\n",
              " 'islamist',\n",
              " 'backlash',\n",
              " 'b',\n",
              " 'condoleezza',\n",
              " 'rice',\n",
              " 'us',\n",
              " 'would',\n",
              " 'act',\n",
              " 'prevent',\n",
              " 'israeli',\n",
              " 'strike',\n",
              " 'iran',\n",
              " 'israeli',\n",
              " 'defense']"
            ]
          },
          "metadata": {
            "tags": []
          },
          "execution_count": 105
        }
      ]
    },
    {
      "cell_type": "code",
      "metadata": {
        "colab": {
          "base_uri": "https://localhost:8080/"
        },
        "id": "9r1-s2FzKw_C",
        "outputId": "068e4b44-47bc-4ef5-a1eb-2429c2c9d553"
      },
      "source": [
        "pad_headlines[1987][4], int_headlines[1987][0]"
      ],
      "execution_count": 106,
      "outputs": [
        {
          "output_type": "execute_result",
          "data": {
            "text/plain": [
              "(804, [5976, 5735, 9775, 517, 804, 3902, 560, 3446, 3674, 451])"
            ]
          },
          "metadata": {
            "tags": []
          },
          "execution_count": 106
        }
      ]
    },
    {
      "cell_type": "code",
      "metadata": {
        "id": "tLafE5ffZ5wY"
      },
      "source": [
        "# Split data into training and testing sets.\n",
        "# Validating data will be created during training.\n",
        "x_train, x_test, y_train, y_test = train_test_split(pad_headlines, norm_price, test_size = 0.15, random_state = 2)\n",
        "\n",
        "x_train = np.array(x_train)\n",
        "x_test = np.array(x_test)\n",
        "y_train = np.array(y_train)\n",
        "y_test = np.array(y_test)"
      ],
      "execution_count": 107,
      "outputs": []
    },
    {
      "cell_type": "code",
      "metadata": {
        "id": "EYuLccQWZ5wY"
      },
      "source": [
        ""
      ],
      "execution_count": 107,
      "outputs": []
    },
    {
      "cell_type": "code",
      "metadata": {
        "id": "UA55iWopZ5wY",
        "colab": {
          "base_uri": "https://localhost:8080/"
        },
        "outputId": "9cd3773d-0e4a-42c7-987e-28768d7b1406"
      },
      "source": [
        "# Check the lengths\n",
        "print(len(x_train))\n",
        "print(len(x_test))"
      ],
      "execution_count": 108,
      "outputs": [
        {
          "output_type": "stream",
          "text": [
            "1689\n",
            "299\n"
          ],
          "name": "stdout"
        }
      ]
    },
    {
      "cell_type": "code",
      "metadata": {
        "colab": {
          "base_uri": "https://localhost:8080/"
        },
        "id": "07x_CKFuMoPY",
        "outputId": "d61175e4-31d3-4d30-8626-813a34cc2d6c"
      },
      "source": [
        "x_train.shape, "
      ],
      "execution_count": 109,
      "outputs": [
        {
          "output_type": "execute_result",
          "data": {
            "text/plain": [
              "((1689, 200),)"
            ]
          },
          "metadata": {
            "tags": []
          },
          "execution_count": 109
        }
      ]
    },
    {
      "cell_type": "code",
      "metadata": {
        "colab": {
          "base_uri": "https://localhost:8080/"
        },
        "id": "0OJzS6xYoFpK",
        "outputId": "ed11fe23-6d2d-4043-d060-317578498bf5"
      },
      "source": [
        "np.any(np.isnan(x_train))"
      ],
      "execution_count": 263,
      "outputs": [
        {
          "output_type": "execute_result",
          "data": {
            "text/plain": [
              "False"
            ]
          },
          "metadata": {
            "tags": []
          },
          "execution_count": 263
        }
      ]
    },
    {
      "cell_type": "code",
      "metadata": {
        "colab": {
          "base_uri": "https://localhost:8080/"
        },
        "id": "z4aLdWMaMM5c",
        "outputId": "e9bb37f2-006d-4a71-c092-108f49b2a307"
      },
      "source": [
        "filter_length1 = 3\r\n",
        "filter_length2 = 5\r\n",
        "dropout = 0.5\r\n",
        "learning_rate = 0.0001\r\n",
        "weights = initializers.TruncatedNormal(mean=0.0, stddev=0.1, seed=2)\r\n",
        "nb_filter = 16\r\n",
        "rnn_output_size = 128\r\n",
        "hidden_dims = 128\r\n",
        "wider = True\r\n",
        "deeper = True\r\n",
        "\r\n",
        "\r\n",
        "model1 = Sequential()\r\n",
        "    \r\n",
        "model1.add(Embedding(nb_words,\r\n",
        "                     embedding_dim,\r\n",
        "                     weights=[word_embedding_matrix], \r\n",
        "                     input_length=max_daily_length, name='Model1_embedding'))\r\n",
        "model1.add(Dropout(dropout,name='Model1_dropout1'))\r\n",
        "    \r\n",
        "model1.add(Convolution1D(filters = nb_filter, \r\n",
        "                     kernel_size = filter_length1, \r\n",
        "                     padding = 'same',\r\n",
        "                     activation = 'relu', name='Model1_conv1d'))\r\n",
        "model1.add(Dropout(dropout,name='Model1_dropout2'))\r\n",
        "    \r\n",
        "if deeper == True:\r\n",
        "  model1.add(Convolution1D(filters = nb_filter,\r\n",
        "                      kernel_size = filter_length1, \r\n",
        "                      padding = 'same',\r\n",
        "                      activation = 'relu'))\r\n",
        "model1.add(Dropout(dropout,name='Model1_dropout3'))\r\n",
        "    \r\n",
        "model1.add(LSTM(rnn_output_size, \r\n",
        "                     activation=None,\r\n",
        "                     kernel_initializer=weights,\r\n",
        "                     dropout = dropout, name='Model1_LSTM'))\r\n",
        "# model1.compile(loss='mean_squared_error',\r\n",
        "#                   optimizer=Adam(lr=learning_rate,clipvalue=1.0) )   "
      ],
      "execution_count": 268,
      "outputs": [
        {
          "output_type": "stream",
          "text": [
            "WARNING:tensorflow:Layer Model1_LSTM will not use cuDNN kernel since it doesn't meet the cuDNN kernel criteria. It will use generic GPU kernel as fallback when running on GPU\n"
          ],
          "name": "stdout"
        }
      ]
    },
    {
      "cell_type": "code",
      "metadata": {
        "colab": {
          "base_uri": "https://localhost:8080/"
        },
        "id": "67HAUmBCN9Dr",
        "outputId": "53705772-6b78-4c6a-cf3a-8c782001608d"
      },
      "source": [
        "model2 = Sequential()\r\n",
        "    \r\n",
        "model2.add(Embedding(nb_words,\r\n",
        "                     embedding_dim,\r\n",
        "                     weights=[word_embedding_matrix], \r\n",
        "                     input_length=max_daily_length,name='Model2_embedding'))\r\n",
        "model2.add(Dropout(dropout,name='Model2_dropout'))\r\n",
        "    \r\n",
        "model2.add(Convolution1D(filters = nb_filter, \r\n",
        "                     kernel_size = filter_length1, \r\n",
        "                     padding = 'same',\r\n",
        "                     activation = 'relu', name='Model2_conv1d'))\r\n",
        "model2.add(Dropout(dropout,name='Model2_dropout2'))\r\n",
        "\r\n",
        "    \r\n",
        "if deeper == True:\r\n",
        "  model2.add(Convolution1D(filters = nb_filter,\r\n",
        "                      kernel_size = filter_length1, \r\n",
        "                      padding = 'same',\r\n",
        "                      activation = 'relu'))\r\n",
        "model2.add(Dropout(dropout, name='Model2_dropout3'))\r\n",
        "    \r\n",
        "model2.add(LSTM(rnn_output_size, \r\n",
        "                     activation=None,\r\n",
        "                     kernel_initializer=weights,\r\n",
        "                     dropout = dropout, name='Model2_LSTM'))\r\n",
        "# model2.compile(loss='mean_squared_error',\r\n",
        "#                   optimizer=Adam(lr=learning_rate,clipvalue=1.0) )   "
      ],
      "execution_count": 269,
      "outputs": [
        {
          "output_type": "stream",
          "text": [
            "WARNING:tensorflow:Layer Model2_LSTM will not use cuDNN kernel since it doesn't meet the cuDNN kernel criteria. It will use generic GPU kernel as fallback when running on GPU\n"
          ],
          "name": "stdout"
        }
      ]
    },
    {
      "cell_type": "code",
      "metadata": {
        "id": "sWuiz7qUXgFc"
      },
      "source": [
        "from tensorflow.keras.layers import concatenate, add\r\n",
        "from tensorflow.keras.models import Model\r\n",
        "from tensorflow.keras.callbacks import ModelCheckpoint,EarlyStopping"
      ],
      "execution_count": 279,
      "outputs": []
    },
    {
      "cell_type": "code",
      "metadata": {
        "colab": {
          "base_uri": "https://localhost:8080/"
        },
        "id": "ZtKh-I_eN9Bd",
        "outputId": "3370a473-f3da-443d-ab0c-d02d12ddff89"
      },
      "source": [
        "\r\n",
        "\r\n",
        "concatenated = concatenate([model1.output, model2.output], axis=-1)\r\n",
        "    \r\n",
        "output = Dense(64, activation= 'relu',kernel_initializer=weights,name='model_dense0')(concatenated)\r\n",
        "output = Dropout(0.4,name='model_dropout01')(output)\r\n",
        "output = Dense(1, kernel_initializer=weights,name='model_dense1')(output)\r\n",
        "# output = Dropout(0.4,name='model_dropout02')(output)\r\n",
        "# output = Dense(1, kernel_initializer=weights,name='model_dense2')(output)\r\n",
        "# output = Dropout(0.4,name='model_dropout03')(output)\r\n",
        "\r\n",
        "model = Model(inputs=[model1.input, model2.input], outputs=output)\r\n",
        "\r\n",
        "model.summary()"
      ],
      "execution_count": 272,
      "outputs": [
        {
          "output_type": "stream",
          "text": [
            "Model: \"model_30\"\n",
            "__________________________________________________________________________________________________\n",
            "Layer (type)                    Output Shape         Param #     Connected to                     \n",
            "==================================================================================================\n",
            "Model1_embedding_input (InputLa [(None, 200)]        0                                            \n",
            "__________________________________________________________________________________________________\n",
            "Model2_embedding_input (InputLa [(None, 200)]        0                                            \n",
            "__________________________________________________________________________________________________\n",
            "Model1_embedding (Embedding)    (None, 200, 100)     3180800     Model1_embedding_input[0][0]     \n",
            "__________________________________________________________________________________________________\n",
            "Model2_embedding (Embedding)    (None, 200, 100)     3180800     Model2_embedding_input[0][0]     \n",
            "__________________________________________________________________________________________________\n",
            "Model1_dropout1 (Dropout)       (None, 200, 100)     0           Model1_embedding[0][0]           \n",
            "__________________________________________________________________________________________________\n",
            "Model2_dropout (Dropout)        (None, 200, 100)     0           Model2_embedding[0][0]           \n",
            "__________________________________________________________________________________________________\n",
            "Model1_conv1d (Conv1D)          (None, 200, 16)      4816        Model1_dropout1[0][0]            \n",
            "__________________________________________________________________________________________________\n",
            "Model2_conv1d (Conv1D)          (None, 200, 16)      4816        Model2_dropout[0][0]             \n",
            "__________________________________________________________________________________________________\n",
            "Model1_dropout2 (Dropout)       (None, 200, 16)      0           Model1_conv1d[0][0]              \n",
            "__________________________________________________________________________________________________\n",
            "Model2_dropout2 (Dropout)       (None, 200, 16)      0           Model2_conv1d[0][0]              \n",
            "__________________________________________________________________________________________________\n",
            "conv1d_24 (Conv1D)              (None, 200, 16)      784         Model1_dropout2[0][0]            \n",
            "__________________________________________________________________________________________________\n",
            "conv1d_25 (Conv1D)              (None, 200, 16)      784         Model2_dropout2[0][0]            \n",
            "__________________________________________________________________________________________________\n",
            "Model1_dropout3 (Dropout)       (None, 200, 16)      0           conv1d_24[0][0]                  \n",
            "__________________________________________________________________________________________________\n",
            "Model2_dropout3 (Dropout)       (None, 200, 16)      0           conv1d_25[0][0]                  \n",
            "__________________________________________________________________________________________________\n",
            "Model1_LSTM (LSTM)              (None, 128)          74240       Model1_dropout3[0][0]            \n",
            "__________________________________________________________________________________________________\n",
            "Model2_LSTM (LSTM)              (None, 128)          74240       Model2_dropout3[0][0]            \n",
            "__________________________________________________________________________________________________\n",
            "concatenate_43 (Concatenate)    (None, 256)          0           Model1_LSTM[0][0]                \n",
            "                                                                 Model2_LSTM[0][0]                \n",
            "__________________________________________________________________________________________________\n",
            "model_dense0 (Dense)            (None, 64)           16448       concatenate_43[0][0]             \n",
            "__________________________________________________________________________________________________\n",
            "model_dropout01 (Dropout)       (None, 64)           0           model_dense0[0][0]               \n",
            "__________________________________________________________________________________________________\n",
            "model_dense1 (Dense)            (None, 1)            65          model_dropout01[0][0]            \n",
            "==================================================================================================\n",
            "Total params: 6,537,793\n",
            "Trainable params: 6,537,793\n",
            "Non-trainable params: 0\n",
            "__________________________________________________________________________________________________\n"
          ],
          "name": "stdout"
        }
      ]
    },
    {
      "cell_type": "code",
      "metadata": {
        "colab": {
          "base_uri": "https://localhost:8080/",
          "height": 1000
        },
        "id": "uVPYZeOtTzDb",
        "outputId": "eec1a142-9140-4be1-fc25-a8e913623e55"
      },
      "source": [
        "plot_model(model,show_shapes=True, expand_nested=True)"
      ],
      "execution_count": 273,
      "outputs": [
        {
          "output_type": "execute_result",
          "data": {
            "image/png": "[encoded data removed]",
            "text/plain": [
              "<IPython.core.display.Image object>"
            ]
          },
          "metadata": {
            "tags": []
          },
          "execution_count": 273
        }
      ]
    },
    {
      "cell_type": "code",
      "metadata": {
        "id": "DI_aODu0UaN9"
      },
      "source": [
        "model.compile(loss='mean_squared_error',\r\n",
        "                  optimizer=Adam(lr=learning_rate))"
      ],
      "execution_count": 274,
      "outputs": []
    },
    {
      "cell_type": "code",
      "metadata": {
        "colab": {
          "base_uri": "https://localhost:8080/"
        },
        "id": "4D8_JSOXTzBl",
        "outputId": "f6bff4d9-0143-4efe-8cd8-d9299444e758"
      },
      "source": [
        "model.fit([x_train,x_train],y_train,epochs=3)"
      ],
      "execution_count": 275,
      "outputs": [
        {
          "output_type": "stream",
          "text": [
            "Epoch 1/3\n",
            "53/53 [==============================] - 39s 681ms/step - loss: 0.1398\n",
            "Epoch 2/3\n",
            "53/53 [==============================] - 36s 683ms/step - loss: 0.0500\n",
            "Epoch 3/3\n",
            "53/53 [==============================] - 36s 674ms/step - loss: 0.0388\n"
          ],
          "name": "stdout"
        },
        {
          "output_type": "execute_result",
          "data": {
            "text/plain": [
              "<tensorflow.python.keras.callbacks.History at 0x7f5445460518>"
            ]
          },
          "metadata": {
            "tags": []
          },
          "execution_count": 275
        }
      ]
    },
    {
      "cell_type": "code",
      "metadata": {
        "colab": {
          "base_uri": "https://localhost:8080/"
        },
        "id": "Ziityvr0Ty9K",
        "outputId": "dcb94cdf-3534-450e-c5cc-75d0bfd01978"
      },
      "source": [
        "x_train.shape, y_train.shape"
      ],
      "execution_count": 218,
      "outputs": [
        {
          "output_type": "execute_result",
          "data": {
            "text/plain": [
              "((1689, 200), (1689,))"
            ]
          },
          "metadata": {
            "tags": []
          },
          "execution_count": 218
        }
      ]
    },
    {
      "cell_type": "code",
      "metadata": {
        "id": "QTC0p5-mTy6v"
      },
      "source": [
        "save_best_weights = 'question_pairs_weights_deeper={}_wider={}_lr={}_dropout={}.h5'.format(\r\n",
        "                    deeper,wider,learning_rate,dropout)"
      ],
      "execution_count": 282,
      "outputs": []
    },
    {
      "cell_type": "code",
      "metadata": {
        "colab": {
          "base_uri": "https://localhost:8080/",
          "height": 35
        },
        "id": "sIfdVvldvAPh",
        "outputId": "2bb03c36-e535-4bba-9966-b7c7841d71d2"
      },
      "source": [
        "save_best_weights "
      ],
      "execution_count": 284,
      "outputs": [
        {
          "output_type": "execute_result",
          "data": {
            "application/vnd.google.colaboratory.intrinsic+json": {
              "type": "string"
            },
            "text/plain": [
              "'question_pairs_weights_deeper=True_wider=True_lr=0.0001_dropout=0.5.h5'"
            ]
          },
          "metadata": {
            "tags": []
          },
          "execution_count": 284
        }
      ]
    },
    {
      "cell_type": "code",
      "metadata": {
        "id": "WLnToYHMTy4W"
      },
      "source": [
        "filepath=\"weights-improvement-{epoch:02d}-{loss:.2f}.hdf5\"\r\n",
        "\r\n",
        "callbacks = [ModelCheckpoint(filepath=filepath,  monitor='val_loss', save_best_only=True),\r\n",
        "                             EarlyStopping(monitor='val_loss', patience=5, verbose=1, mode='auto'),\r\n",
        "                             ReduceLROnPlateau(monitor='val_loss', factor=0.2, verbose=1, patience=3)]"
      ],
      "execution_count": 285,
      "outputs": []
    },
    {
      "cell_type": "code",
      "metadata": {
        "colab": {
          "base_uri": "https://localhost:8080/"
        },
        "id": "twqgNwGNN8fD",
        "outputId": "f8d78e93-0cea-4d81-b455-ca4fc1302b99"
      },
      "source": [
        "history = model.fit([x_train,x_train],\r\n",
        "                                    y_train,\r\n",
        "                                    batch_size=128,\r\n",
        "                                    epochs=10,\r\n",
        "                                    validation_split=0.15,\r\n",
        "                                    verbose=True,\r\n",
        "                                    shuffle=True,\r\n",
        "                                    callbacks = callbacks)"
      ],
      "execution_count": 287,
      "outputs": [
        {
          "output_type": "stream",
          "text": [
            "Epoch 1/10\n",
            "12/12 [==============================] - 9s 793ms/step - loss: 0.0327 - val_loss: 0.0614\n",
            "Epoch 2/10\n",
            "12/12 [==============================] - 8s 709ms/step - loss: 0.0291 - val_loss: 0.0635\n",
            "Epoch 3/10\n",
            "12/12 [==============================] - 9s 725ms/step - loss: 0.0283 - val_loss: 0.0591\n",
            "Epoch 4/10\n",
            "12/12 [==============================] - 9s 715ms/step - loss: 0.0283 - val_loss: 0.0585\n",
            "Epoch 5/10\n",
            "12/12 [==============================] - 8s 702ms/step - loss: 0.0261 - val_loss: 0.0508\n",
            "Epoch 6/10\n",
            "12/12 [==============================] - 9s 715ms/step - loss: 0.0255 - val_loss: 0.0493\n",
            "Epoch 7/10\n",
            "12/12 [==============================] - 8s 700ms/step - loss: 0.0247 - val_loss: 0.0535\n",
            "Epoch 8/10\n",
            "12/12 [==============================] - 8s 699ms/step - loss: 0.0239 - val_loss: 0.0407\n",
            "Epoch 9/10\n",
            "12/12 [==============================] - 9s 730ms/step - loss: 0.0248 - val_loss: 0.0453\n",
            "Epoch 10/10\n",
            "12/12 [==============================] - 9s 718ms/step - loss: 0.0244 - val_loss: 0.0431\n"
          ],
          "name": "stdout"
        }
      ]
    },
    {
      "cell_type": "code",
      "metadata": {
        "colab": {
          "base_uri": "https://localhost:8080/",
          "height": 282
        },
        "id": "SJHrlCEiNIRz",
        "outputId": "06c4acba-756f-46a5-a8db-85bf0345d7c7"
      },
      "source": [
        "pd.DataFrame(history.history).plot()"
      ],
      "execution_count": 289,
      "outputs": [
        {
          "output_type": "execute_result",
          "data": {
            "text/plain": [
              "<matplotlib.axes._subplots.AxesSubplot at 0x7f530ec3bef0>"
            ]
          },
          "metadata": {
            "tags": []
          },
          "execution_count": 289
        },
        {
          "output_type": "display_data",
          "data": {
            "image/png": "[encoded data removed]",
            "text/plain": [
              "<Figure size 432x288 with 1 Axes>"
            ]
          },
          "metadata": {
            "tags": [],
            "needs_background": "light"
          }
        }
      ]
    },
    {
      "cell_type": "code",
      "metadata": {
        "id": "p3tHutpwNIwF"
      },
      "source": [
        "from keras.utils import plot_model"
      ],
      "execution_count": 120,
      "outputs": []
    },
    {
      "cell_type": "code",
      "metadata": {
        "id": "6irEEy7MNJLi"
      },
      "source": [
        ""
      ],
      "execution_count": null,
      "outputs": []
    },
    {
      "cell_type": "code",
      "metadata": {
        "id": "Y7-K_UZhZ5wZ",
        "colab": {
          "base_uri": "https://localhost:8080/"
        },
        "outputId": "50930fe2-1649-4101-c622-63eba0e82c8e"
      },
      "source": [
        "# Make predictions with the best weights\n",
        "deeper=False\n",
        "wider=False\n",
        "dropout=0.3\n",
        "learning_Rate = 0.001\n",
        "# Need to rebuild model in case it is different from the model that was trained most recently.\n",
        "# model = build_model()\n",
        "\n",
        "# model.load_weights('./question_pairs_weights_deeper={}_wider={}_lr={}_dropout={}.h5'.format(\n",
        "#                     deeper,wider,learning_rate,dropout))\n",
        "predictions = model.predict([x_test,x_test], verbose = True)"
      ],
      "execution_count": 290,
      "outputs": [
        {
          "output_type": "stream",
          "text": [
            "10/10 [==============================] - 1s 82ms/step\n"
          ],
          "name": "stdout"
        }
      ]
    },
    {
      "cell_type": "code",
      "metadata": {
        "id": "t0ocRtPHZ5wZ",
        "outputId": "9ee1f57f-29ff-46c0-ebbd-9e3bd6331eff"
      },
      "source": [
        "# Compare testing loss to training and validating loss\n",
        "mse(y_test, predictions)"
      ],
      "execution_count": null,
      "outputs": [
        {
          "output_type": "execute_result",
          "data": {
            "text/plain": [
              "0.0073422919167846195"
            ]
          },
          "metadata": {
            "tags": []
          },
          "execution_count": 313
        }
      ]
    },
    {
      "cell_type": "code",
      "metadata": {
        "colab": {
          "base_uri": "https://localhost:8080/"
        },
        "id": "xNgtQfhmwGxn",
        "outputId": "97af6d32-ea83-4863-97af-b635515f1942"
      },
      "source": [
        "mse(y_test, predictions)"
      ],
      "execution_count": 291,
      "outputs": [
        {
          "output_type": "execute_result",
          "data": {
            "text/plain": [
              "0.042536466481333"
            ]
          },
          "metadata": {
            "tags": []
          },
          "execution_count": 291
        }
      ]
    },
    {
      "cell_type": "code",
      "metadata": {
        "collapsed": true,
        "id": "QLOlwVTfZ5wa"
      },
      "source": [
        "def unnormalize(price):\n",
        "    '''Revert values to their unnormalized amounts'''\n",
        "    price = price*(max_price-min_price)+min_price\n",
        "    return(price)"
      ],
      "execution_count": 293,
      "outputs": []
    },
    {
      "cell_type": "code",
      "metadata": {
        "collapsed": true,
        "id": "62yO2z9oZ5wa"
      },
      "source": [
        "unnorm_predictions = []\n",
        "for pred in predictions:\n",
        "    unnorm_predictions.append(unnormalize(pred))\n",
        "    \n",
        "unnorm_y_test = []\n",
        "for y in y_test:\n",
        "    unnorm_y_test.append(unnormalize(y))"
      ],
      "execution_count": 294,
      "outputs": []
    },
    {
      "cell_type": "code",
      "metadata": {
        "id": "b_Q3iM0WZ5wa",
        "colab": {
          "base_uri": "https://localhost:8080/"
        },
        "outputId": "0e700574-bcb0-4d26-aaf6-c547cd920f72"
      },
      "source": [
        "# Calculate the median absolute error for the predictions\n",
        "mae(unnorm_y_test, unnorm_predictions)"
      ],
      "execution_count": 295,
      "outputs": [
        {
          "output_type": "execute_result",
          "data": {
            "text/plain": [
              "309.3950798164078"
            ]
          },
          "metadata": {
            "tags": []
          },
          "execution_count": 295
        }
      ]
    },
    {
      "cell_type": "code",
      "metadata": {
        "id": "LdFKTdgDZ5wa",
        "colab": {
          "base_uri": "https://localhost:8080/"
        },
        "outputId": "820e9acd-5381-4700-b314-a1f592d4d0e9"
      },
      "source": [
        "print(\"Summary of actual opening price changes\")\n",
        "print(pd.DataFrame(unnorm_y_test, columns=[\"\"]).describe())\n",
        "print()\n",
        "print(\"Summary of predicted opening price changes\")\n",
        "print(pd.DataFrame(unnorm_predictions, columns=[\"\"]).describe())"
      ],
      "execution_count": 296,
      "outputs": [
        {
          "output_type": "stream",
          "text": [
            "Summary of actual opening price changes\n",
            "                 \n",
            "count  299.000000\n",
            "mean    -7.094101\n",
            "std    139.532324\n",
            "min   -541.050782\n",
            "25%    -87.465332\n",
            "50%    -10.759766\n",
            "75%     54.689941\n",
            "max    673.139648\n",
            "\n",
            "Summary of predicted opening price changes\n",
            "                 \n",
            "count  299.000000\n",
            "mean  -326.142364\n",
            "std     33.128276\n",
            "min   -437.303070\n",
            "25%   -347.675354\n",
            "50%   -326.509033\n",
            "75%   -305.913361\n",
            "max   -224.418518\n"
          ],
          "name": "stdout"
        }
      ]
    },
    {
      "cell_type": "code",
      "metadata": {
        "id": "dDJXTNtAZ5wa",
        "colab": {
          "base_uri": "https://localhost:8080/",
          "height": 295
        },
        "outputId": "0a79c3f5-f47a-4170-d9cf-c4b5d8b901e8"
      },
      "source": [
        "# Plot the predicted (blue) and actual (green) values\n",
        "plt.figure(figsize=(12,4))\n",
        "plt.plot(unnorm_predictions)\n",
        "plt.plot(unnorm_y_test)\n",
        "plt.title(\"Predicted (blue) vs Actual (green) Opening Price Changes\")\n",
        "plt.xlabel(\"Testing instances\")\n",
        "plt.ylabel(\"Change in Opening Price\")\n",
        "plt.show()"
      ],
      "execution_count": 297,
      "outputs": [
        {
          "output_type": "display_data",
          "data": {
            "image/png": "[encoded data removed]",
            "text/plain": [
              "<Figure size 864x288 with 1 Axes>"
            ]
          },
          "metadata": {
            "tags": [],
            "needs_background": "light"
          }
        }
      ]
    },
    {
      "cell_type": "code",
      "metadata": {
        "collapsed": true,
        "id": "SyydgwdPZ5wa"
      },
      "source": [
        "# Create lists to measure if opening price increased or decreased\n",
        "direction_pred = []\n",
        "for pred in unnorm_predictions:\n",
        "    if pred >= 0:\n",
        "        direction_pred.append(1)\n",
        "    else:\n",
        "        direction_pred.append(0)\n",
        "direction_test = []\n",
        "for value in unnorm_y_test:\n",
        "    if value >= 0:\n",
        "        direction_test.append(1)\n",
        "    else:\n",
        "        direction_test.append(0)"
      ],
      "execution_count": 298,
      "outputs": []
    },
    {
      "cell_type": "code",
      "metadata": {
        "id": "gnMceJP4Z5wb",
        "colab": {
          "base_uri": "https://localhost:8080/"
        },
        "outputId": "0c03c47d-5853-4e82-d77f-5222d58d966b"
      },
      "source": [
        "# Calculate if the predicted direction matched the actual direction\n",
        "direction = acc(direction_test, direction_pred)\n",
        "direction = round(direction,4)*100\n",
        "print(\"Predicted values matched the actual direction {}% of the time.\".format(direction))"
      ],
      "execution_count": 299,
      "outputs": [
        {
          "output_type": "stream",
          "text": [
            "Predicted values matched the actual direction 56.86% of the time.\n"
          ],
          "name": "stdout"
        }
      ]
    },
    {
      "cell_type": "markdown",
      "metadata": {
        "id": "hi7v9SR0Z5wb"
      },
      "source": [
        "As we can see from the data above, this model struggles to accurately predict the change in the opening price of the Dow Jones Instrustial Average. Given that its median average error is 74.15 and the interquartile range of the actual price change is 142.16 (87.47 + 54.69), this model is about as good as someone who knows the average price change of the Dow. \n",
        "\n",
        "I have a few ideas for why this model struggles:\n",
        "- The market is arguably to be a random walk. Although there is some direction to its movements, there is still quite a bit of randomness to its movements.\n",
        "- The news that we used might not be the most relevant. Perhaps it would have been better to use news relating to the 30 companies that make up the Dow.\n",
        "- More information could have been included in the model, such as the previous day(s)'s change, the previous day(s)'s main headline(s). \n",
        "- Many people have worked on this task for years and companies spend millions of dollars to try to predict the movements of the market, so we shouldn't expect anything too great considering the small amount of data that we are working with and the simplicity of our model."
      ]
    },
    {
      "cell_type": "markdown",
      "metadata": {
        "id": "nClyXSOxZ5wb"
      },
      "source": [
        "## Make Your Own Predictions"
      ]
    },
    {
      "cell_type": "markdown",
      "metadata": {
        "id": "w_S5dIZHZ5wb"
      },
      "source": [
        "Below is the code necessary to make your own predictions. I found that the predictions are most accurate when there is no padding included in the input data. In the create_news variable, I have some default news that you can use, which is from April 30th, 2017. Just change the text to whatever you want, then see the impact your new headline will have."
      ]
    },
    {
      "cell_type": "code",
      "metadata": {
        "collapsed": true,
        "id": "U7JIWnKoZ5wb"
      },
      "source": [
        "def news_to_int(news):\n",
        "    '''Convert your created news into integers'''\n",
        "    ints = []\n",
        "    for word in news.split():\n",
        "        if word in vocab_to_int:\n",
        "            ints.append(vocab_to_int[word])\n",
        "        else:\n",
        "            ints.append(vocab_to_int['<UNK>'])\n",
        "    return ints"
      ],
      "execution_count": 300,
      "outputs": []
    },
    {
      "cell_type": "code",
      "metadata": {
        "collapsed": true,
        "id": "bj-E4n36Z5wb"
      },
      "source": [
        "def padding_news(news):\n",
        "    '''Adjusts the length of your created news to fit the model's input values.'''\n",
        "    padded_news = news\n",
        "    if len(padded_news) < max_daily_length:\n",
        "        for i in range(max_daily_length-len(padded_news)):\n",
        "            padded_news.append(vocab_to_int[\"<PAD>\"])\n",
        "    elif len(padded_news) > max_daily_length:\n",
        "        padded_news = padded_news[:max_daily_length]\n",
        "    return padded_news"
      ],
      "execution_count": 301,
      "outputs": []
    },
    {
      "cell_type": "code",
      "metadata": {
        "id": "7cDM-9MaZ5wb",
        "colab": {
          "base_uri": "https://localhost:8080/"
        },
        "outputId": "19d1cbd5-462e-47e2-f141-4a73a42a9b81"
      },
      "source": [
        "# Default news that you can use\n",
        "create_news = \"Leaked document reveals Facebook conducted research to target emotionally vulnerable and insecure youth. \\\n",
        "               Woman says note from Chinese 'prisoner' was hidden in new purse. \\\n",
        "               21,000 AT&T workers poised for Monday strike \\\n",
        "               housands march against Trump climate policies in D.C., across USA \\\n",
        "               Kentucky judge won't hear gay adoptions because it's not in the child's \\\"best interest\\\" \\\n",
        "               Multiple victims shot in UTC area apartment complex \\\n",
        "               Drones Lead Police to Illegal Dumping in Riverside County | NBC Southern California \\\n",
        "               An 86-year-old Californian woman has died trying to fight a man who was allegedly sexually assaulting her 61-year-old friend. \\\n",
        "               Fyre Festival Named in $5Million+ Lawsuit after Stranding Festival-Goers on Island with Little Food, No Security. \\\n",
        "               The \\\"Greatest Show on Earth\\\" folds its tent for good \\\n",
        "               U.S.-led fight on ISIS have killed 352 civilians: Pentagon \\\n",
        "               Woman offers undercover officer sex for $25 and some Chicken McNuggets \\\n",
        "               Ohio bridge refuses to fall down after three implosion attempts \\\n",
        "               Jersey Shore MIT grad dies in prank falling from library dome \\\n",
        "               New York graffiti artists claim McDonald's stole work for latest burger campaign \\\n",
        "               SpaceX to launch secretive satellite for U.S. intelligence agency \\\n",
        "               Severe Storms Leave a Trail of Death and Destruction Through the U.S. \\\n",
        "               Hamas thanks N. Korea for its support against ‘Israeli occupation’ \\\n",
        "               Baker Police officer arrested for allegedly covering up details in shots fired investigation \\\n",
        "               Miami doctor’s call to broker during baby’s delivery leads to $33.8 million judgment \\\n",
        "               Minnesota man gets 15 years for shooting 5 Black Lives Matter protesters \\\n",
        "               South Australian woman facing possible 25 years in Colombian prison for drug trafficking \\\n",
        "               The Latest: Deal reached on funding government through Sept. \\\n",
        "               Russia flaunts Arctic expansion with new military bases\"\n",
        "\n",
        "clean_news = clean_text(create_news)\n",
        "\n",
        "int_news = news_to_int(clean_news)\n",
        "\n",
        "pad_news = padding_news(int_news)\n",
        "\n",
        "pad_news = np.array(pad_news).reshape((1,-1))\n",
        "\n",
        "pred = model.predict([pad_news,pad_news])\n",
        "\n",
        "price_change = unnormalize(pred)\n",
        "\n",
        "print(\"The Dow should open: {} from the previous open.\".format(np.round(price_change[0][0],2)))"
      ],
      "execution_count": 303,
      "outputs": [
        {
          "output_type": "stream",
          "text": [
            "The Dow should open: -371.70001220703125 from the previous open.\n"
          ],
          "name": "stdout"
        }
      ]
    }
  ]
}