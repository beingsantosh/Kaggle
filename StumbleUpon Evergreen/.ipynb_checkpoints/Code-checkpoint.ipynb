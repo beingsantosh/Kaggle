{
 "cells": [
  {
   "cell_type": "markdown",
   "metadata": {},
   "source": [
    "-----------------------------------------------------------\n",
    "### **```Table of Content```** \n",
    "-----------------------------------------------------------\n",
    "#### 1. ```Description about the Project```  <font size=0.22 > [Click](#desc) </font> \n",
    "\n",
    "#### 2. ```Understanding the Dataset```<font size=0.22 > [Click](#dataset) </font> \n",
    "        \n",
    "   - Exploring all the Features\n",
    "       - Categorical  \n",
    "       - Non categorical\n",
    "   \n",
    "        \n",
    "#### 3.  ```Feature Engineering```   <font size = 1 >[Click](#featureEng) </font >\n",
    "#### 4.  ```Feature Selection```   <font size = 1 >[Click](#featureSel) </font >\n",
    "#### 5. ``` Data Prepration for modelling```<font size = 1 >[Click](#dataprep) </font >\n",
    "#### 6. ``` Machine Learning Modelling```<font size = 1 >[Click](#modelling) </font >"
   ]
  },
  {
   "cell_type": "markdown",
   "metadata": {},
   "source": [
    "<a id = desc></a>\n",
    "\n",
    "<a id = desc></a>\n",
    "\n",
    "\n",
    "## <u> Description about the project </u>\n",
    "\n",
    "\n",
    ">**StumbleUpon** is a user-curated web content discovery engine that recommends relevant, high quality pages and media to its users, based on their interests. While some pages we recommend, such as news articles or seasonal recipes, are only relevant for a short period of time, others maintain a timeless quality and can be recommended to users long after they are discovered. In other words, pages can either be classified as **\"ephemeral\"** or **\"evergreen\"**. The ratings we get from our community give us strong signals that a page may no longer be relevant - but what if we could make this distinction ahead of time? A high quality prediction of \"ephemeral\" or \"evergreen\" would greatly improve a recommendation system like ours.\n",
    "\n",
    "\n",
    ">There are two components to the data provided for this challenge:\n",
    "\n",
    ">>The first component is two files: \n",
    "**train.tsv** and **test.tsv.** \n",
    "Each is a tab-delimited text file containing the fields outlined below for 10,566 urls total. Fields for which no data is available are indicated with a question mark.\n",
    "train.tsv  is the training set and contains 7,395 urls. Binary evergreen labels (either ``evergreen`` (1) or ``non-evergreen`` (0)) are provided for this set.\n",
    "test.tsv is the test/evaluation set and contains 3,171 urls.\n",
    "\n",
    ">> Second component is **raw_content.zip**, a zip file containing the raw content for each url, as seen by StumbleUpon's crawler. Each url's raw content is stored in a tab-delimited text file, named with the urlid as indicated in train.tsv and test.tsv."
   ]
  },
  {
   "cell_type": "markdown",
   "metadata": {},
   "source": [
    "<a id = desc></a>\n",
    "\n",
    "<a id = dataset></a>\n",
    "\n",
    "\n",
    "## <u>Understanding the Dataset </u>"
   ]
  },
  {
   "cell_type": "code",
   "execution_count": 1,
   "metadata": {},
   "outputs": [],
   "source": [
    "import pandas as pd\n",
    "import numpy as np\n",
    "import seaborn as sns\n",
    "import matplotlib.pyplot as plt\n",
    "%matplotlib inline\n",
    "\n",
    "import warnings\n",
    "warnings.filterwarnings('ignore')"
   ]
  },
  {
   "cell_type": "code",
   "execution_count": 2,
   "metadata": {},
   "outputs": [],
   "source": [
    "%config Completer.use_jedi = False"
   ]
  },
  {
   "cell_type": "code",
   "execution_count": 3,
   "metadata": {},
   "outputs": [],
   "source": [
    "df_train = pd.read_csv('train.tsv', sep=\"\\t\")\n",
    "df_test = pd.read_csv('test.tsv', sep=\"\\t\")"
   ]
  },
  {
   "cell_type": "code",
   "execution_count": 4,
   "metadata": {},
   "outputs": [
    {
     "data": {
      "text/plain": [
       "((7395, 27), (3171, 26))"
      ]
     },
     "execution_count": 4,
     "metadata": {},
     "output_type": "execute_result"
    }
   ],
   "source": [
    "df_train.shape, df_test.shape"
   ]
  },
  {
   "cell_type": "code",
   "execution_count": 5,
   "metadata": {},
   "outputs": [
    {
     "data": {
      "text/html": [
       "<div>\n",
       "<style scoped>\n",
       "    .dataframe tbody tr th:only-of-type {\n",
       "        vertical-align: middle;\n",
       "    }\n",
       "\n",
       "    .dataframe tbody tr th {\n",
       "        vertical-align: top;\n",
       "    }\n",
       "\n",
       "    .dataframe thead th {\n",
       "        text-align: right;\n",
       "    }\n",
       "</style>\n",
       "<table border=\"1\" class=\"dataframe\">\n",
       "  <thead>\n",
       "    <tr style=\"text-align: right;\">\n",
       "      <th></th>\n",
       "      <th>url</th>\n",
       "      <th>urlid</th>\n",
       "      <th>boilerplate</th>\n",
       "      <th>alchemy_category</th>\n",
       "      <th>alchemy_category_score</th>\n",
       "      <th>avglinksize</th>\n",
       "      <th>commonlinkratio_1</th>\n",
       "      <th>commonlinkratio_2</th>\n",
       "      <th>commonlinkratio_3</th>\n",
       "      <th>commonlinkratio_4</th>\n",
       "      <th>...</th>\n",
       "      <th>is_news</th>\n",
       "      <th>lengthyLinkDomain</th>\n",
       "      <th>linkwordscore</th>\n",
       "      <th>news_front_page</th>\n",
       "      <th>non_markup_alphanum_characters</th>\n",
       "      <th>numberOfLinks</th>\n",
       "      <th>numwords_in_url</th>\n",
       "      <th>parametrizedLinkRatio</th>\n",
       "      <th>spelling_errors_ratio</th>\n",
       "      <th>label</th>\n",
       "    </tr>\n",
       "  </thead>\n",
       "  <tbody>\n",
       "    <tr>\n",
       "      <th>0</th>\n",
       "      <td>http://www.bloomberg.com/news/2010-12-23/ibm-p...</td>\n",
       "      <td>4042</td>\n",
       "      <td>{\"title\":\"IBM Sees Holographic Calls Air Breat...</td>\n",
       "      <td>business</td>\n",
       "      <td>0.789131</td>\n",
       "      <td>2.055556</td>\n",
       "      <td>0.676471</td>\n",
       "      <td>0.205882</td>\n",
       "      <td>0.047059</td>\n",
       "      <td>0.023529</td>\n",
       "      <td>...</td>\n",
       "      <td>1</td>\n",
       "      <td>1</td>\n",
       "      <td>24</td>\n",
       "      <td>0</td>\n",
       "      <td>5424</td>\n",
       "      <td>170</td>\n",
       "      <td>8</td>\n",
       "      <td>0.152941</td>\n",
       "      <td>0.079130</td>\n",
       "      <td>0</td>\n",
       "    </tr>\n",
       "    <tr>\n",
       "      <th>1</th>\n",
       "      <td>http://www.popsci.com/technology/article/2012-...</td>\n",
       "      <td>8471</td>\n",
       "      <td>{\"title\":\"The Fully Electronic Futuristic Star...</td>\n",
       "      <td>recreation</td>\n",
       "      <td>0.574147</td>\n",
       "      <td>3.677966</td>\n",
       "      <td>0.508021</td>\n",
       "      <td>0.288770</td>\n",
       "      <td>0.213904</td>\n",
       "      <td>0.144385</td>\n",
       "      <td>...</td>\n",
       "      <td>1</td>\n",
       "      <td>1</td>\n",
       "      <td>40</td>\n",
       "      <td>0</td>\n",
       "      <td>4973</td>\n",
       "      <td>187</td>\n",
       "      <td>9</td>\n",
       "      <td>0.181818</td>\n",
       "      <td>0.125448</td>\n",
       "      <td>1</td>\n",
       "    </tr>\n",
       "    <tr>\n",
       "      <th>2</th>\n",
       "      <td>http://www.menshealth.com/health/flu-fighting-...</td>\n",
       "      <td>1164</td>\n",
       "      <td>{\"title\":\"Fruits that Fight the Flu fruits tha...</td>\n",
       "      <td>health</td>\n",
       "      <td>0.996526</td>\n",
       "      <td>2.382883</td>\n",
       "      <td>0.562016</td>\n",
       "      <td>0.321705</td>\n",
       "      <td>0.120155</td>\n",
       "      <td>0.042636</td>\n",
       "      <td>...</td>\n",
       "      <td>1</td>\n",
       "      <td>1</td>\n",
       "      <td>55</td>\n",
       "      <td>0</td>\n",
       "      <td>2240</td>\n",
       "      <td>258</td>\n",
       "      <td>11</td>\n",
       "      <td>0.166667</td>\n",
       "      <td>0.057613</td>\n",
       "      <td>1</td>\n",
       "    </tr>\n",
       "    <tr>\n",
       "      <th>3</th>\n",
       "      <td>http://www.dumblittleman.com/2007/12/10-foolpr...</td>\n",
       "      <td>6684</td>\n",
       "      <td>{\"title\":\"10 Foolproof Tips for Better Sleep \"...</td>\n",
       "      <td>health</td>\n",
       "      <td>0.801248</td>\n",
       "      <td>1.543103</td>\n",
       "      <td>0.400000</td>\n",
       "      <td>0.100000</td>\n",
       "      <td>0.016667</td>\n",
       "      <td>0.000000</td>\n",
       "      <td>...</td>\n",
       "      <td>1</td>\n",
       "      <td>0</td>\n",
       "      <td>24</td>\n",
       "      <td>0</td>\n",
       "      <td>2737</td>\n",
       "      <td>120</td>\n",
       "      <td>5</td>\n",
       "      <td>0.041667</td>\n",
       "      <td>0.100858</td>\n",
       "      <td>1</td>\n",
       "    </tr>\n",
       "    <tr>\n",
       "      <th>4</th>\n",
       "      <td>http://bleacherreport.com/articles/1205138-the...</td>\n",
       "      <td>9006</td>\n",
       "      <td>{\"title\":\"The 50 Coolest Jerseys You Didn t Kn...</td>\n",
       "      <td>sports</td>\n",
       "      <td>0.719157</td>\n",
       "      <td>2.676471</td>\n",
       "      <td>0.500000</td>\n",
       "      <td>0.222222</td>\n",
       "      <td>0.123457</td>\n",
       "      <td>0.043210</td>\n",
       "      <td>...</td>\n",
       "      <td>1</td>\n",
       "      <td>1</td>\n",
       "      <td>14</td>\n",
       "      <td>0</td>\n",
       "      <td>12032</td>\n",
       "      <td>162</td>\n",
       "      <td>10</td>\n",
       "      <td>0.098765</td>\n",
       "      <td>0.082569</td>\n",
       "      <td>0</td>\n",
       "    </tr>\n",
       "  </tbody>\n",
       "</table>\n",
       "<p>5 rows × 27 columns</p>\n",
       "</div>"
      ],
      "text/plain": [
       "                                                 url  urlid  \\\n",
       "0  http://www.bloomberg.com/news/2010-12-23/ibm-p...   4042   \n",
       "1  http://www.popsci.com/technology/article/2012-...   8471   \n",
       "2  http://www.menshealth.com/health/flu-fighting-...   1164   \n",
       "3  http://www.dumblittleman.com/2007/12/10-foolpr...   6684   \n",
       "4  http://bleacherreport.com/articles/1205138-the...   9006   \n",
       "\n",
       "                                         boilerplate alchemy_category  \\\n",
       "0  {\"title\":\"IBM Sees Holographic Calls Air Breat...         business   \n",
       "1  {\"title\":\"The Fully Electronic Futuristic Star...       recreation   \n",
       "2  {\"title\":\"Fruits that Fight the Flu fruits tha...           health   \n",
       "3  {\"title\":\"10 Foolproof Tips for Better Sleep \"...           health   \n",
       "4  {\"title\":\"The 50 Coolest Jerseys You Didn t Kn...           sports   \n",
       "\n",
       "  alchemy_category_score  avglinksize  commonlinkratio_1  commonlinkratio_2  \\\n",
       "0               0.789131     2.055556           0.676471           0.205882   \n",
       "1               0.574147     3.677966           0.508021           0.288770   \n",
       "2               0.996526     2.382883           0.562016           0.321705   \n",
       "3               0.801248     1.543103           0.400000           0.100000   \n",
       "4               0.719157     2.676471           0.500000           0.222222   \n",
       "\n",
       "   commonlinkratio_3  commonlinkratio_4  ...    is_news  lengthyLinkDomain  \\\n",
       "0           0.047059           0.023529  ...          1                  1   \n",
       "1           0.213904           0.144385  ...          1                  1   \n",
       "2           0.120155           0.042636  ...          1                  1   \n",
       "3           0.016667           0.000000  ...          1                  0   \n",
       "4           0.123457           0.043210  ...          1                  1   \n",
       "\n",
       "   linkwordscore  news_front_page  non_markup_alphanum_characters  \\\n",
       "0             24                0                            5424   \n",
       "1             40                0                            4973   \n",
       "2             55                0                            2240   \n",
       "3             24                0                            2737   \n",
       "4             14                0                           12032   \n",
       "\n",
       "   numberOfLinks  numwords_in_url parametrizedLinkRatio  \\\n",
       "0            170                8              0.152941   \n",
       "1            187                9              0.181818   \n",
       "2            258               11              0.166667   \n",
       "3            120                5              0.041667   \n",
       "4            162               10              0.098765   \n",
       "\n",
       "   spelling_errors_ratio  label  \n",
       "0               0.079130      0  \n",
       "1               0.125448      1  \n",
       "2               0.057613      1  \n",
       "3               0.100858      1  \n",
       "4               0.082569      0  \n",
       "\n",
       "[5 rows x 27 columns]"
      ]
     },
     "execution_count": 5,
     "metadata": {},
     "output_type": "execute_result"
    }
   ],
   "source": [
    "df_train.head()"
   ]
  },
  {
   "cell_type": "code",
   "execution_count": 6,
   "metadata": {},
   "outputs": [],
   "source": [
    "# categories which are 'categorical' in nature\n",
    "categorical_features = df_train.dtypes[df_train.dtypes=='O'].index"
   ]
  },
  {
   "cell_type": "code",
   "execution_count": 7,
   "metadata": {},
   "outputs": [],
   "source": [
    "# finding out all the columns name which are other than categorical('object') \n",
    "not_cat_features = set(df_train.columns) - set(categorical_features)"
   ]
  },
  {
   "cell_type": "markdown",
   "metadata": {},
   "source": [
    " ### ```Insights from non-categorical features```\n",
    " \n",
    " <ol> <li>  few of them are binary</li>\n",
    "      <li>  one does not carry any value.. it contains only zero</li>\n",
    "    <li> Few of them have considerable correlation which would help at feature selection time.</li>\n",
    "</ol>\n"
   ]
  },
  {
   "cell_type": "code",
   "execution_count": 8,
   "metadata": {},
   "outputs": [
    {
     "data": {
      "text/html": [
       "<div>\n",
       "<style scoped>\n",
       "    .dataframe tbody tr th:only-of-type {\n",
       "        vertical-align: middle;\n",
       "    }\n",
       "\n",
       "    .dataframe tbody tr th {\n",
       "        vertical-align: top;\n",
       "    }\n",
       "\n",
       "    .dataframe thead th {\n",
       "        text-align: right;\n",
       "    }\n",
       "</style>\n",
       "<table border=\"1\" class=\"dataframe\">\n",
       "  <thead>\n",
       "    <tr style=\"text-align: right;\">\n",
       "      <th></th>\n",
       "      <th>numwords_in_url</th>\n",
       "      <th>lengthyLinkDomain</th>\n",
       "      <th>commonlinkratio_1</th>\n",
       "      <th>commonlinkratio_3</th>\n",
       "      <th>compression_ratio</th>\n",
       "      <th>linkwordscore</th>\n",
       "      <th>urlid</th>\n",
       "      <th>html_ratio</th>\n",
       "      <th>image_ratio</th>\n",
       "      <th>framebased</th>\n",
       "      <th>...</th>\n",
       "      <th>commonlinkratio_4</th>\n",
       "      <th>embed_ratio</th>\n",
       "      <th>frameTagRatio</th>\n",
       "      <th>numberOfLinks</th>\n",
       "      <th>avglinksize</th>\n",
       "      <th>parametrizedLinkRatio</th>\n",
       "      <th>label</th>\n",
       "      <th>spelling_errors_ratio</th>\n",
       "      <th>non_markup_alphanum_characters</th>\n",
       "      <th>commonlinkratio_2</th>\n",
       "    </tr>\n",
       "  </thead>\n",
       "  <tbody>\n",
       "    <tr>\n",
       "      <th>0</th>\n",
       "      <td>8</td>\n",
       "      <td>1</td>\n",
       "      <td>0.676471</td>\n",
       "      <td>0.047059</td>\n",
       "      <td>0.443783</td>\n",
       "      <td>24</td>\n",
       "      <td>4042</td>\n",
       "      <td>0.245831</td>\n",
       "      <td>0.003883</td>\n",
       "      <td>0</td>\n",
       "      <td>...</td>\n",
       "      <td>0.023529</td>\n",
       "      <td>0.0</td>\n",
       "      <td>0.090774</td>\n",
       "      <td>170</td>\n",
       "      <td>2.055556</td>\n",
       "      <td>0.152941</td>\n",
       "      <td>0</td>\n",
       "      <td>0.079130</td>\n",
       "      <td>5424</td>\n",
       "      <td>0.205882</td>\n",
       "    </tr>\n",
       "    <tr>\n",
       "      <th>1</th>\n",
       "      <td>9</td>\n",
       "      <td>1</td>\n",
       "      <td>0.508021</td>\n",
       "      <td>0.213904</td>\n",
       "      <td>0.468649</td>\n",
       "      <td>40</td>\n",
       "      <td>8471</td>\n",
       "      <td>0.203490</td>\n",
       "      <td>0.088652</td>\n",
       "      <td>0</td>\n",
       "      <td>...</td>\n",
       "      <td>0.144385</td>\n",
       "      <td>0.0</td>\n",
       "      <td>0.098707</td>\n",
       "      <td>187</td>\n",
       "      <td>3.677966</td>\n",
       "      <td>0.181818</td>\n",
       "      <td>1</td>\n",
       "      <td>0.125448</td>\n",
       "      <td>4973</td>\n",
       "      <td>0.288770</td>\n",
       "    </tr>\n",
       "    <tr>\n",
       "      <th>2</th>\n",
       "      <td>11</td>\n",
       "      <td>1</td>\n",
       "      <td>0.562016</td>\n",
       "      <td>0.120155</td>\n",
       "      <td>0.525448</td>\n",
       "      <td>55</td>\n",
       "      <td>1164</td>\n",
       "      <td>0.226402</td>\n",
       "      <td>0.120536</td>\n",
       "      <td>0</td>\n",
       "      <td>...</td>\n",
       "      <td>0.042636</td>\n",
       "      <td>0.0</td>\n",
       "      <td>0.072448</td>\n",
       "      <td>258</td>\n",
       "      <td>2.382883</td>\n",
       "      <td>0.166667</td>\n",
       "      <td>1</td>\n",
       "      <td>0.057613</td>\n",
       "      <td>2240</td>\n",
       "      <td>0.321705</td>\n",
       "    </tr>\n",
       "    <tr>\n",
       "      <th>3</th>\n",
       "      <td>5</td>\n",
       "      <td>0</td>\n",
       "      <td>0.400000</td>\n",
       "      <td>0.016667</td>\n",
       "      <td>0.480725</td>\n",
       "      <td>24</td>\n",
       "      <td>6684</td>\n",
       "      <td>0.265656</td>\n",
       "      <td>0.035343</td>\n",
       "      <td>0</td>\n",
       "      <td>...</td>\n",
       "      <td>0.000000</td>\n",
       "      <td>0.0</td>\n",
       "      <td>0.095861</td>\n",
       "      <td>120</td>\n",
       "      <td>1.543103</td>\n",
       "      <td>0.041667</td>\n",
       "      <td>1</td>\n",
       "      <td>0.100858</td>\n",
       "      <td>2737</td>\n",
       "      <td>0.100000</td>\n",
       "    </tr>\n",
       "    <tr>\n",
       "      <th>4</th>\n",
       "      <td>10</td>\n",
       "      <td>1</td>\n",
       "      <td>0.500000</td>\n",
       "      <td>0.123457</td>\n",
       "      <td>0.446143</td>\n",
       "      <td>14</td>\n",
       "      <td>9006</td>\n",
       "      <td>0.228887</td>\n",
       "      <td>0.050473</td>\n",
       "      <td>0</td>\n",
       "      <td>...</td>\n",
       "      <td>0.043210</td>\n",
       "      <td>0.0</td>\n",
       "      <td>0.024908</td>\n",
       "      <td>162</td>\n",
       "      <td>2.676471</td>\n",
       "      <td>0.098765</td>\n",
       "      <td>0</td>\n",
       "      <td>0.082569</td>\n",
       "      <td>12032</td>\n",
       "      <td>0.222222</td>\n",
       "    </tr>\n",
       "  </tbody>\n",
       "</table>\n",
       "<p>5 rows × 21 columns</p>\n",
       "</div>"
      ],
      "text/plain": [
       "   numwords_in_url  lengthyLinkDomain  commonlinkratio_1  commonlinkratio_3  \\\n",
       "0                8                  1           0.676471           0.047059   \n",
       "1                9                  1           0.508021           0.213904   \n",
       "2               11                  1           0.562016           0.120155   \n",
       "3                5                  0           0.400000           0.016667   \n",
       "4               10                  1           0.500000           0.123457   \n",
       "\n",
       "   compression_ratio  linkwordscore  urlid  html_ratio  image_ratio  \\\n",
       "0           0.443783             24   4042    0.245831     0.003883   \n",
       "1           0.468649             40   8471    0.203490     0.088652   \n",
       "2           0.525448             55   1164    0.226402     0.120536   \n",
       "3           0.480725             24   6684    0.265656     0.035343   \n",
       "4           0.446143             14   9006    0.228887     0.050473   \n",
       "\n",
       "   framebased        ...          commonlinkratio_4  embed_ratio  \\\n",
       "0           0        ...                   0.023529          0.0   \n",
       "1           0        ...                   0.144385          0.0   \n",
       "2           0        ...                   0.042636          0.0   \n",
       "3           0        ...                   0.000000          0.0   \n",
       "4           0        ...                   0.043210          0.0   \n",
       "\n",
       "   frameTagRatio  numberOfLinks  avglinksize  parametrizedLinkRatio  label  \\\n",
       "0       0.090774            170     2.055556               0.152941      0   \n",
       "1       0.098707            187     3.677966               0.181818      1   \n",
       "2       0.072448            258     2.382883               0.166667      1   \n",
       "3       0.095861            120     1.543103               0.041667      1   \n",
       "4       0.024908            162     2.676471               0.098765      0   \n",
       "\n",
       "   spelling_errors_ratio  non_markup_alphanum_characters  commonlinkratio_2  \n",
       "0               0.079130                            5424           0.205882  \n",
       "1               0.125448                            4973           0.288770  \n",
       "2               0.057613                            2240           0.321705  \n",
       "3               0.100858                            2737           0.100000  \n",
       "4               0.082569                           12032           0.222222  \n",
       "\n",
       "[5 rows x 21 columns]"
      ]
     },
     "execution_count": 8,
     "metadata": {},
     "output_type": "execute_result"
    }
   ],
   "source": [
    "df_train[list(not_cat_features)].head()"
   ]
  },
  {
   "cell_type": "code",
   "execution_count": 9,
   "metadata": {},
   "outputs": [
    {
     "name": "stdout",
     "output_type": "stream",
     "text": [
      "Wall time: 0 ns\n"
     ]
    }
   ],
   "source": [
    "%%time\n",
    "# sns.pairplot(df_train[list(not_cat_features)], hue='label')"
   ]
  },
  {
   "cell_type": "code",
   "execution_count": 10,
   "metadata": {},
   "outputs": [
    {
     "data": {
      "text/plain": [
       "<matplotlib.axes._subplots.AxesSubplot at 0x20c458cd888>"
      ]
     },
     "execution_count": 10,
     "metadata": {},
     "output_type": "execute_result"
    },
    {
     "data": {
      "image/png": "[encoded data removed]",
      "text/plain": [
       "<Figure size 1080x720 with 2 Axes>"
      ]
     },
     "metadata": {
      "needs_background": "light"
     },
     "output_type": "display_data"
    }
   ],
   "source": [
    "plt.figure(figsize=(15,10))\n",
    "sns.heatmap(df_train[list(not_cat_features)].corr(), cmap=plt.cm.BrBG_r)"
   ]
  },
  {
   "cell_type": "code",
   "execution_count": 11,
   "metadata": {},
   "outputs": [
    {
     "data": {
      "text/html": [
       "<div>\n",
       "<style scoped>\n",
       "    .dataframe tbody tr th:only-of-type {\n",
       "        vertical-align: middle;\n",
       "    }\n",
       "\n",
       "    .dataframe tbody tr th {\n",
       "        vertical-align: top;\n",
       "    }\n",
       "\n",
       "    .dataframe thead th {\n",
       "        text-align: right;\n",
       "    }\n",
       "</style>\n",
       "<table border=\"1\" class=\"dataframe\">\n",
       "  <thead>\n",
       "    <tr style=\"text-align: right;\">\n",
       "      <th></th>\n",
       "      <th>url</th>\n",
       "      <th>boilerplate</th>\n",
       "      <th>alchemy_category</th>\n",
       "      <th>alchemy_category_score</th>\n",
       "      <th>is_news</th>\n",
       "      <th>news_front_page</th>\n",
       "    </tr>\n",
       "  </thead>\n",
       "  <tbody>\n",
       "    <tr>\n",
       "      <th>0</th>\n",
       "      <td>http://www.bloomberg.com/news/2010-12-23/ibm-p...</td>\n",
       "      <td>{\"title\":\"IBM Sees Holographic Calls Air Breat...</td>\n",
       "      <td>business</td>\n",
       "      <td>0.789131</td>\n",
       "      <td>1</td>\n",
       "      <td>0</td>\n",
       "    </tr>\n",
       "    <tr>\n",
       "      <th>1</th>\n",
       "      <td>http://www.popsci.com/technology/article/2012-...</td>\n",
       "      <td>{\"title\":\"The Fully Electronic Futuristic Star...</td>\n",
       "      <td>recreation</td>\n",
       "      <td>0.574147</td>\n",
       "      <td>1</td>\n",
       "      <td>0</td>\n",
       "    </tr>\n",
       "    <tr>\n",
       "      <th>2</th>\n",
       "      <td>http://www.menshealth.com/health/flu-fighting-...</td>\n",
       "      <td>{\"title\":\"Fruits that Fight the Flu fruits tha...</td>\n",
       "      <td>health</td>\n",
       "      <td>0.996526</td>\n",
       "      <td>1</td>\n",
       "      <td>0</td>\n",
       "    </tr>\n",
       "    <tr>\n",
       "      <th>3</th>\n",
       "      <td>http://www.dumblittleman.com/2007/12/10-foolpr...</td>\n",
       "      <td>{\"title\":\"10 Foolproof Tips for Better Sleep \"...</td>\n",
       "      <td>health</td>\n",
       "      <td>0.801248</td>\n",
       "      <td>1</td>\n",
       "      <td>0</td>\n",
       "    </tr>\n",
       "    <tr>\n",
       "      <th>4</th>\n",
       "      <td>http://bleacherreport.com/articles/1205138-the...</td>\n",
       "      <td>{\"title\":\"The 50 Coolest Jerseys You Didn t Kn...</td>\n",
       "      <td>sports</td>\n",
       "      <td>0.719157</td>\n",
       "      <td>1</td>\n",
       "      <td>0</td>\n",
       "    </tr>\n",
       "  </tbody>\n",
       "</table>\n",
       "</div>"
      ],
      "text/plain": [
       "                                                 url  \\\n",
       "0  http://www.bloomberg.com/news/2010-12-23/ibm-p...   \n",
       "1  http://www.popsci.com/technology/article/2012-...   \n",
       "2  http://www.menshealth.com/health/flu-fighting-...   \n",
       "3  http://www.dumblittleman.com/2007/12/10-foolpr...   \n",
       "4  http://bleacherreport.com/articles/1205138-the...   \n",
       "\n",
       "                                         boilerplate alchemy_category  \\\n",
       "0  {\"title\":\"IBM Sees Holographic Calls Air Breat...         business   \n",
       "1  {\"title\":\"The Fully Electronic Futuristic Star...       recreation   \n",
       "2  {\"title\":\"Fruits that Fight the Flu fruits tha...           health   \n",
       "3  {\"title\":\"10 Foolproof Tips for Better Sleep \"...           health   \n",
       "4  {\"title\":\"The 50 Coolest Jerseys You Didn t Kn...           sports   \n",
       "\n",
       "  alchemy_category_score is_news news_front_page  \n",
       "0               0.789131       1               0  \n",
       "1               0.574147       1               0  \n",
       "2               0.996526       1               0  \n",
       "3               0.801248       1               0  \n",
       "4               0.719157       1               0  "
      ]
     },
     "execution_count": 11,
     "metadata": {},
     "output_type": "execute_result"
    }
   ],
   "source": [
    "# checking all categorical features\n",
    "df_train[categorical_features].head()"
   ]
  },
  {
   "cell_type": "code",
   "execution_count": 12,
   "metadata": {},
   "outputs": [
    {
     "data": {
      "text/html": [
       "<div>\n",
       "<style scoped>\n",
       "    .dataframe tbody tr th:only-of-type {\n",
       "        vertical-align: middle;\n",
       "    }\n",
       "\n",
       "    .dataframe tbody tr th {\n",
       "        vertical-align: top;\n",
       "    }\n",
       "\n",
       "    .dataframe thead th {\n",
       "        text-align: right;\n",
       "    }\n",
       "</style>\n",
       "<table border=\"1\" class=\"dataframe\">\n",
       "  <thead>\n",
       "    <tr style=\"text-align: right;\">\n",
       "      <th></th>\n",
       "      <th>url</th>\n",
       "      <th>boilerplate</th>\n",
       "      <th>alchemy_category</th>\n",
       "      <th>alchemy_category_score</th>\n",
       "      <th>is_news</th>\n",
       "      <th>news_front_page</th>\n",
       "    </tr>\n",
       "  </thead>\n",
       "  <tbody>\n",
       "    <tr>\n",
       "      <th>count</th>\n",
       "      <td>7395</td>\n",
       "      <td>7395</td>\n",
       "      <td>7395</td>\n",
       "      <td>7395</td>\n",
       "      <td>7395</td>\n",
       "      <td>7395</td>\n",
       "    </tr>\n",
       "    <tr>\n",
       "      <th>unique</th>\n",
       "      <td>7395</td>\n",
       "      <td>7394</td>\n",
       "      <td>14</td>\n",
       "      <td>4806</td>\n",
       "      <td>2</td>\n",
       "      <td>3</td>\n",
       "    </tr>\n",
       "    <tr>\n",
       "      <th>top</th>\n",
       "      <td>http://www.phys.org/news/2011-09-ford-evos-con...</td>\n",
       "      <td>{\"title\":\"Freebase Pancakes NOTCOT \",\"body\":\"n...</td>\n",
       "      <td>?</td>\n",
       "      <td>?</td>\n",
       "      <td>1</td>\n",
       "      <td>0</td>\n",
       "    </tr>\n",
       "    <tr>\n",
       "      <th>freq</th>\n",
       "      <td>1</td>\n",
       "      <td>2</td>\n",
       "      <td>2342</td>\n",
       "      <td>2342</td>\n",
       "      <td>4552</td>\n",
       "      <td>5853</td>\n",
       "    </tr>\n",
       "  </tbody>\n",
       "</table>\n",
       "</div>"
      ],
      "text/plain": [
       "                                                      url  \\\n",
       "count                                                7395   \n",
       "unique                                               7395   \n",
       "top     http://www.phys.org/news/2011-09-ford-evos-con...   \n",
       "freq                                                    1   \n",
       "\n",
       "                                              boilerplate alchemy_category  \\\n",
       "count                                                7395             7395   \n",
       "unique                                               7394               14   \n",
       "top     {\"title\":\"Freebase Pancakes NOTCOT \",\"body\":\"n...                ?   \n",
       "freq                                                    2             2342   \n",
       "\n",
       "       alchemy_category_score is_news news_front_page  \n",
       "count                    7395    7395            7395  \n",
       "unique                   4806       2               3  \n",
       "top                         ?       1               0  \n",
       "freq                     2342    4552            5853  "
      ]
     },
     "execution_count": 12,
     "metadata": {},
     "output_type": "execute_result"
    }
   ],
   "source": [
    "df_train[categorical_features].describe()"
   ]
  },
  {
   "cell_type": "markdown",
   "metadata": {},
   "source": [
    " ### ```Insights from categorical features```\n",
    " \n",
    " <ol> <li>  URL are unique and contain lot of information like domain, tech, business etc.</li>\n",
    "      <li>  boilerplate also have lot of text which needs to be analyzed</li>\n",
    "    <li> alchemy score distribution is also in normal. would have some pattern.</li>\n",
    "</ol>\n",
    "    "
   ]
  },
  {
   "cell_type": "code",
   "execution_count": 13,
   "metadata": {},
   "outputs": [
    {
     "data": {
      "text/plain": [
       "0    5853\n",
       "?    1248\n",
       "1     294\n",
       "Name: news_front_page, dtype: int64"
      ]
     },
     "execution_count": 13,
     "metadata": {},
     "output_type": "execute_result"
    }
   ],
   "source": [
    "df_train.news_front_page.value_counts()"
   ]
  },
  {
   "cell_type": "code",
   "execution_count": 14,
   "metadata": {},
   "outputs": [
    {
     "data": {
      "text/plain": [
       "1    4552\n",
       "?    2843\n",
       "Name: is_news, dtype: int64"
      ]
     },
     "execution_count": 14,
     "metadata": {},
     "output_type": "execute_result"
    }
   ],
   "source": [
    "df_train.is_news.value_counts()"
   ]
  },
  {
   "cell_type": "code",
   "execution_count": 15,
   "metadata": {},
   "outputs": [
    {
     "data": {
      "text/plain": [
       "?            2342\n",
       "0.85           82\n",
       "0.0784091      40\n",
       "Name: alchemy_category_score, dtype: int64"
      ]
     },
     "execution_count": 15,
     "metadata": {},
     "output_type": "execute_result"
    }
   ],
   "source": [
    "df_train.alchemy_category_score.value_counts().head(3)\n",
    "# this should be a float datatype"
   ]
  },
  {
   "cell_type": "code",
   "execution_count": 16,
   "metadata": {},
   "outputs": [
    {
     "data": {
      "text/plain": [
       "<matplotlib.axes._subplots.AxesSubplot at 0x20c44dfb808>"
      ]
     },
     "execution_count": 16,
     "metadata": {},
     "output_type": "execute_result"
    },
    {
     "data": {
      "image/png": "[encoded data removed]",
      "text/plain": [
       "<Figure size 432x288 with 1 Axes>"
      ]
     },
     "metadata": {
      "needs_background": "light"
     },
     "output_type": "display_data"
    }
   ],
   "source": [
    "df_train.alchemy_category_score[~(df_train.alchemy_category_score=='?')].astype(np.float).plot(kind = 'box')\n",
    "\n",
    "# median is around 0.6"
   ]
  },
  {
   "cell_type": "code",
   "execution_count": 17,
   "metadata": {},
   "outputs": [
    {
     "data": {
      "text/plain": [
       "?                     2342\n",
       "recreation            1229\n",
       "arts_entertainment     941\n",
       "business               880\n",
       "health                 506\n",
       "sports                 380\n",
       "culture_politics       343\n",
       "computer_internet      296\n",
       "science_technology     289\n",
       "gaming                  76\n",
       "religion                72\n",
       "law_crime               31\n",
       "unknown                  6\n",
       "weather                  4\n",
       "Name: alchemy_category, dtype: int64"
      ]
     },
     "execution_count": 17,
     "metadata": {},
     "output_type": "execute_result"
    }
   ],
   "source": [
    "df_train.alchemy_category.value_counts()"
   ]
  },
  {
   "cell_type": "code",
   "execution_count": 18,
   "metadata": {},
   "outputs": [
    {
     "data": {
      "text/plain": [
       "<matplotlib.axes._subplots.AxesSubplot at 0x20c45a87348>"
      ]
     },
     "execution_count": 18,
     "metadata": {},
     "output_type": "execute_result"
    },
    {
     "data": {
      "image/png": "[encoded data removed]",
      "text/plain": [
       "<Figure size 432x288 with 1 Axes>"
      ]
     },
     "metadata": {
      "needs_background": "light"
     },
     "output_type": "display_data"
    }
   ],
   "source": [
    "df_train.boilerplate.str.len().plot(kind= 'hist')\n",
    "#most of the boilderplate text are of length 5000, and rest of them are of lesser length."
   ]
  },
  {
   "cell_type": "code",
   "execution_count": 19,
   "metadata": {},
   "outputs": [
    {
     "data": {
      "text/plain": [
       "count    7395.0\n",
       "mean        0.0\n",
       "std         0.0\n",
       "min         0.0\n",
       "25%         0.0\n",
       "50%         0.0\n",
       "75%         0.0\n",
       "max         0.0\n",
       "Name: framebased, dtype: float64"
      ]
     },
     "execution_count": 19,
     "metadata": {},
     "output_type": "execute_result"
    }
   ],
   "source": [
    "df_train.framebased.describe()"
   ]
  },
  {
   "cell_type": "markdown",
   "metadata": {},
   "source": [
    "<a id = featureEng></a>\n",
    "\n",
    "\n",
    "## <u>Feature Engineering </u>"
   ]
  },
  {
   "cell_type": "code",
   "execution_count": 20,
   "metadata": {},
   "outputs": [],
   "source": [
    "# Lets merge both the dataset to have consistency in both the dataset"
   ]
  },
  {
   "cell_type": "code",
   "execution_count": 21,
   "metadata": {},
   "outputs": [],
   "source": [
    "df = pd.concat([df_train,df_test], axis= 0)"
   ]
  },
  {
   "cell_type": "code",
   "execution_count": 22,
   "metadata": {},
   "outputs": [
    {
     "data": {
      "text/plain": [
       "((10566, 27), (3171, 26), (7395, 27))"
      ]
     },
     "execution_count": 22,
     "metadata": {},
     "output_type": "execute_result"
    }
   ],
   "source": [
    "df.shape, df_test.shape, df_train.shape"
   ]
  },
  {
   "cell_type": "markdown",
   "metadata": {},
   "source": [
    "#### ``` Categorical```"
   ]
  },
  {
   "cell_type": "code",
   "execution_count": 23,
   "metadata": {},
   "outputs": [
    {
     "data": {
      "text/html": [
       "<div>\n",
       "<style scoped>\n",
       "    .dataframe tbody tr th:only-of-type {\n",
       "        vertical-align: middle;\n",
       "    }\n",
       "\n",
       "    .dataframe tbody tr th {\n",
       "        vertical-align: top;\n",
       "    }\n",
       "\n",
       "    .dataframe thead th {\n",
       "        text-align: right;\n",
       "    }\n",
       "</style>\n",
       "<table border=\"1\" class=\"dataframe\">\n",
       "  <thead>\n",
       "    <tr style=\"text-align: right;\">\n",
       "      <th></th>\n",
       "      <th>count</th>\n",
       "      <th>unique</th>\n",
       "      <th>top</th>\n",
       "      <th>freq</th>\n",
       "    </tr>\n",
       "  </thead>\n",
       "  <tbody>\n",
       "    <tr>\n",
       "      <th>url</th>\n",
       "      <td>10566</td>\n",
       "      <td>10566</td>\n",
       "      <td>http://www.phys.org/news/2011-09-ford-evos-con...</td>\n",
       "      <td>1</td>\n",
       "    </tr>\n",
       "    <tr>\n",
       "      <th>boilerplate</th>\n",
       "      <td>10566</td>\n",
       "      <td>10565</td>\n",
       "      <td>{\"title\":\"Freebase Pancakes NOTCOT \",\"body\":\"n...</td>\n",
       "      <td>2</td>\n",
       "    </tr>\n",
       "    <tr>\n",
       "      <th>alchemy_category</th>\n",
       "      <td>10566</td>\n",
       "      <td>14</td>\n",
       "      <td>?</td>\n",
       "      <td>3388</td>\n",
       "    </tr>\n",
       "    <tr>\n",
       "      <th>alchemy_category_score</th>\n",
       "      <td>10566</td>\n",
       "      <td>6776</td>\n",
       "      <td>?</td>\n",
       "      <td>3388</td>\n",
       "    </tr>\n",
       "    <tr>\n",
       "      <th>is_news</th>\n",
       "      <td>10566</td>\n",
       "      <td>2</td>\n",
       "      <td>1</td>\n",
       "      <td>6498</td>\n",
       "    </tr>\n",
       "    <tr>\n",
       "      <th>news_front_page</th>\n",
       "      <td>10566</td>\n",
       "      <td>3</td>\n",
       "      <td>0</td>\n",
       "      <td>8314</td>\n",
       "    </tr>\n",
       "  </tbody>\n",
       "</table>\n",
       "</div>"
      ],
      "text/plain": [
       "                        count unique  \\\n",
       "url                     10566  10566   \n",
       "boilerplate             10566  10565   \n",
       "alchemy_category        10566     14   \n",
       "alchemy_category_score  10566   6776   \n",
       "is_news                 10566      2   \n",
       "news_front_page         10566      3   \n",
       "\n",
       "                                                                      top  \\\n",
       "url                     http://www.phys.org/news/2011-09-ford-evos-con...   \n",
       "boilerplate             {\"title\":\"Freebase Pancakes NOTCOT \",\"body\":\"n...   \n",
       "alchemy_category                                                        ?   \n",
       "alchemy_category_score                                                  ?   \n",
       "is_news                                                                 1   \n",
       "news_front_page                                                         0   \n",
       "\n",
       "                        freq  \n",
       "url                        1  \n",
       "boilerplate                2  \n",
       "alchemy_category        3388  \n",
       "alchemy_category_score  3388  \n",
       "is_news                 6498  \n",
       "news_front_page         8314  "
      ]
     },
     "execution_count": 23,
     "metadata": {},
     "output_type": "execute_result"
    }
   ],
   "source": [
    "df[list(categorical_features)].describe().transpose()"
   ]
  },
  {
   "cell_type": "code",
   "execution_count": 24,
   "metadata": {},
   "outputs": [],
   "source": [
    "# no null values for any of the categorical features\n",
    "# alchemy_category_score feature contains numeric data. lets explore more. "
   ]
  },
  {
   "cell_type": "code",
   "execution_count": 25,
   "metadata": {},
   "outputs": [
    {
     "data": {
      "text/plain": [
       "?            3388\n",
       "0.85          115\n",
       "0.0784091      62\n",
       "0.849999       14\n",
       "0.535009       11\n",
       "Name: alchemy_category_score, dtype: int64"
      ]
     },
     "execution_count": 25,
     "metadata": {},
     "output_type": "execute_result"
    }
   ],
   "source": [
    "df.alchemy_category_score.value_counts().head()"
   ]
  },
  {
   "cell_type": "code",
   "execution_count": 26,
   "metadata": {},
   "outputs": [
    {
     "data": {
      "text/plain": [
       "<matplotlib.axes._subplots.AxesSubplot at 0x20c45b01a48>"
      ]
     },
     "execution_count": 26,
     "metadata": {},
     "output_type": "execute_result"
    },
    {
     "data": {
      "image/png": "[encoded data removed]",
      "text/plain": [
       "<Figure size 432x288 with 1 Axes>"
      ]
     },
     "metadata": {
      "needs_background": "light"
     },
     "output_type": "display_data"
    }
   ],
   "source": [
    "df.alchemy_category_score[~(df.alchemy_category_score=='?')].astype(np.float).plot(kind = 'kde')\n"
   ]
  },
  {
   "cell_type": "code",
   "execution_count": 27,
   "metadata": {},
   "outputs": [],
   "source": [
    "alchemy_score_median = df.alchemy_category_score[~(df.alchemy_category_score=='?')].astype(np.float).median()"
   ]
  },
  {
   "cell_type": "code",
   "execution_count": 28,
   "metadata": {},
   "outputs": [],
   "source": [
    "df.alchemy_category_score = df.alchemy_category_score.apply(lambda x: alchemy_score_median if x =='?' else x)"
   ]
  },
  {
   "cell_type": "code",
   "execution_count": 29,
   "metadata": {},
   "outputs": [],
   "source": [
    "df.alchemy_category_score = df.alchemy_category_score.astype(np.float)"
   ]
  },
  {
   "cell_type": "code",
   "execution_count": 30,
   "metadata": {},
   "outputs": [],
   "source": [
    "#alchemy_category"
   ]
  },
  {
   "cell_type": "code",
   "execution_count": 31,
   "metadata": {},
   "outputs": [
    {
     "data": {
      "text/plain": [
       "?                     3388\n",
       "recreation            1701\n",
       "arts_entertainment    1363\n",
       "business              1235\n",
       "health                 706\n",
       "sports                 566\n",
       "culture_politics       499\n",
       "computer_internet      430\n",
       "science_technology     409\n",
       "gaming                 110\n",
       "religion               107\n",
       "law_crime               42\n",
       "unknown                  6\n",
       "weather                  4\n",
       "Name: alchemy_category, dtype: int64"
      ]
     },
     "execution_count": 31,
     "metadata": {},
     "output_type": "execute_result"
    }
   ],
   "source": [
    "df.alchemy_category.value_counts()"
   ]
  },
  {
   "cell_type": "code",
   "execution_count": 32,
   "metadata": {},
   "outputs": [],
   "source": [
    "df.alchemy_category=df.alchemy_category.apply(lambda x: 'recreation' if x =='?' else x)"
   ]
  },
  {
   "cell_type": "code",
   "execution_count": 33,
   "metadata": {},
   "outputs": [
    {
     "data": {
      "text/plain": [
       "1    6498\n",
       "?    4068\n",
       "Name: is_news, dtype: int64"
      ]
     },
     "execution_count": 33,
     "metadata": {},
     "output_type": "execute_result"
    }
   ],
   "source": [
    "df.is_news.value_counts()\n",
    "# does not bring much value. can be removed."
   ]
  },
  {
   "cell_type": "code",
   "execution_count": 34,
   "metadata": {},
   "outputs": [
    {
     "data": {
      "text/plain": [
       "0    8314\n",
       "?    1831\n",
       "1     421\n",
       "Name: news_front_page, dtype: int64"
      ]
     },
     "execution_count": 34,
     "metadata": {},
     "output_type": "execute_result"
    }
   ],
   "source": [
    "df.news_front_page.value_counts()\n",
    "# does not bring much value. can be removed."
   ]
  },
  {
   "cell_type": "code",
   "execution_count": 35,
   "metadata": {},
   "outputs": [],
   "source": [
    "df= df.drop(['is_news','news_front_page'], axis=1)"
   ]
  },
  {
   "cell_type": "code",
   "execution_count": 36,
   "metadata": {},
   "outputs": [
    {
     "data": {
      "text/plain": [
       "0    http://www.bloomberg.com/news/2010-12-23/ibm-p...\n",
       "1    http://www.popsci.com/technology/article/2012-...\n",
       "2    http://www.menshealth.com/health/flu-fighting-...\n",
       "3    http://www.dumblittleman.com/2007/12/10-foolpr...\n",
       "4    http://bleacherreport.com/articles/1205138-the...\n",
       "5    http://www.conveniencemedical.com/genital-herp...\n",
       "6    http://gofashionlane.blogspot.tw/2012/06/ameri...\n",
       "Name: url, dtype: object"
      ]
     },
     "execution_count": 36,
     "metadata": {},
     "output_type": "execute_result"
    }
   ],
   "source": [
    "df.url.head(7)"
   ]
  },
  {
   "cell_type": "code",
   "execution_count": 37,
   "metadata": {},
   "outputs": [],
   "source": [
    "# extracting information from URL\n",
    "\n",
    "U1 = df.url.str.split('//', expand=True)[1]\n",
    "U2 = U1.apply(lambda x : x.split('.')[1] if x.split('.')[0] == 'www' else x.split('.')[0])\n",
    "U3 = U1.apply(lambda x : x.split('/')[1] )\n",
    "\n",
    "\n",
    "df['Website_name'] = U2\n",
    "df['Website_type'] = U3"
   ]
  },
  {
   "cell_type": "code",
   "execution_count": 38,
   "metadata": {},
   "outputs": [],
   "source": [
    "# U4 = U1.apply(lambda x : x.split('/')[2] if len(x.split('/')) > 2 else np.nan)\n",
    "# U4.head()"
   ]
  },
  {
   "cell_type": "code",
   "execution_count": 39,
   "metadata": {},
   "outputs": [
    {
     "data": {
      "text/plain": [
       "4163"
      ]
     },
     "execution_count": 39,
     "metadata": {},
     "output_type": "execute_result"
    }
   ],
   "source": [
    "df['Website_name'].nunique()"
   ]
  },
  {
   "cell_type": "code",
   "execution_count": 40,
   "metadata": {},
   "outputs": [
    {
     "data": {
      "text/plain": [
       "3760"
      ]
     },
     "execution_count": 40,
     "metadata": {},
     "output_type": "execute_result"
    }
   ],
   "source": [
    "df['Website_type'].nunique()"
   ]
  },
  {
   "cell_type": "code",
   "execution_count": 41,
   "metadata": {},
   "outputs": [
    {
     "data": {
      "text/html": [
       "<div>\n",
       "<style scoped>\n",
       "    .dataframe tbody tr th:only-of-type {\n",
       "        vertical-align: middle;\n",
       "    }\n",
       "\n",
       "    .dataframe tbody tr th {\n",
       "        vertical-align: top;\n",
       "    }\n",
       "\n",
       "    .dataframe thead th {\n",
       "        text-align: right;\n",
       "    }\n",
       "</style>\n",
       "<table border=\"1\" class=\"dataframe\">\n",
       "  <thead>\n",
       "    <tr style=\"text-align: right;\">\n",
       "      <th></th>\n",
       "      <th>count</th>\n",
       "      <th>Percent</th>\n",
       "    </tr>\n",
       "    <tr>\n",
       "      <th>Website_name</th>\n",
       "      <th></th>\n",
       "      <th></th>\n",
       "    </tr>\n",
       "  </thead>\n",
       "  <tbody>\n",
       "    <tr>\n",
       "      <th>allrecipes</th>\n",
       "      <td>96</td>\n",
       "      <td>95.0</td>\n",
       "    </tr>\n",
       "    <tr>\n",
       "      <th>insidershealth</th>\n",
       "      <td>143</td>\n",
       "      <td>77.0</td>\n",
       "    </tr>\n",
       "    <tr>\n",
       "      <th>blogs</th>\n",
       "      <td>85</td>\n",
       "      <td>64.0</td>\n",
       "    </tr>\n",
       "    <tr>\n",
       "      <th>foodnetwork</th>\n",
       "      <td>57</td>\n",
       "      <td>56.0</td>\n",
       "    </tr>\n",
       "    <tr>\n",
       "      <th>huffingtonpost</th>\n",
       "      <td>99</td>\n",
       "      <td>48.0</td>\n",
       "    </tr>\n",
       "  </tbody>\n",
       "</table>\n",
       "</div>"
      ],
      "text/plain": [
       "                count  Percent\n",
       "Website_name                  \n",
       "allrecipes         96     95.0\n",
       "insidershealth    143     77.0\n",
       "blogs              85     64.0\n",
       "foodnetwork        57     56.0\n",
       "huffingtonpost     99     48.0"
      ]
     },
     "execution_count": 41,
     "metadata": {},
     "output_type": "execute_result"
    }
   ],
   "source": [
    "df.iloc[:7395,:].groupby('Website_name')['label'].agg({'count':'count', 'Percent':'sum'}).sort_values( by= 'Percent',ascending = False).head()"
   ]
  },
  {
   "cell_type": "code",
   "execution_count": 42,
   "metadata": {},
   "outputs": [],
   "source": [
    "# Not considerable value addition from website_name and website_type\n",
    "# at first execution will remove both."
   ]
  },
  {
   "cell_type": "code",
   "execution_count": 43,
   "metadata": {},
   "outputs": [],
   "source": [
    "df= df.drop(['Website_name','Website_type','url'], axis=1)"
   ]
  },
  {
   "cell_type": "code",
   "execution_count": 44,
   "metadata": {},
   "outputs": [],
   "source": [
    "# Boilerplate"
   ]
  },
  {
   "cell_type": "code",
   "execution_count": 45,
   "metadata": {},
   "outputs": [],
   "source": [
    "from ast import literal_eval"
   ]
  },
  {
   "cell_type": "code",
   "execution_count": 46,
   "metadata": {},
   "outputs": [
    {
     "name": "stdout",
     "output_type": "stream",
     "text": [
      "Wall time: 6min 30s\n"
     ]
    }
   ],
   "source": [
    "%%time\n",
    "\n",
    "contraction_mapping = {\"ain't\": \"is not\", \"aren't\": \"are not\",\"can't\": \"cannot\", \"'cause\": \"because\", \"could've\": \"could have\", \"couldn't\": \"could not\", \"didn't\": \"did not\",  \"doesn't\": \"does not\", \"don't\": \"do not\", \"hadn't\": \"had not\", \"hasn't\": \"has not\", \"haven't\": \"have not\", \"he'd\": \"he would\",\"he'll\": \"he will\", \"he's\": \"he is\", \"how'd\": \"how did\", \"how'd'y\": \"how do you\", \"how'll\": \"how will\", \"how's\": \"how is\",  \"I'd\": \"I would\", \"I'd've\": \"I would have\", \"I'll\": \"I will\", \"I'll've\": \"I will have\",\"I'm\": \"I am\", \"I've\": \"I have\", \"i'd\": \"i would\", \"i'd've\": \"i would have\", \"i'll\": \"i will\",  \"i'll've\": \"i will have\",\"i'm\": \"i am\", \"i've\": \"i have\", \"isn't\": \"is not\", \"it'd\": \"it would\", \"it'd've\": \"it would have\", \"it'll\": \"it will\", \"it'll've\": \"it will have\",\"it's\": \"it is\", \"let's\": \"let us\", \"ma'am\": \"madam\", \"mayn't\": \"may not\", \"might've\": \"might have\",\"mightn't\": \"might not\",\"mightn't've\": \"might not have\", \"must've\": \"must have\", \"mustn't\": \"must not\", \"mustn't've\": \"must not have\", \"needn't\": \"need not\", \"needn't've\": \"need not have\",\"o'clock\": \"of the clock\", \"oughtn't\": \"ought not\", \"oughtn't've\": \"ought not have\", \"shan't\": \"shall not\", \"sha'n't\": \"shall not\", \"shan't've\": \"shall not have\", \"she'd\": \"she would\", \"she'd've\": \"she would have\", \"she'll\": \"she will\", \"she'll've\": \"she will have\", \"she's\": \"she is\", \"should've\": \"should have\", \"shouldn't\": \"should not\", \"shouldn't've\": \"should not have\", \"so've\": \"so have\",\"so's\": \"so as\", \"this's\": \"this is\",\"that'd\": \"that would\", \"that'd've\": \"that would have\", \"that's\": \"that is\", \"there'd\": \"there would\", \"there'd've\": \"there would have\", \"there's\": \"there is\", \"here's\": \"here is\",\"they'd\": \"they would\", \"they'd've\": \"they would have\", \"they'll\": \"they will\", \"they'll've\": \"they will have\", \"they're\": \"they are\", \"they've\": \"they have\", \"to've\": \"to have\", \"wasn't\": \"was not\", \"we'd\": \"we would\", \"we'd've\": \"we would have\", \"we'll\": \"we will\", \"we'll've\": \"we will have\", \"we're\": \"we are\", \"we've\": \"we have\", \"weren't\": \"were not\", \"what'll\": \"what will\", \"what'll've\": \"what will have\", \"what're\": \"what are\",  \"what's\": \"what is\", \"what've\": \"what have\", \"when's\": \"when is\", \"when've\": \"when have\", \"where'd\": \"where did\", \"where's\": \"where is\", \"where've\": \"where have\", \"who'll\": \"who will\", \"who'll've\": \"who will have\", \"who's\": \"who is\", \"who've\": \"who have\", \"why's\": \"why is\", \"why've\": \"why have\", \"will've\": \"will have\", \"won't\": \"will not\", \"won't've\": \"will not have\", \"would've\": \"would have\", \"wouldn't\": \"would not\", \"wouldn't've\": \"would not have\", \"y'all\": \"you all\", \"y'all'd\": \"you all would\",\"y'all'd've\": \"you all would have\",\"y'all're\": \"you all are\",\"y'all've\": \"you all have\",\"you'd\": \"you would\", \"you'd've\": \"you would have\", \"you'll\": \"you will\", \"you'll've\": \"you will have\", \"you're\": \"you are\", \"you've\": \"you have\" }\n",
    "def contraction_(x):\n",
    "    for cont , exp in contraction_mapping.items():\n",
    "        x = re.sub(cont,exp,x)\n",
    "    return x\n",
    "\n",
    "import unicodedata\n",
    "def remove_accented_chars(x):\n",
    "    x = unicodedata.normalize('NFKD', x).encode('ascii','ignore').decode('utf-8','ignore')\n",
    "    return x\n",
    "\n",
    "#email\n",
    "regex = r\"(?i)\\b((?:https?://|www\\d{0,3}[.]|[a-z0-9.\\-]+[.][a-z]{2,4}/)(?:[^\\s()<>]+|\\(([^\\s()<>]+|(\\([^\\s()<>]+\\)))*\\))+(?:\\(([^\\s()<>]+|(\\([^\\s()<>]+\\)))*\\)|[^\\s`!()\\[\\]{};:'\\\".,<>?«»“”‘’]))\"\n",
    "\n",
    "import re\n",
    "from bs4 import BeautifulSoup\n",
    "\n",
    "from spacy.lang.en.stop_words import STOP_WORDS as stopwords\n",
    "\n",
    "import spacy\n",
    "nlp = spacy.load('en_core_web_sm')\n",
    "\n",
    "def convert_to_root(x):\n",
    "    doc= nlp(x)\n",
    "    x_list=[]\n",
    "    for w in doc:\n",
    "        root = w.lemma_\n",
    "        x_list.append(root)\n",
    "    return ' '.join(x_list)\n",
    "\n",
    "\n",
    "df['boilerplate']=df['boilerplate'].apply(lambda x: x.lower() )\n",
    "df['boilerplate']=df['boilerplate'].apply(lambda x: contraction_(x))\n",
    "df['boilerplate']=df['boilerplate'].apply(lambda x : re.sub('[a-zA-Z0-9_-]*@[a-zA-Z0-9_-]+\\.com',' ', x))\n",
    "df['boilerplate']=df['boilerplate'].apply(lambda x : re.sub(regex, '', x))\n",
    "df['boilerplate']=df['boilerplate'].apply(lambda x : re.sub('[^\\w ]+','',x))\n",
    "df['boilerplate']=df['boilerplate'].apply(lambda x : re.sub('\\s{2,}',' ',x))\n",
    "df['boilerplate']=df['boilerplate'].apply(lambda x : BeautifulSoup(x,'html').get_text().strip())\n",
    "df['boilerplate']=df['boilerplate'].apply(lambda x : remove_accented_chars(x))\n",
    "df['boilerplate']=df['boilerplate'].apply(lambda x : ' '.join([w for w in x.split() if w not in stopwords]))\n",
    "df['boilerplate']=df['boilerplate'].apply(lambda x : convert_to_root(x))"
   ]
  },
  {
   "cell_type": "code",
   "execution_count": 47,
   "metadata": {},
   "outputs": [],
   "source": [
    "# removing title word from starting of each string\n",
    "df['boilerplate'] = df['boilerplate'].apply(lambda x : x[5:] if  x[:5]=='title' else x)"
   ]
  },
  {
   "cell_type": "code",
   "execution_count": 48,
   "metadata": {},
   "outputs": [],
   "source": [
    "# removing numeric str from the text. it hardly bring any value to the model.\n",
    "df.boilerplate = df.boilerplate.apply(lambda x : ' '.join([w for w in x.split() if w.isnumeric() == False]))"
   ]
  },
  {
   "cell_type": "markdown",
   "metadata": {},
   "source": [
    "<a id = dataprep></a>\n",
    "\n",
    "\n",
    "## <u>Data prepration </u>"
   ]
  },
  {
   "cell_type": "code",
   "execution_count": 80,
   "metadata": {},
   "outputs": [],
   "source": [
    "from sklearn.feature_extraction.text import TfidfVectorizer\n",
    "from sklearn.linear_model import LogisticRegression"
   ]
  },
  {
   "cell_type": "code",
   "execution_count": 81,
   "metadata": {},
   "outputs": [],
   "source": [
    "tfv = TfidfVectorizer(min_df=3,  max_features=None, strip_accents='unicode',  \n",
    "        analyzer='word',token_pattern=r'\\w{1,}',ngram_range=(1, 2), use_idf=1,smooth_idf=1,sublinear_tf=1)\n",
    "\n"
   ]
  },
  {
   "cell_type": "code",
   "execution_count": 82,
   "metadata": {},
   "outputs": [],
   "source": [
    "X = tfv.fit_transform(df.boilerplate)"
   ]
  },
  {
   "cell_type": "code",
   "execution_count": 83,
   "metadata": {},
   "outputs": [
    {
     "data": {
      "text/plain": [
       "(10566, 147934)"
      ]
     },
     "execution_count": 83,
     "metadata": {},
     "output_type": "execute_result"
    }
   ],
   "source": [
    "X.shape"
   ]
  },
  {
   "cell_type": "code",
   "execution_count": 84,
   "metadata": {},
   "outputs": [],
   "source": [
    "dtrain = X[:7395]\n",
    "dtest = X[7395:]"
   ]
  },
  {
   "cell_type": "code",
   "execution_count": 85,
   "metadata": {},
   "outputs": [],
   "source": [
    "y = df.label[:7395]"
   ]
  },
  {
   "cell_type": "code",
   "execution_count": 86,
   "metadata": {},
   "outputs": [],
   "source": [
    "from sklearn.model_selection import train_test_split"
   ]
  },
  {
   "cell_type": "code",
   "execution_count": 87,
   "metadata": {},
   "outputs": [],
   "source": [
    "X_train, X_test, y_train, y_test = train_test_split(dtrain, y, test_size=0.33, random_state=42)"
   ]
  },
  {
   "cell_type": "code",
   "execution_count": 88,
   "metadata": {},
   "outputs": [
    {
     "data": {
      "text/plain": [
       "((7395, 147934), (7395,))"
      ]
     },
     "execution_count": 88,
     "metadata": {},
     "output_type": "execute_result"
    }
   ],
   "source": [
    "dtrain.shape, y.shape"
   ]
  },
  {
   "cell_type": "markdown",
   "metadata": {},
   "source": [
    "<a id = modelling></a>\n",
    "\n",
    "\n",
    "## <u> Machine learning Modelling </u>"
   ]
  },
  {
   "cell_type": "code",
   "execution_count": 89,
   "metadata": {},
   "outputs": [],
   "source": [
    "from sklearn.model_selection import cross_val_score, cross_val_predict\n",
    "from sklearn.linear_model import LogisticRegression\n",
    "lr = LogisticRegression()\n",
    "from sklearn.metrics import accuracy_score, roc_auc_score\n"
   ]
  },
  {
   "cell_type": "code",
   "execution_count": 90,
   "metadata": {},
   "outputs": [
    {
     "name": "stdout",
     "output_type": "stream",
     "text": [
      "20 Fold CV Score:  0.8770225273724694\n"
     ]
    }
   ],
   "source": [
    "print(\"20 Fold CV Score: \", np.mean(cross_val_score(lr, dtrain, y, cv=20, scoring='roc_auc')))"
   ]
  },
  {
   "cell_type": "code",
   "execution_count": 91,
   "metadata": {},
   "outputs": [],
   "source": [
    "from sklearn.tree import DecisionTreeClassifier\n",
    "from sklearn.neighbors import KNeighborsClassifier\n",
    "from xgboost import XGBClassifier\n",
    "from sklearn.ensemble import AdaBoostClassifier\n",
    "from sklearn.ensemble import RandomForestClassifier\n",
    "from sklearn.metrics import accuracy_score, confusion_matrix, classification_report\n",
    "from sklearn.svm import SVC\n"
   ]
  },
  {
   "cell_type": "code",
   "execution_count": 96,
   "metadata": {},
   "outputs": [],
   "source": [
    "from sklearn.model_selection import RandomizedSearchCV"
   ]
  },
  {
   "cell_type": "code",
   "execution_count": 94,
   "metadata": {},
   "outputs": [
    {
     "name": "stdout",
     "output_type": "stream",
     "text": [
      "Name of the model ------- -- R2 score ------------ MSE------------- Time taken\n",
      " KNN                    0.7812371978697256             0.7815103477638381               1\n",
      " XGB                    0.7980335927898402             0.7989395036243027              14\n",
      " ADAboost               0.7906595657517411             0.7918500531188344              19\n",
      " DecisionTree              0.737402703809914             0.7376533965834717               6\n",
      " RandomForest             0.8107333060221221             0.8118928436640849              60\n"
     ]
    }
   ],
   "source": [
    "from  datetime import datetime\n",
    "start_time = int(datetime.now().strftime('%H%M%S'))\n",
    "\n",
    "models = []\n",
    "models.append(('KNN', KNeighborsClassifier()))\n",
    "models.append(('XGB',XGBClassifier()))\n",
    "models.append(('ADAboost',AdaBoostClassifier()))\n",
    "models.append(('DecisionTree', DecisionTreeClassifier()))\n",
    "models.append(('RandomForest', RandomForestClassifier()))\n",
    "\n",
    "\n",
    "import time \n",
    "\n",
    "\n",
    "results = []\n",
    "names = []\n",
    "\n",
    "print(f'Name of the model ------- -- R2 score ------------ MSE------------- Time taken')\n",
    "\n",
    "for name, model in models:\n",
    "    model.fit(X_train,y_train)\n",
    "\n",
    "    y_pred = model.predict(X_test)\n",
    "\n",
    "    res = accuracy_score(y_test, y_pred)\n",
    "    res1 = roc_auc_score(y_test, y_pred)\n",
    "     \n",
    "   # mse = mean_squared_error(y_test, y_pred)\n",
    "    #results.append((name,res,mse))\n",
    "    \n",
    "    \n",
    "    current_time = int(datetime.now().strftime('%H%M%S'))\n",
    "    time_taken = current_time - start_time\n",
    "    start_time = current_time \n",
    "    \n",
    "    print( f' {name:10} {res:30} {res1:30} {time_taken:15}' )"
   ]
  },
  {
   "cell_type": "markdown",
   "metadata": {},
   "source": [
    "# Glove"
   ]
  },
  {
   "cell_type": "code",
   "execution_count": 49,
   "metadata": {},
   "outputs": [
    {
     "name": "stdout",
     "output_type": "stream",
     "text": [
      "Wall time: 8.19 s\n"
     ]
    }
   ],
   "source": [
    "%%time\n",
    "glove_vector = dict()\n",
    "file = open(r'D:\\DataWorld\\My Code\\git\\NLP\\NLP - Basics\\glove.6B.100d.txt', encoding='utf-8')\n",
    "counter =0\n",
    "for line in file:\n",
    "    values = line.split()\n",
    "    word = values[0]\n",
    "    vectors = np.asarray(values[1:])\n",
    "    glove_vector[word] = vectors\n",
    "file.close()"
   ]
  },
  {
   "cell_type": "code",
   "execution_count": 50,
   "metadata": {},
   "outputs": [],
   "source": [
    "vector_length = 100\n",
    "\n",
    "def get_vec(x):\n",
    "    arr = np.zeros(vector_length)\n",
    "    text= str(x).split()\n",
    "    \n",
    "    for w in text:\n",
    "        try:\n",
    "            vec = glove_vector.get(w).astype(float)\n",
    "            arr = arr + vec\n",
    "        except:\n",
    "            pass\n",
    "    arr = arr.reshape(1,-1)[0]\n",
    "    return arr/len(text)"
   ]
  },
  {
   "cell_type": "code",
   "execution_count": 51,
   "metadata": {},
   "outputs": [],
   "source": [
    "df['vec']=df['boilerplate'].apply(lambda x : get_vec(x))"
   ]
  },
  {
   "cell_type": "code",
   "execution_count": 56,
   "metadata": {},
   "outputs": [
    {
     "data": {
      "text/plain": [
       "(100,)"
      ]
     },
     "execution_count": 56,
     "metadata": {},
     "output_type": "execute_result"
    }
   ],
   "source": [
    "df['vec'].iloc[0].shape"
   ]
  },
  {
   "cell_type": "code",
   "execution_count": 57,
   "metadata": {},
   "outputs": [],
   "source": [
    "X = np.asarray(df['vec'])"
   ]
  },
  {
   "cell_type": "code",
   "execution_count": 60,
   "metadata": {},
   "outputs": [
    {
     "data": {
      "text/plain": [
       "array([array([-5.35586329e-02,  1.73963421e-01,  1.92944140e-01, -9.05871480e-02,\n",
       "        1.26821835e-01, -1.88291436e-01,  1.41231111e-02,  1.02381007e-02,\n",
       "       -9.17035225e-02,  4.23445583e-02,  1.01830056e-01, -1.23141538e-01,\n",
       "        2.47728536e-02, -1.60628207e-01,  1.58810100e-02, -1.84814758e-01,\n",
       "        2.05578018e-01,  1.47333243e-01, -6.88700972e-02,  1.11247147e-01,\n",
       "       -1.85273691e-02, -5.06053684e-02,  6.85260934e-02,  1.48255769e-01,\n",
       "       -2.26513607e-03, -3.64259350e-02, -1.36249565e-02, -1.60178629e-01,\n",
       "       -6.57616728e-02, -4.48386936e-02, -4.69632402e-02,  5.48119590e-01,\n",
       "       -1.46939029e-01,  6.71275480e-02,  3.52791361e-02,  1.55713782e-01,\n",
       "       -3.47088819e-02,  7.95617759e-02,  1.18953340e-01, -1.81762828e-01,\n",
       "       -1.21414207e-01, -2.46423633e-01, -1.12104390e-01, -1.93019158e-01,\n",
       "       -1.24216649e-01,  1.29288405e-02,  4.32360043e-02, -1.26709686e-01,\n",
       "       -2.47269955e-02, -4.49271456e-01,  1.16233609e-01, -2.91766333e-02,\n",
       "        6.02583118e-02,  5.59256790e-01,  1.43683252e-02, -1.67096587e+00,\n",
       "       -9.39823686e-02, -5.83571333e-02,  1.31693130e+00,  2.04343712e-01,\n",
       "       -1.27147497e-01,  2.59560971e-01, -1.50600489e-01,  1.87840280e-02,\n",
       "        3.67640236e-01,  4.15882293e-02,  2.36332166e-01,  1.13801276e-01,\n",
       "        3.35358952e-01,  9.20155900e-02,  5.81190312e-02,  5.59742348e-02,\n",
       "       -1.18546569e-01, -3.25236690e-01,  1.27825756e-02, -7.50869248e-02,\n",
       "        1.16019642e-01, -2.93565356e-02, -5.79550110e-01, -4.00998961e-02,\n",
       "        4.70679579e-01,  1.65302834e-03, -3.61020699e-01,  7.84862266e-02,\n",
       "       -1.02847214e+00, -7.58115668e-03,  1.98781761e-01, -1.44427158e-01,\n",
       "       -3.73016931e-03, -2.25884031e-01,  1.45543885e-01,  5.75073663e-02,\n",
       "        6.05562775e-02, -7.19756540e-02, -2.23579144e-01,  7.15504556e-02,\n",
       "       -3.18741795e-02, -2.86267245e-01,  4.94338647e-01,  9.13246285e-02]),\n",
       "       array([-2.99673271e-02,  1.53946310e-01,  3.05672065e-01, -1.48099422e-01,\n",
       "       -5.47424027e-02,  1.69925124e-02, -4.04197251e-02,  5.95166629e-02,\n",
       "       -5.07744118e-02,  6.82128438e-02,  1.09092924e-01, -8.12681000e-02,\n",
       "        7.25081304e-03, -4.80861060e-02,  1.79653421e-02, -1.08181672e-01,\n",
       "        3.19565488e-02,  1.02869029e-01, -1.69579278e-01,  4.33220067e-04,\n",
       "        2.47050965e-01, -4.78854177e-02,  7.42879993e-02, -8.18786371e-02,\n",
       "        1.51059714e-01,  1.20202871e-02, -1.69174937e-01, -2.07189380e-01,\n",
       "        1.34497081e-01, -1.36149637e-01, -1.14484908e-01,  3.69319688e-01,\n",
       "       -5.58854980e-02,  6.59515241e-02,  1.78533418e-01, -4.22444096e-02,\n",
       "       -1.14779980e-01,  4.97407940e-03,  6.85245488e-02, -4.87174599e-02,\n",
       "       -1.18028873e-01, -2.20247589e-01,  8.80898217e-02, -2.11289781e-01,\n",
       "       -1.44148449e-01, -7.94421195e-02,  1.09362217e-01, -1.91748973e-01,\n",
       "       -2.08963740e-02, -6.33521199e-01,  5.09009995e-02,  2.61556117e-02,\n",
       "        2.29712903e-02,  6.53817028e-01,  5.55062415e-02, -1.72532510e+00,\n",
       "       -2.49586013e-02,  5.04669411e-02,  1.24619013e+00,  2.36953317e-01,\n",
       "       -1.66639791e-01,  4.55353377e-01, -2.03908710e-01,  1.67194251e-01,\n",
       "        4.83385358e-01,  2.57427358e-02,  1.95372858e-01,  1.76348781e-01,\n",
       "       -5.27649465e-03, -3.45043411e-02, -2.23448010e-02, -1.93346386e-01,\n",
       "       -2.12416745e-02, -2.02718983e-01,  1.12074744e-01,  3.85409130e-02,\n",
       "       -3.91454445e-02, -1.66437336e-01, -4.79300343e-01, -1.27705700e-01,\n",
       "        4.02767218e-01, -1.55713211e-01, -3.02182561e-01, -4.44338411e-02,\n",
       "       -9.39182841e-01, -1.15633495e-02,  5.26311151e-02, -1.12748069e-01,\n",
       "       -8.02988826e-02, -1.81737283e-01, -3.63174891e-02,  1.68843616e-01,\n",
       "        2.16085595e-02,  9.03411094e-03, -2.27113136e-01, -3.46113699e-02,\n",
       "       -1.51381571e-01, -1.58770176e-01,  4.51720540e-01,  1.52792569e-02]),\n",
       "       array([-1.45858905e-01,  2.71406765e-01,  1.61889601e-02, -5.80464580e-02,\n",
       "       -2.28838134e-01,  2.47799877e-02,  1.00040753e-01, -1.01925329e-01,\n",
       "       -5.26055487e-02, -6.22190291e-02, -1.38027125e-01, -1.43611130e-01,\n",
       "        9.88580184e-02,  1.77623734e-01,  2.56586525e-01,  7.36375108e-02,\n",
       "       -2.32524962e-02, -1.95880079e-01,  9.20145437e-03, -1.27316228e-02,\n",
       "       -5.33146772e-02, -1.14084006e-01,  1.41680038e-02,  2.55387599e-01,\n",
       "       -5.41686177e-02,  5.79741105e-01,  1.23938023e-01, -3.46503013e-01,\n",
       "       -2.09124653e-01,  4.54784810e-05,  1.71699026e-01,  3.52876759e-01,\n",
       "        6.26506810e-02, -1.16286443e-01,  4.98530595e-02,  1.88180633e-01,\n",
       "        3.36187152e-02,  1.82316289e-01, -6.57493342e-02,  7.55592146e-02,\n",
       "       -1.15626665e-01, -1.28284318e-01, -1.66472936e-01, -6.27551499e-01,\n",
       "        2.92676313e-01,  2.58198792e-01, -5.38602924e-02, -7.99533481e-02,\n",
       "       -2.69953351e-01, -4.71384139e-01,  1.34310099e-01, -7.43375772e-02,\n",
       "       -1.28939190e-01,  4.69756059e-01, -9.99840089e-02, -1.13845692e+00,\n",
       "       -5.05607997e-02, -1.93034658e-01,  9.60907019e-01,  1.83139513e-01,\n",
       "       -1.36486354e-02,  5.29533665e-01, -6.20657025e-02, -3.03821772e-02,\n",
       "        3.82095082e-01,  1.83739682e-01,  1.65988967e-01, -2.76579949e-01,\n",
       "        3.39696551e-01, -3.90874036e-01,  1.18918738e-01, -2.12031810e-01,\n",
       "        8.43087639e-02,  1.22060739e-01,  1.13961008e-01,  1.25189672e-01,\n",
       "       -2.03643729e-01, -1.73881659e-01, -4.18003486e-01,  1.21377227e-01,\n",
       "        3.67328481e-01, -9.69113354e-02, -5.08821147e-01,  1.18108072e-01,\n",
       "       -8.13103323e-01, -2.51883177e-02,  1.66921608e-01,  1.64762368e-01,\n",
       "       -3.93531759e-01,  9.63141835e-02, -6.94601576e-02, -7.07579222e-02,\n",
       "       -7.63564174e-02,  4.81740506e-04, -3.23808766e-01, -1.93964475e-02,\n",
       "       -9.69939430e-03, -4.71874487e-01,  3.54248133e-01, -7.53594937e-04]),\n",
       "       ...,\n",
       "       array([-0.26839812,  0.21349475,  0.05359074, -0.10015889,  0.02850479,\n",
       "        0.10896598,  0.1765472 ,  0.03767664, -0.01444322, -0.0599176 ,\n",
       "        0.08212851, -0.27110586,  0.0918021 ,  0.00970243, -0.06256485,\n",
       "        0.08940398,  0.26323143, -0.14409154, -0.30243449,  0.09669623,\n",
       "       -0.11941801,  0.10215889,  0.14711067, -0.14575397,  0.14656646,\n",
       "        0.19043003, -0.05870195, -0.27153438, -0.23384705, -0.17263538,\n",
       "       -0.21688488,  0.32149427, -0.07066768, -0.08772022,  0.03574037,\n",
       "        0.3499664 , -0.05782237,  0.13753285, -0.06906914, -0.47763374,\n",
       "       -0.13642828, -0.26790835, -0.18898491, -0.27535138,  0.18589806,\n",
       "       -0.03933091, -0.32589138, -0.27302199,  0.14453548, -0.40620272,\n",
       "        0.06763724, -0.09648732, -0.00267618,  0.65990262, -0.25594705,\n",
       "       -1.52531723, -0.13343918,  0.05510762,  1.12757912,  0.17849219,\n",
       "       -0.00776926,  0.56064391, -0.06838428, -0.13938803,  0.50860642,\n",
       "       -0.18533817,  0.22999477, -0.01616528,  0.16634629, -0.18042102,\n",
       "       -0.19351657,  0.15057286, -0.02353474,  0.07490963, -0.00696966,\n",
       "        0.31479712, -0.14599879, -0.1324438 , -0.36022677,  0.0389477 ,\n",
       "        0.18740171, -0.04783465, -0.19188382,  0.18541491, -0.63096282,\n",
       "       -0.31260531,  0.05927908, -0.07516592, -0.04410318, -0.29338282,\n",
       "        0.14851355,  0.19619309,  0.13703883, -0.06930114, -0.49967967,\n",
       "       -0.18204659,  0.08363675, -0.21869798,  0.51262642,  0.21009236]),\n",
       "       array([-0.15055322,  0.21243791,  0.13168675, -0.03715137, -0.20027246,\n",
       "        0.0858399 , -0.18094677,  0.22260133, -0.16188546,  0.03406054,\n",
       "        0.10023403, -0.02965993,  0.20772412, -0.03487832,  0.04682791,\n",
       "       -0.11475422, -0.07893175,  0.17397535, -0.1367217 , -0.01676588,\n",
       "        0.19577511,  0.00975503, -0.01826156, -0.05361581,  0.14583669,\n",
       "        0.1013283 , -0.2274131 , -0.36203581,  0.1415527 , -0.09214374,\n",
       "       -0.13103084,  0.32626774, -0.08932764, -0.08100201,  0.12704354,\n",
       "        0.14644197, -0.04168108,  0.08854214, -0.02141635, -0.05021394,\n",
       "       -0.13644663, -0.19645577,  0.08336803, -0.34027133, -0.20616733,\n",
       "        0.02676529,  0.05273444, -0.14185455, -0.03341015, -0.62462   ,\n",
       "        0.07649645, -0.00878017, -0.03116224,  0.80617108,  0.01561213,\n",
       "       -1.83606462, -0.00391784, -0.10077273,  1.33834075,  0.29964646,\n",
       "       -0.07253994,  0.47384059, -0.16303126,  0.12919527,  0.50300014,\n",
       "        0.120837  ,  0.19750848,  0.08538446,  0.04175424, -0.23254778,\n",
       "        0.05464158, -0.1540837 ,  0.02310452, -0.18838054,  0.20592031,\n",
       "        0.01699933, -0.25762153, -0.00798073, -0.24187203, -0.08754176,\n",
       "        0.34217306, -0.0176402 , -0.391318  , -0.03816556, -1.06204132,\n",
       "       -0.08322846,  0.17118492,  0.0240005 , -0.13390972, -0.11154178,\n",
       "       -0.15076226, -0.02636394, -0.03926962, -0.01824516, -0.25838172,\n",
       "       -0.06886785,  0.0153185 , -0.30463235,  0.48033328,  0.14366586]),\n",
       "       array([-0.36119287,  0.38882667,  0.06741221, -0.23967107, -0.23950335,\n",
       "        0.12212858,  0.24936519,  0.10251556, -0.07099355, -0.05101632,\n",
       "        0.11487428,  0.08525079,  0.17166921,  0.37424877,  0.04970848,\n",
       "        0.03263506,  0.03366763, -0.01328777, -0.09047476, -0.033771  ,\n",
       "       -0.0034279 ,  0.13569562, -0.06485595, -0.23996793,  0.27814014,\n",
       "        0.50618204, -0.06641532, -0.25529299, -0.12981564, -0.19465313,\n",
       "       -0.12237779,  0.39182694, -0.0515494 , -0.3125086 ,  0.02498365,\n",
       "        0.25364903, -0.06120577,  0.11817035,  0.24370122, -0.3030841 ,\n",
       "        0.11689581, -0.67759455, -0.14847317, -0.42116522, -0.11297529,\n",
       "       -0.07857306, -0.0738225 , -0.03135428, -0.03418595, -0.49191985,\n",
       "       -0.0521519 , -0.10579494,  0.0147785 ,  0.70604195, -0.41933212,\n",
       "       -1.26806103,  0.0060377 ,  0.10245479,  0.73935719,  0.13350954,\n",
       "        0.01811317,  0.56485593, -0.12016591,  0.00882484,  0.54116718,\n",
       "       -0.17858008,  0.32652908,  0.1453127 , -0.12498324, -0.32881273,\n",
       "       -0.14161081, -0.01552621,  0.02359346,  0.09971295,  0.15557252,\n",
       "        0.25858267, -0.23851364, -0.11245347,  0.09432481,  0.14288003,\n",
       "        0.40946772, -0.12775793, -0.44017466,  0.15495412, -0.49989068,\n",
       "       -0.31736571,  0.02671493,  0.09653557,  0.07158489, -0.01965695,\n",
       "       -0.10133671,  0.07523202, -0.20649174, -0.20350113, -0.38491018,\n",
       "       -0.38877073, -0.0638357 , -0.13122142,  0.26800306,  0.25107986])],\n",
       "      dtype=object)"
      ]
     },
     "execution_count": 60,
     "metadata": {},
     "output_type": "execute_result"
    }
   ],
   "source": [
    "X # array inside the array"
   ]
  },
  {
   "cell_type": "code",
   "execution_count": 64,
   "metadata": {},
   "outputs": [],
   "source": [
    "X = np.concatenate(X, axis=0)\n",
    "X = X.reshape(-1,100)"
   ]
  },
  {
   "cell_type": "code",
   "execution_count": 65,
   "metadata": {},
   "outputs": [
    {
     "data": {
      "text/plain": [
       "(10566, 100)"
      ]
     },
     "execution_count": 65,
     "metadata": {},
     "output_type": "execute_result"
    }
   ],
   "source": [
    "X.shape"
   ]
  },
  {
   "cell_type": "code",
   "execution_count": 66,
   "metadata": {},
   "outputs": [],
   "source": [
    "y = df['label']"
   ]
  },
  {
   "cell_type": "code",
   "execution_count": 67,
   "metadata": {},
   "outputs": [
    {
     "data": {
      "text/plain": [
       "((10566, 100), (10566,))"
      ]
     },
     "execution_count": 67,
     "metadata": {},
     "output_type": "execute_result"
    }
   ],
   "source": [
    "X.shape, y.shape"
   ]
  },
  {
   "cell_type": "code",
   "execution_count": 68,
   "metadata": {},
   "outputs": [],
   "source": [
    "dtrain = X[:7395]\n",
    "dtest = X[7395:]\n",
    "\n",
    "target = y[:7395]"
   ]
  },
  {
   "cell_type": "code",
   "execution_count": 85,
   "metadata": {},
   "outputs": [
    {
     "data": {
      "text/plain": [
       "((7395, 100), (7395,))"
      ]
     },
     "execution_count": 85,
     "metadata": {},
     "output_type": "execute_result"
    }
   ],
   "source": [
    "dtrain.shape, target.shape"
   ]
  },
  {
   "cell_type": "code",
   "execution_count": 79,
   "metadata": {},
   "outputs": [],
   "source": [
    "from sklearn.model_selection import train_test_split"
   ]
  },
  {
   "cell_type": "code",
   "execution_count": 86,
   "metadata": {},
   "outputs": [],
   "source": [
    "X_train, X_test, y_train, y_test = train_test_split( dtrain, target, test_size=0.33, random_state=42)"
   ]
  },
  {
   "cell_type": "code",
   "execution_count": 93,
   "metadata": {},
   "outputs": [
    {
     "name": "stdout",
     "output_type": "stream",
     "text": [
      "Name of the model ------- -- R2 score ------------ MSE------------- Time taken\n",
      " KNN                    0.7980335927898402             0.7984408849826139               2\n",
      " XGB                    0.7988529291274068              0.799487144704838               2\n",
      " ADAboost               0.7857435477263417             0.7865244031014416               2\n",
      " DecisionTree             0.7140516181892667             0.7137428699213089               0\n",
      " RandomForest             0.8045882834903728              0.805723067542176               3\n",
      " LogisticRegression             0.8086849651782057             0.8095944971305085               0\n",
      " SVC                    0.8078656288406391             0.8089713077709295               2\n"
     ]
    }
   ],
   "source": [
    "from  datetime import datetime\n",
    "start_time = int(datetime.now().strftime('%H%M%S'))\n",
    "\n",
    "models = []\n",
    "models.append(('KNN', KNeighborsClassifier()))\n",
    "models.append(('XGB',XGBClassifier()))\n",
    "models.append(('ADAboost',AdaBoostClassifier()))\n",
    "models.append(('DecisionTree', DecisionTreeClassifier()))\n",
    "models.append(('RandomForest', RandomForestClassifier()))\n",
    "models.append(('LogisticRegression',LogisticRegression()))\n",
    "models.append(('SVC', SVC()))\n",
    "\n",
    "import time \n",
    "\n",
    "\n",
    "results = []\n",
    "names = []\n",
    "\n",
    "print(f'Name of the model ------- -- R2 score ------------ MSE------------- Time taken')\n",
    "\n",
    "for name, model in models:\n",
    "    model.fit(X_train,y_train)\n",
    "\n",
    "    y_pred = model.predict(X_test)\n",
    "\n",
    "    res = accuracy_score(y_test, y_pred)\n",
    "    res1 = roc_auc_score(y_test, y_pred)\n",
    "     \n",
    "   # mse = mean_squared_error(y_test, y_pred)\n",
    "    #results.append((name,res,mse))\n",
    "    \n",
    "    \n",
    "    current_time = int(datetime.now().strftime('%H%M%S'))\n",
    "    time_taken = current_time - start_time\n",
    "    start_time = current_time \n",
    "    \n",
    "    print( f' {name:10} {res:30} {res1:30} {time_taken:15}' )"
   ]
  },
  {
   "cell_type": "code",
   "execution_count": 94,
   "metadata": {},
   "outputs": [
    {
     "data": {
      "text/plain": [
       "LogisticRegression()"
      ]
     },
     "execution_count": 94,
     "metadata": {},
     "output_type": "execute_result"
    }
   ],
   "source": [
    "lr = LogisticRegression()\n",
    "lr.fit(X_train,y_train)"
   ]
  },
  {
   "cell_type": "code",
   "execution_count": 95,
   "metadata": {},
   "outputs": [],
   "source": [
    "pred = lr.predict(X_test)"
   ]
  },
  {
   "cell_type": "code",
   "execution_count": 96,
   "metadata": {},
   "outputs": [
    {
     "data": {
      "text/plain": [
       "0.8086849651782057"
      ]
     },
     "execution_count": 96,
     "metadata": {},
     "output_type": "execute_result"
    }
   ],
   "source": [
    "accuracy_score(y_test,pred)"
   ]
  },
  {
   "cell_type": "code",
   "execution_count": 97,
   "metadata": {},
   "outputs": [],
   "source": [
    "# preding final test file\n",
    "\n",
    "dpred=lr.predict(dtest)"
   ]
  },
  {
   "cell_type": "code",
   "execution_count": null,
   "metadata": {},
   "outputs": [],
   "source": []
  },
  {
   "cell_type": "code",
   "execution_count": 98,
   "metadata": {},
   "outputs": [],
   "source": [
    "\n",
    "df_sample = pd.read_csv('sampleSubmission_init.csv')\n",
    "df_sample['label'] = np.int64(dpred)\n",
    "df_sample.to_csv('sampleSubmission.csv', index= False)"
   ]
  },
  {
   "cell_type": "code",
   "execution_count": null,
   "metadata": {},
   "outputs": [],
   "source": [
    "model1_prob_pred = lr.predict_proba(X_test)"
   ]
  },
  {
   "cell_type": "code",
   "execution_count": null,
   "metadata": {},
   "outputs": [],
   "source": [
    "lr.classes_"
   ]
  },
  {
   "cell_type": "markdown",
   "metadata": {},
   "source": [
    "## Trying another model not consodering 'boilerplate' feature\n",
    " - only numeric features"
   ]
  },
  {
   "cell_type": "code",
   "execution_count": null,
   "metadata": {},
   "outputs": [],
   "source": [
    "df.dtypes"
   ]
  },
  {
   "cell_type": "code",
   "execution_count": null,
   "metadata": {},
   "outputs": [],
   "source": [
    "df_dummies = pd.get_dummies(df['alchemy_category'], prefix = 'alchemy_category', drop_first=True)\n"
   ]
  },
  {
   "cell_type": "code",
   "execution_count": null,
   "metadata": {},
   "outputs": [],
   "source": [
    "df = pd.concat([df, df_dummies], axis = 1)"
   ]
  },
  {
   "cell_type": "code",
   "execution_count": null,
   "metadata": {},
   "outputs": [],
   "source": [
    "df = df.drop('alchemy_category', axis=1)"
   ]
  },
  {
   "cell_type": "code",
   "execution_count": null,
   "metadata": {},
   "outputs": [],
   "source": [
    "df = df.drop('boilerplate', axis=1)"
   ]
  },
  {
   "cell_type": "code",
   "execution_count": null,
   "metadata": {},
   "outputs": [],
   "source": [
    "dtrain = df.iloc[:7395, :]\n",
    "dtest = df.iloc[7395:,:]\n",
    "y = dtrain.label[:7395]\n",
    "dtrain.drop('label', axis=1, inplace=True)\n",
    "dtest.drop('label', axis=1, inplace=True)\n",
    "X_train, X_test, y_train, y_test = train_test_split(dtrain, y, test_size=0.33, random_state=42)"
   ]
  },
  {
   "cell_type": "code",
   "execution_count": null,
   "metadata": {},
   "outputs": [],
   "source": []
  },
  {
   "cell_type": "code",
   "execution_count": null,
   "metadata": {},
   "outputs": [],
   "source": [
    "dtrain.drop('label', axis=1, inplace=True)\n",
    "dtest.drop('label', axis=1, inplace=True)"
   ]
  },
  {
   "cell_type": "code",
   "execution_count": null,
   "metadata": {},
   "outputs": [],
   "source": [
    "dtrain.shape, dtest.shape, y.shape"
   ]
  },
  {
   "cell_type": "code",
   "execution_count": null,
   "metadata": {},
   "outputs": [],
   "source": [
    "X_train, X_test, y_train, y_test = train_test_split(dtrain, y, test_size=0.33, random_state=42)"
   ]
  },
  {
   "cell_type": "code",
   "execution_count": null,
   "metadata": {},
   "outputs": [],
   "source": [
    "# model\n",
    "\n",
    "print(\"20 Fold CV Score: \", np.mean(cross_val_score(lr, dtrain, y, cv=20, scoring='f1')))"
   ]
  },
  {
   "cell_type": "code",
   "execution_count": null,
   "metadata": {},
   "outputs": [],
   "source": [
    "lr.fit(X_train,y_train)\n",
    "pred = lr.predict(X_test)"
   ]
  },
  {
   "cell_type": "code",
   "execution_count": null,
   "metadata": {},
   "outputs": [],
   "source": [
    "accuracy_score(y_test, pred)"
   ]
  },
  {
   "cell_type": "code",
   "execution_count": null,
   "metadata": {},
   "outputs": [],
   "source": [
    "# it is not bringing much of value"
   ]
  },
  {
   "cell_type": "code",
   "execution_count": null,
   "metadata": {},
   "outputs": [],
   "source": [
    "#lets try removing some features \n"
   ]
  },
  {
   "cell_type": "code",
   "execution_count": null,
   "metadata": {},
   "outputs": [],
   "source": [
    "df.shape"
   ]
  },
  {
   "cell_type": "code",
   "execution_count": null,
   "metadata": {},
   "outputs": [],
   "source": [
    "def correlated_columns(df, thresh):\n",
    "    col_corr = set()\n",
    "    corr = df.corr()\n",
    "    for i in range(corr.shape[0]):\n",
    "        for j in range(i):\n",
    "            if abs(corr.iloc[i,j]) > thresh:\n",
    "                col_corr.add(corr.columns[i])\n",
    "    return col_corr"
   ]
  },
  {
   "cell_type": "code",
   "execution_count": null,
   "metadata": {},
   "outputs": [],
   "source": [
    "feat_remove = correlated_columns(df,0.7)"
   ]
  },
  {
   "cell_type": "code",
   "execution_count": null,
   "metadata": {},
   "outputs": [],
   "source": [
    "df = df.drop(list(feat_remove), axis=1)"
   ]
  },
  {
   "cell_type": "code",
   "execution_count": null,
   "metadata": {},
   "outputs": [],
   "source": [
    "df.drop('urlid', axis=1, inplace=True)"
   ]
  },
  {
   "cell_type": "code",
   "execution_count": null,
   "metadata": {},
   "outputs": [],
   "source": [
    "from sklearn.feature_selection import VarianceThreshold\n",
    "from sklearn.preprocessing import MinMaxScaler"
   ]
  },
  {
   "cell_type": "code",
   "execution_count": null,
   "metadata": {},
   "outputs": [],
   "source": [
    "var_thre = VarianceThreshold(threshold=0.0002)"
   ]
  },
  {
   "cell_type": "code",
   "execution_count": null,
   "metadata": {},
   "outputs": [],
   "source": [
    "var_thre.fit(df)"
   ]
  },
  {
   "cell_type": "code",
   "execution_count": null,
   "metadata": {},
   "outputs": [],
   "source": [
    "var_thre.get_support()"
   ]
  },
  {
   "cell_type": "code",
   "execution_count": null,
   "metadata": {},
   "outputs": [],
   "source": [
    "df.columns[~var_thre.get_support()]"
   ]
  },
  {
   "cell_type": "code",
   "execution_count": null,
   "metadata": {},
   "outputs": [],
   "source": [
    "df.drop('framebased', axis=1, inplace=True)"
   ]
  },
  {
   "cell_type": "code",
   "execution_count": null,
   "metadata": {},
   "outputs": [],
   "source": [
    "df.shape\n"
   ]
  },
  {
   "cell_type": "code",
   "execution_count": null,
   "metadata": {},
   "outputs": [],
   "source": [
    "dtrain = df.iloc[:7395, :]\n",
    "dtest = df.iloc[7395:,:]\n",
    "y = dtrain.label[:7395]\n",
    "dtrain.drop('label', axis=1, inplace=True)\n",
    "dtest.drop('label', axis=1, inplace=True)\n",
    "X_train, X_test, y_train, y_test = train_test_split(dtrain, y, test_size=0.33, random_state=42)"
   ]
  },
  {
   "cell_type": "code",
   "execution_count": null,
   "metadata": {},
   "outputs": [],
   "source": [
    "print(\"20 Fold CV Score: \", np.mean(cross_val_score(lr, dtrain, y, cv=20, scoring='f1')))"
   ]
  },
  {
   "cell_type": "code",
   "execution_count": null,
   "metadata": {},
   "outputs": [],
   "source": [
    "lr.fit(X_train,y_train)\n",
    "pred = lr.predict(X_test)\n",
    "accuracy_score(y_test, pred)"
   ]
  },
  {
   "cell_type": "markdown",
   "metadata": {},
   "source": [
    "## 3rd portion of the problem is html pages. \n"
   ]
  },
  {
   "cell_type": "code",
   "execution_count": null,
   "metadata": {},
   "outputs": [],
   "source": [
    "# lets explore the raw_content folder"
   ]
  },
  {
   "cell_type": "code",
   "execution_count": null,
   "metadata": {},
   "outputs": [],
   "source": [
    "from bs4 import BeautifulSoup\n"
   ]
  },
  {
   "cell_type": "code",
   "execution_count": null,
   "metadata": {},
   "outputs": [],
   "source": [
    "with open('../StumbleUpon Evergreen/raw_content/1', 'r') as fp:\n",
    "    content = fp.read()"
   ]
  },
  {
   "cell_type": "code",
   "execution_count": null,
   "metadata": {},
   "outputs": [],
   "source": [
    "def get_text(content):\n",
    "    soup = BeautifulSoup(content, 'html.parser')\n",
    "    text = soup.getText()\n",
    "    return text"
   ]
  },
  {
   "cell_type": "code",
   "execution_count": null,
   "metadata": {},
   "outputs": [],
   "source": [
    "import os"
   ]
  },
  {
   "cell_type": "code",
   "execution_count": null,
   "metadata": {},
   "outputs": [],
   "source": [
    "text_dict = dict()\n",
    "\n",
    "basep = os.getcwd()+'\\\\raw_content\\\\'\n",
    "for entry in os.listdir(basep):\n",
    "    if os.path.isfile(basep+entry):\n",
    "        with open(basep+entry, 'r', encoding='ISO-8859-1') as fp:\n",
    "            a = fp.read()\n",
    "            text = get_text(a)\n",
    "            text_dict[entry] = text\n",
    "            "
   ]
  },
  {
   "cell_type": "code",
   "execution_count": null,
   "metadata": {},
   "outputs": [],
   "source": [
    "len(text_dict.keys())"
   ]
  },
  {
   "cell_type": "code",
   "execution_count": null,
   "metadata": {},
   "outputs": [],
   "source": [
    "html_data = pd.DataFrame({'URLid':list(text_dict.keys()), 'Text':list(text_dict.values())})"
   ]
  },
  {
   "cell_type": "code",
   "execution_count": null,
   "metadata": {},
   "outputs": [],
   "source": [
    "html_data.URLid= html_data.URLid.astype(np.int32)"
   ]
  },
  {
   "cell_type": "code",
   "execution_count": null,
   "metadata": {},
   "outputs": [],
   "source": [
    "urlid_files = set(html_data.URLid)"
   ]
  },
  {
   "cell_type": "code",
   "execution_count": null,
   "metadata": {},
   "outputs": [],
   "source": [
    "urlid_train = set(df_train.urlid)"
   ]
  },
  {
   "cell_type": "code",
   "execution_count": null,
   "metadata": {},
   "outputs": [],
   "source": [
    "urlid_test = set(df_test.urlid)"
   ]
  },
  {
   "cell_type": "code",
   "execution_count": null,
   "metadata": {},
   "outputs": [],
   "source": [
    "len(urlid_files), len(urlid_test), len(urlid_train)"
   ]
  },
  {
   "cell_type": "code",
   "execution_count": null,
   "metadata": {},
   "outputs": [],
   "source": [
    "len(urlid_files.intersection(urlid_test))"
   ]
  },
  {
   "cell_type": "markdown",
   "metadata": {},
   "source": [
    "## Only few files are available in raw_content folder, it would not help in predicting the classification \n",
    "\n",
    "- files available in folder is for 7192 urls\n",
    "- whereas train has 7395 urls and test has 3171.\n",
    "- ideally all test url should have been in folders. however there are only 2155 test url content available in folder.\n",
    "- predicting for url which content is not available, is not feasible .\n",
    "- only earlier used first and second type of modelling will be used for prediction."
   ]
  },
  {
   "cell_type": "markdown",
   "metadata": {},
   "source": [
    "# With Logistic regression"
   ]
  },
  {
   "cell_type": "code",
   "execution_count": 99,
   "metadata": {},
   "outputs": [],
   "source": [
    "df_train = pd.read_csv('train.tsv', sep=\"\\t\")\n",
    "df_test = pd.read_csv('test.tsv', sep=\"\\t\")"
   ]
  },
  {
   "cell_type": "code",
   "execution_count": 103,
   "metadata": {},
   "outputs": [],
   "source": [
    "l_train = list(df_train.iloc[:,2])\n",
    "l_test = list(df_test.iloc[:,2])"
   ]
  },
  {
   "cell_type": "code",
   "execution_count": 104,
   "metadata": {},
   "outputs": [],
   "source": [
    "y = np.array(df_train.iloc[:,-1])"
   ]
  },
  {
   "cell_type": "code",
   "execution_count": 115,
   "metadata": {},
   "outputs": [],
   "source": [
    "from sklearn.feature_extraction.text import TfidfVectorizer\n",
    "from sklearn.model_selection import cross_val_score"
   ]
  },
  {
   "cell_type": "code",
   "execution_count": 112,
   "metadata": {},
   "outputs": [],
   "source": [
    "tfidf = TfidfVectorizer(min_df=3,  max_features=None, strip_accents='unicode',  \n",
    "        analyzer='word',token_pattern=r'\\w{1,}',ngram_range=(1, 2), use_idf=1,smooth_idf=1,sublinear_tf=1)"
   ]
  },
  {
   "cell_type": "code",
   "execution_count": 118,
   "metadata": {},
   "outputs": [],
   "source": [
    "rd = LogisticRegression(penalty='l2', dual=False, tol=0.0001, \n",
    "                             C=1, fit_intercept=True, intercept_scaling=1.0, \n",
    "                             class_weight=None, random_state=None)"
   ]
  },
  {
   "cell_type": "code",
   "execution_count": 111,
   "metadata": {},
   "outputs": [],
   "source": [
    "X_all = l_train + l_test\n",
    "lentrain = len(l_train)"
   ]
  },
  {
   "cell_type": "code",
   "execution_count": 113,
   "metadata": {},
   "outputs": [],
   "source": [
    "X_all= tfidf.fit_transform(X_all)"
   ]
  },
  {
   "cell_type": "code",
   "execution_count": 114,
   "metadata": {},
   "outputs": [],
   "source": [
    "X = X_all[:lentrain]\n",
    "X_test = X_all[lentrain:]"
   ]
  },
  {
   "cell_type": "code",
   "execution_count": 119,
   "metadata": {},
   "outputs": [
    {
     "name": "stdout",
     "output_type": "stream",
     "text": [
      "20 Fold CV Score:  0.877100060742241\n"
     ]
    }
   ],
   "source": [
    "print( \"20 Fold CV Score: \", np.mean(cross_val_score(rd, X, y, cv=20, scoring='roc_auc')))\n"
   ]
  },
  {
   "cell_type": "code",
   "execution_count": 120,
   "metadata": {},
   "outputs": [
    {
     "data": {
      "text/plain": [
       "LogisticRegression(C=1, intercept_scaling=1.0)"
      ]
     },
     "execution_count": 120,
     "metadata": {},
     "output_type": "execute_result"
    }
   ],
   "source": [
    "rd.fit(X,y)\n"
   ]
  },
  {
   "cell_type": "code",
   "execution_count": 125,
   "metadata": {},
   "outputs": [],
   "source": [
    "pred = rd.predict(X_test)\n"
   ]
  },
  {
   "cell_type": "code",
   "execution_count": 126,
   "metadata": {},
   "outputs": [],
   "source": [
    "df_sample = pd.read_csv('sampleSubmission_init.csv')\n",
    "df_sample['label'] = np.int64(pred)\n",
    "df_sample.to_csv('sampleSubmission.csv', index= False)"
   ]
  },
  {
   "cell_type": "markdown",
   "metadata": {},
   "source": [
    "# Accuracy is 87.71%"
   ]
  },
  {
   "cell_type": "code",
   "execution_count": null,
   "metadata": {},
   "outputs": [],
   "source": []
  }
 ],
 "metadata": {
  "kernelspec": {
   "display_name": "Python 3",
   "language": "python",
   "name": "python3"
  },
  "language_info": {
   "codemirror_mode": {
    "name": "ipython",
    "version": 3
   },
   "file_extension": ".py",
   "mimetype": "text/x-python",
   "name": "python",
   "nbconvert_exporter": "python",
   "pygments_lexer": "ipython3",
   "version": "3.7.9"
  }
 },
 "nbformat": 4,
 "nbformat_minor": 4
}
